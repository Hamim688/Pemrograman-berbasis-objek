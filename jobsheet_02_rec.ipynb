{
 "cells": [
  {
   "cell_type": "markdown",
   "id": "f740886d",
   "metadata": {},
   "source": [
    "### Praktikum 1: Membuat dan menggunakan fungsi"
   ]
  },
  {
   "cell_type": "code",
   "execution_count": 6,
   "id": "5cc0dd47",
   "metadata": {},
   "outputs": [
    {
     "name": "stdout",
     "output_type": "stream",
     "text": [
      "Ini adalah contoh fungsi Built-in\n",
      "\n",
      "Panjang kata 'Pemrograman' adalah = 11\n",
      "\n",
      "Nilai maximum pada angka [10, 5, 30, 40, 25] adalah = 40\n",
      "\n",
      "Kuadrat dari 5 adalah = 25\n",
      "\n",
      "Luas persegi panjang : 50\n",
      "Nama : Adit, Umur : 19, IPK : 3.5\n",
      "Hallo Danis! selamat datang di dunia python\n",
      "Keliling persegi dengan sisi 5 adalah 20\n"
     ]
    }
   ],
   "source": [
    "# Fungsi Built-in\n",
    "print(\"Ini adalah contoh fungsi Built-in\\n\")\n",
    "\n",
    "# fungsi len()\n",
    "kata = \"Pemrograman\"\n",
    "panjang_kata = len(kata)\n",
    "print(f\"Panjang kata '{kata}' adalah = {panjang_kata}\\n\")\n",
    "\n",
    "# fungsi max()\n",
    "angka = [10, 5, 30, 40, 25]\n",
    "nilai_max = max(angka)\n",
    "print(f\"Nilai maximum pada angka {angka} adalah = {nilai_max}\\n\")\n",
    "\n",
    "# Fungsi user defined\n",
    "def cetak_kuadrat(angka):\n",
    "    print(f\"Kuadrat dari {angka} adalah = {angka ** 2}\\n\")\n",
    "\n",
    "# Fungsi dengan beberapa perameter\n",
    "def hitung_luas_persegi_panjang(panjang, lebar):\n",
    "    return panjang * lebar\n",
    "\n",
    "# fungsi dengan beberapa tipe perameter\n",
    "def info_mahasiswa(nama, umur, ipk):\n",
    "    print(f\"Nama : {nama}, Umur : {umur}, IPK : {ipk}\")\n",
    "\n",
    "# Fungsi tanpa return value\n",
    "def sapa_pengguna(nama):\n",
    "    print(f\"Hallo {nama}! selamat datang di dunia python\")\n",
    "\n",
    "# Fungsi dengan return value\n",
    "def hitung_keliling_persegi(sisi):\n",
    "    return sisi * 4\n",
    "\n",
    "# Pemanggilan fungsi dengan satu parameter\n",
    "cetak_kuadrat(5)\n",
    "\n",
    "# Pemanggilan fungsi dengan beberapa parameter\n",
    "luas = hitung_luas_persegi_panjang(10, 5)\n",
    "print(f\"Luas persegi panjang : {luas}\")\n",
    "\n",
    "# Pemanggilan fungsi dengan beberapa tipe parameter\n",
    "info_mahasiswa(\"Adit\", 19, 3.5)\n",
    "\n",
    "# Pemanggilan fungsi tanpa return value\n",
    "sapa_pengguna(\"Danis\")\n",
    "\n",
    "# Pemanggilan fungsi dengan return value\n",
    "keliling = hitung_keliling_persegi(5)\n",
    "print(f\"Keliling persegi dengan sisi 5 adalah {keliling}\")"
   ]
  },
  {
   "cell_type": "markdown",
   "id": "0c3f2f14",
   "metadata": {},
   "source": [
    "Praktikum 2: Modularisasi kode ke fungsi"
   ]
  },
  {
   "cell_type": "code",
   "execution_count": 7,
   "id": "331101b1",
   "metadata": {},
   "outputs": [
    {
     "name": "stdout",
     "output_type": "stream",
     "text": [
      "Luas pesegi dengan sisi 5 adalah : 25\n",
      "Luas pesegi dengan panjang 10 lebar 5 adalah : 50\n",
      "Luas pesegi dengan jari jari 7 adalah : 153.86\n"
     ]
    }
   ],
   "source": [
    "import geometri\n",
    "\n",
    "def main():\n",
    "    luas_persegi = geometri.hitung_luas_persegi(5)\n",
    "    print(f\"Luas pesegi dengan sisi 5 adalah : {luas_persegi}\")\n",
    "\n",
    "    luas_persegi_panjang = geometri.hitung_luas_persegi_panjang(10, 5)\n",
    "    print(f\"Luas pesegi dengan panjang 10 lebar 5 adalah : {luas_persegi_panjang}\")\n",
    "\n",
    "    luas_lingkaran = geometri.hitung_luas_lingkaran(7)\n",
    "    print(f\"Luas pesegi dengan jari jari 7 adalah : {luas_lingkaran}\")\n",
    "\n",
    "if __name__ == \"__main__\":\n",
    "    main()"
   ]
  },
  {
   "cell_type": "markdown",
   "id": "5fa54487",
   "metadata": {},
   "source": [
    "### Praktikum 3 : Membuat kelas sederhana"
   ]
  },
  {
   "cell_type": "code",
   "execution_count": 12,
   "id": "6007fae3",
   "metadata": {},
   "outputs": [
    {
     "name": "stdout",
     "output_type": "stream",
     "text": [
      "Judul = pemrograman python\n",
      "Pengarang = John Doe\n",
      "Tahun Terbit = 2021\n",
      "Status = Tersedia\n",
      "Buku Data Science untuk Pemula telah dipinjam\n",
      "Buku Data Science untuk Pemula telah dikembalikan\n",
      "Buku pemrograman python telah dipinjam\n",
      "Judul = pemrograman python\n",
      "Pengarang = John Doe\n",
      "Tahun Terbit = 2021\n",
      "Status = Dipinjam\n",
      "\n",
      "\n",
      "\n",
      "Nama = Andi\n",
      "NIM = 12456\n",
      "Umur = 22\n",
      "\n",
      "Nama = Budi\n",
      "NIM = 67891\n",
      "Umur = 20\n",
      "\n",
      "Setelah mengubah umur mahasiswa 1:\n",
      "Nama = Andi\n",
      "NIM = 12456\n",
      "Umur = 21\n"
     ]
    }
   ],
   "source": [
    "class Buku:\n",
    "    def __init__(self, judul, pengarang, tahun_terbit):\n",
    "        self.judul = judul\n",
    "        self.pengarang = pengarang\n",
    "        self.tahun_terbit = tahun_terbit\n",
    "        self.status = \"Tersedia\"\n",
    "\n",
    "    def tampilkan_info(self):\n",
    "        print(f\"Judul = {self.judul}\")\n",
    "        print(f\"Pengarang = {self.pengarang}\")\n",
    "        print(f\"Tahun Terbit = {self.tahun_terbit}\")\n",
    "        print(f\"Status = {self.status}\")\n",
    "\n",
    "    def pinjam(self):\n",
    "        if self.status == \"Tersedia\":\n",
    "            self.status = \"Dipinjam\"\n",
    "            print(f\"Buku {self.judul} telah dipinjam\")\n",
    "        else :\n",
    "            print(f\"Buku {self.judul} sedang dipinjam\")\n",
    "\n",
    "    def kembalikan(self):\n",
    "        if self.status == \"Dipinjam\":\n",
    "            self.status = \"Tersedia\"\n",
    "            print(f\"Buku {self.judul} telah dikembalikan\")\n",
    "        else :\n",
    "            print(f\"Buku {self.judul} tidak sedang dipinjam\")\n",
    "\n",
    "buku1 = Buku(\"pemrograman python\", \"John Doe\", 2021)\n",
    "buku2 = Buku(\"Data Science untuk Pemula\", \"Jane Smith\", 2020)\n",
    "\n",
    "buku1.tampilkan_info()\n",
    "buku2.pinjam()\n",
    "\n",
    "buku2.kembalikan()\n",
    "buku1.pinjam()\n",
    "buku1.tampilkan_info()\n",
    "print(\"\\n\\n\")\n",
    "\n",
    "class Mahasiswa:\n",
    "    def __init__(self, nama, nim, umur):\n",
    "        self.nama = nama\n",
    "        self.nim = nim\n",
    "        self.umur = umur\n",
    "\n",
    "    def tampilkan_info(self):\n",
    "        print(f\"Nama = {self.nama}\")\n",
    "        print(f\"NIM = {self.nim}\")\n",
    "        print(f\"Umur = {self.umur}\")\n",
    "\n",
    "    def ubah_umur(self, umur_baru):\n",
    "        self.umur = umur_baru\n",
    "\n",
    "mahasiswa1 = Mahasiswa(\"Andi\", 12456, 22)\n",
    "mahasiswa2 = Mahasiswa(\"Budi\", 67891, 20)\n",
    "\n",
    "mahasiswa1.tampilkan_info()\n",
    "print()\n",
    "mahasiswa2.tampilkan_info()\n",
    "\n",
    "mahasiswa1.ubah_umur(21)\n",
    "\n",
    "print(\"\\nSetelah mengubah umur mahasiswa 1:\")\n",
    "mahasiswa1.tampilkan_info()\n",
    "\n",
    "\n"
   ]
  },
  {
   "cell_type": "markdown",
   "id": "ae51a568",
   "metadata": {},
   "source": [
    "### Praktikum 4 : Membuat dan menggunakan method dalam kelas"
   ]
  },
  {
   "cell_type": "code",
   "execution_count": 14,
   "id": "7092c66c",
   "metadata": {},
   "outputs": [
    {
     "name": "stdout",
     "output_type": "stream",
     "text": [
      "Mobil Toyota berwarna Merah keluaran tahun 2015 dengan harga Rp. 300000000\n",
      "Mobil Honda berwarna Hitam keluaran tahun 2018 dengan harga Rp. 200000000\n",
      "Harga setelah diskon 10% : 270000000.0\n",
      "Harga setelah diskon 15% : 170000000.0\n",
      "Usia mobil1 pada tahun 2025: 10 tahun\n",
      "Usia mobil2 pada tahun 2025: 7 tahun\n",
      "Harga dan tahun mobil Toyota diperbarui menjadi Rp. 400000000 dan tahun 2022\n",
      "Harga dan tahun mobil Honda diperbarui menjadi Rp. 300000000 dan tahun 2021\n"
     ]
    }
   ],
   "source": [
    "class Mobil :\n",
    "    def __init__(self, merk, warna, tahun, harga):\n",
    "        self.merk = merk\n",
    "        self.warna = warna\n",
    "        self.tahun = tahun\n",
    "        self.harga = harga\n",
    "\n",
    "    def tampilkan_info(self):\n",
    "        print(f\"Mobil {self.merk} berwarna {self.warna} keluaran tahun {self.tahun} dengan harga Rp. {self.harga}\")\n",
    "\n",
    "    def diskon(self, persen_diskon):\n",
    "        diskon_harga = self.harga * (persen_diskon / 100)\n",
    "        harga_setelah_diskon = self.harga - diskon_harga\n",
    "        print(f\"Harga setelah diskon {persen_diskon}% : {harga_setelah_diskon}\")\n",
    "\n",
    "    def hitung_usia(self, tahun_sekarang):\n",
    "        usia = tahun_sekarang - self.tahun\n",
    "        return usia\n",
    "    \n",
    "    def perbarui_harga(self, harga_baru, tahun_baru):\n",
    "        self.harga_baru = harga_baru\n",
    "        self.tahun_baru = tahun_baru\n",
    "        print(f\"Harga dan tahun mobil {self.merk} diperbarui menjadi Rp. {self.harga_baru} dan tahun {self.tahun_baru}\")\n",
    "\n",
    "mobil1 = Mobil(\"Toyota\", \"Merah\", 2015, 300000000)\n",
    "mobil2 = Mobil(\"Honda\", \"Hitam\", 2018, 200000000)\n",
    "\n",
    "mobil1.tampilkan_info()\n",
    "mobil2.tampilkan_info()\n",
    "\n",
    "mobil1.diskon(10)\n",
    "mobil2.diskon(15)\n",
    "\n",
    "usia_mobil1 = mobil1.hitung_usia(2025)\n",
    "usia_mobil2 = mobil2.hitung_usia(2025)\n",
    "\n",
    "print(f\"Usia mobil1 pada tahun 2025: {usia_mobil1} tahun\")\n",
    "print(f\"Usia mobil2 pada tahun 2025: {usia_mobil2} tahun\")\n",
    "\n",
    "mobil1.perbarui_harga(400000000, 2022)\n",
    "mobil2.perbarui_harga(300000000, 2021)\n"
   ]
  }
 ],
 "metadata": {
  "kernelspec": {
   "display_name": "base",
   "language": "python",
   "name": "python3"
  },
  "language_info": {
   "codemirror_mode": {
    "name": "ipython",
    "version": 3
   },
   "file_extension": ".py",
   "mimetype": "text/x-python",
   "name": "python",
   "nbconvert_exporter": "python",
   "pygments_lexer": "ipython3",
   "version": "3.12.3"
  }
 },
 "nbformat": 4,
 "nbformat_minor": 5
}
