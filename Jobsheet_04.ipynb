{
  "nbformat": 4,
  "nbformat_minor": 0,
  "metadata": {
    "colab": {
      "provenance": [],
      "authorship_tag": "ABX9TyP1xrOQfGeZ7MmN8MM1mfd9",
      "include_colab_link": true
    },
    "kernelspec": {
      "name": "python3",
      "display_name": "Python 3"
    },
    "language_info": {
      "name": "python"
    }
  },
  "cells": [
    {
      "cell_type": "markdown",
      "metadata": {
        "id": "view-in-github",
        "colab_type": "text"
      },
      "source": [
        "<a href=\"https://colab.research.google.com/github/Hamim688/Pemrograman-berbasis-objek/blob/main/Jobsheet_04.ipynb\" target=\"_parent\"><img src=\"https://colab.research.google.com/assets/colab-badge.svg\" alt=\"Open In Colab\"/></a>"
      ]
    },
    {
      "cell_type": "markdown",
      "source": [
        "JOBSHEET 04"
      ],
      "metadata": {
        "id": "QUuZmvtmdHEL"
      }
    },
    {
      "cell_type": "markdown",
      "source": [
        "Praktikum 1 : Inheritance Dasar"
      ],
      "metadata": {
        "id": "gPpYi9p3dPOA"
      }
    },
    {
      "cell_type": "code",
      "source": [
        "# Kelas Induk\n",
        "class Kendaraan:\n",
        "  def __inir__(self, merk) :\n",
        "    self.merk = merk\n",
        "  def mulai_mesin(self):\n",
        "    print(f\"Mesin Kendaraan {self.merk} dinyalakan.\")\n",
        "\n",
        "# Kelas Anak (mewarisi dari Kendaraan)\n",
        "class Mobil(Kendaraan):\n",
        "  def __init__(self, merk, warna):\n",
        "    #Memanggil __init__ kalas induk (akan di bahas di praktikum 2)\n",
        "    #Untuk sekarang, kita set merk secara manual\n",
        "    self.merk = merk # Mewarisi 'merk' tapi di-set ulang di sini\n",
        "    self.warna = warna # Atribut kusus mobil\n",
        "  def info_mobil(self):\n",
        "    print(f\"Ini adalah mobil {self.merk} berwarna {self.warna}.\")\n",
        "\n",
        "# ----Kode utama -----\n",
        "if __name__ == \"__main__\":\n",
        "  mobil_tesla = Mobil(\"Tesla Model S\", \"Merah\")\n",
        "\n",
        "  #Memanggil metode dari kelas anak\n",
        "  mobil_tesla.info_mobil()\n",
        "\n",
        "  #Memanggil metode yang diwarisi dari kelas induk\n",
        "  mobil_tesla.mulai_mesin()\n",
        "\n",
        "  #Mengakses atribut yang diwarisi (dan di-set di anak)\n",
        "  print(f\"Merk Mobil Tesla: {mobil_tesla.merk}\")"
      ],
      "metadata": {
        "id": "EVd49QCFdOMw",
        "outputId": "382324f4-9c1a-40a1-ab11-08a750763976",
        "colab": {
          "base_uri": "https://localhost:8080/"
        }
      },
      "execution_count": 2,
      "outputs": [
        {
          "output_type": "stream",
          "name": "stdout",
          "text": [
            "Ini adalah mobil Tesla Model S berwarna Merah.\n",
            "Mesin Kendaraan Tesla Model S dinyalakan.\n",
            "Merk Mobil Tesla: Tesla Model S\n"
          ]
        }
      ]
    },
    {
      "cell_type": "markdown",
      "source": [
        "Praktikum 02 : Menggunakan super() dalam konstruktor"
      ],
      "metadata": {
        "id": "iOm3YDSKgNmI"
      }
    },
    {
      "cell_type": "code",
      "source": [
        "# kelas induk\n",
        "class Person:\n",
        "  def __init__(self, nama, usia):\n",
        "    print(f\"(Memanggil __init__ person untuk '{nama}')\")\n",
        "    self.nama = nama\n",
        "    self.usia = usia\n",
        "\n",
        "  def perkenalkan_diri(self):\n",
        "    print(f\"Halo, nama saya {self.nama}, usia saya {self.usia} tahun.\")\n",
        "\n",
        "#Kelas anak (mewarisi dari person)\n",
        "class Student(Person):\n",
        "  def __init__(self, nama, usia, student_id, jurusan):\n",
        "    print(f\"(Memanggil __init__ Student untuk '{nama}')\")\n",
        "    # Memanggil __init__ dari kelas person untuk inisialisasi nama dan usia\n",
        "    super().__init__(nama, usia)\n",
        "    # Menambahkan atribut khusus student\n",
        "    self.student_id = student_id\n",
        "    self.jurusan = jurusan\n",
        "    print(f\"(Inisialisasi atribut Student selesai untuk '{nama}')\")\n",
        "\n",
        "  def info_akademik(self):\n",
        "    print(f\"ID Mahasiswa: {self.student_id}\")\n",
        "    print(f\"Jurusan: {self.jurusan}\")\n",
        "\n",
        "  # Override perkenalkan diri untuk menambahkan info student\n",
        "  def perkenalkan_diri(self):\n",
        "    super().perkenalkan_diri() # Panggil versi person\n",
        "    print(f\"Saya adalah mahasiswa dengan ID {self.student_id}, Jurusan {self.jurusan}. \")\n",
        "\n",
        "  # ---- Kode Utama ----\n",
        "  if __name__ == \"__main__\":\n",
        "    # Membuat objek Person\n",
        "    dosen = Person(\"Pak Anton\", 45)\n",
        "    print(\"-\"*20)\n",
        "    dosen.perkenalkan_diri()\n",
        "    print(\"\\n\" + \"=\" * 30 + \"\\n\")\n",
        "\n",
        "    #Membuat objek student\n",
        "    mahasiswa = Student(\"JAMALL\", 20, \"MHS001\", \"Teknik Komputer\")\n",
        "    print(\"-\"*20)\n",
        "    mahasiswa.perkenalkan_diri() # Panggil versi override di student\n",
        "    print(\"-\"*20)\n",
        "    mahasiswa.info_akademik() # Panggil metode khusus Student\n",
        "\n",
        "    # Cek atribut yang diwarisi\n",
        "    print(f\"\\nUsia mahasiswa {mahasiswa.nama} : {mahasiswa.usia}\") #Usia diwarisi dari Person\n",
        "\n"
      ],
      "metadata": {
        "id": "2JlLBUj8gDPJ",
        "outputId": "edd26fab-4852-4928-e857-3f3f52b9c207",
        "colab": {
          "base_uri": "https://localhost:8080/"
        }
      },
      "execution_count": 13,
      "outputs": [
        {
          "output_type": "stream",
          "name": "stdout",
          "text": [
            "(Memanggil __init__ person untuk 'Pak Anton')\n",
            "--------------------\n",
            "Halo, nama saya Pak Anton, usia saya 45 tahun.\n",
            "\n",
            "==============================\n",
            "\n",
            "(Memanggil __init__ Student untuk 'JAMALL')\n",
            "(Memanggil __init__ person untuk 'JAMALL')\n",
            "(Inisialisasi atribut Student selesai untuk 'JAMALL')\n",
            "--------------------\n",
            "Halo, nama saya JAMALL, usia saya 20 tahun.\n",
            "Saya adalah mahasiswa dengan ID MHS001, Jurusan Teknik Komputer. \n",
            "--------------------\n",
            "ID Mahasiswa: MHS001\n",
            "Jurusan: Teknik Komputer\n",
            "\n",
            "Usia mahasiswa JAMALL : 20\n"
          ]
        }
      ]
    },
    {
      "cell_type": "markdown",
      "source": [
        "Praktikum 03:Method overriding dan super()"
      ],
      "metadata": {
        "id": "GHyR9WiZrmEa"
      }
    },
    {
      "cell_type": "code",
      "source": [
        "# Kelas induk\n",
        "class Hewan:\n",
        "  def __init__(self, nama):\n",
        "    self.nama = nama\n",
        "\n",
        "  def bersuara(self):\n",
        "    print(f\"{self.nama} mengeluarkan suara generik.\")\n",
        "\n",
        "  def tampilkan_info(self):\n",
        "    print(f\"Ini adalah hewan bernama {self.nama}.\")\n",
        "\n",
        "# Kelas Anak\n",
        "class Kucing(Hewan):\n",
        "  def __init__(self, nama, ras):\n",
        "    super().__init__(nama) #Panggil init induk\n",
        "    self.ras = ras\n",
        "\n",
        "  #Method overriding untuk bersuara\n",
        "  def bersuara(self):\n",
        "    print(f\"{self.nama} (kucing) mengeong: Meow! Rawrr!!!\")\n",
        "\n",
        "  #Method Overriding untuk tampilkan_info, Memanggil versi induk\n",
        "  def tampilkan_info(self):\n",
        "    super().tampilkan_info() # Panggil implementasi dari hewan\n",
        "    print(f\"Ini adalah kucing ras {self.ras}.\") # Tambahkan info\n",
        "\n",
        "#---- Kode Utama ----\n",
        "if __name__ == \"__main__\":\n",
        "  hewan_umum = Hewan(\"Makhluk\")\n",
        "  kucing_persia = Kucing(\"Puspus\", \"Persia\")\n",
        "\n",
        "  print(\"Info Hewan Umum:\")\n",
        "  hewan_umum.tampilkan_info()\n",
        "  hewan_umum.bersuara()\n",
        "  print(\"-\"*20)\n",
        "\n",
        "  print(\"Info Kucing Persia:\")\n",
        "  kucing_persia.tampilkan_info() # Akan Memanggil versi kucing\n",
        "  kucing_persia.bersuara() #Akan memanggil versi kucing"
      ],
      "metadata": {
        "id": "bTiYmkVXmj11",
        "outputId": "3af5af22-b59a-44a2-d0a2-c297df5137e4",
        "colab": {
          "base_uri": "https://localhost:8080/"
        }
      },
      "execution_count": 15,
      "outputs": [
        {
          "output_type": "stream",
          "name": "stdout",
          "text": [
            "Info Hewan Umum:\n",
            "Ini adalah hewan bernama Makhluk.\n",
            "Makhluk mengeluarkan suara generik.\n",
            "--------------------\n",
            "Info Kucing Persia:\n",
            "Ini adalah hewan bernama Puspus.\n",
            "Ini adalah kucing ras Persia.\n",
            "Puspus (kucing) mengeong: Meow! Rawrr!!!\n"
          ]
        }
      ]
    },
    {
      "cell_type": "markdown",
      "source": [
        "Praktikum 04: Multi-Level inheritance (Pewarisan bertingkat)"
      ],
      "metadata": {
        "id": "Q1gDYPiav_fO"
      }
    },
    {
      "cell_type": "code",
      "source": [
        "# Kelas Induk Level 1\n",
        "class Organisme:\n",
        "  def __init__(self, nama):\n",
        "    self.nama = nama\n",
        "    print(f\"Organisme '{self.nama}' diciptakan.\")\n",
        "\n",
        "  def bernapas(self):\n",
        "    print(f\"{self.nama} sedang bernapas.\")\n",
        "\n",
        "# Kelas Anak Level 1 (mewarisi dari organisme)\n",
        "class Hewan(Organisme):\n",
        "  def __init__ (self, nama, jenis_makanan, jumlah_kaki):\n",
        "    super().__init__(nama) # Panggil init Organisme\n",
        "    self.jenis_makanan = jenis_makanan\n",
        "    self.jumlah_kaki = jumlah_kaki\n",
        "    print(f\"Hewan '{self.nama} adalah {self.jenis_makanan}.\")\n",
        "\n",
        "  def bergerak(self):\n",
        "    print(f\"{self.nama} sedang bergerak.\")\n",
        "\n",
        "# Kelas Anak Level 2 (Mewarisi dari hewan)\n",
        "class Mamalia(Hewan):\n",
        "  def __init__(self, nama, jenis_makanan, jumlah_kaki):\n",
        "    super().__init__(nama, jenis_makanan, jumlah_kaki) # Panggil init hewan\n",
        "    self.jumlah_kaki = jumlah_kaki\n",
        "    print(f\"Mamalia '{self.nama} memiliki {self.jumlah_kaki} kaki.\")\n",
        "\n",
        "  def menyusui(self):\n",
        "    print(f\"{self.nama} sedang menyusui.\")\n",
        "\n",
        "# ---- Kode Utama ----\n",
        "if __name__ == \"__main__\":\n",
        "  kucing = Mamalia(\"kucing Persia\", \"Karnivora\", 4)\n",
        "  print(\"-\"*20)\n",
        "\n",
        "  #Memanggil metode dari kelas mamalia\n",
        "  kucing.menyusui()\n",
        "\n",
        "  #Memanggil metode yang diwarisi dari kelas hewan\n",
        "  kucing.bergerak()\n",
        "  print(f\"jenis makanan: {kucing.jenis_makanan}\")\n",
        "\n",
        "  #memanggil metode yang diwarisi dari kelas organisme\n",
        "  kucing.bernapas()\n",
        "  print(f\"Nama organisme: {kucing.nama}\")"
      ],
      "metadata": {
        "id": "OlDfLiMavqLZ",
        "outputId": "46db8bc0-9368-43e7-ce30-b4b087271b59",
        "colab": {
          "base_uri": "https://localhost:8080/"
        }
      },
      "execution_count": 29,
      "outputs": [
        {
          "output_type": "stream",
          "name": "stdout",
          "text": [
            "Organisme 'kucing Persia' diciptakan.\n",
            "Hewan 'kucing Persia adalah Karnivora.\n",
            "Mamalia 'kucing Persia memiliki 4 kaki.\n",
            "--------------------\n",
            "kucing Persia sedang menyusui.\n",
            "kucing Persia sedang bergerak.\n",
            "jenis makanan: Karnivora\n",
            "kucing Persia sedang bernapas.\n",
            "Nama organisme: kucing Persia\n"
          ]
        }
      ]
    },
    {
      "cell_type": "markdown",
      "source": [
        "Praktikum 05 : Hierarchical Inheritance"
      ],
      "metadata": {
        "id": "hi0GCuDr6iOJ"
      }
    },
    {
      "cell_type": "code",
      "source": [
        "import locate\n",
        "\n",
        "# set locate ke Indonesia untuk format mata uang\n",
        "try:\n",
        "  locate.setlocate(locate.LC_ALL, 'id_ID.UTF-8')\n",
        "except locate.Error:\n",
        "  print"
      ],
      "metadata": {
        "id": "Z5lXGAyR1Eh5"
      },
      "execution_count": null,
      "outputs": []
    }
  ]
}