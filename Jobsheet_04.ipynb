{
  "nbformat": 4,
  "nbformat_minor": 0,
  "metadata": {
    "colab": {
      "provenance": [],
      "authorship_tag": "ABX9TyOmjhlV4acDnkpIFz/A+5x1",
      "include_colab_link": true
    },
    "kernelspec": {
      "name": "python3",
      "display_name": "Python 3"
    },
    "language_info": {
      "name": "python"
    }
  },
  "cells": [
    {
      "cell_type": "markdown",
      "metadata": {
        "id": "view-in-github",
        "colab_type": "text"
      },
      "source": [
        "<a href=\"https://colab.research.google.com/github/Hamim688/Pemrograman-berbasis-objek/blob/main/Jobsheet_04.ipynb\" target=\"_parent\"><img src=\"https://colab.research.google.com/assets/colab-badge.svg\" alt=\"Open In Colab\"/></a>"
      ]
    },
    {
      "cell_type": "markdown",
      "source": [
        "JOBSHEET 04"
      ],
      "metadata": {
        "id": "QUuZmvtmdHEL"
      }
    },
    {
      "cell_type": "markdown",
      "source": [
        "Praktikum 1 : Inheritance Dasar"
      ],
      "metadata": {
        "id": "gPpYi9p3dPOA"
      }
    },
    {
      "cell_type": "code",
      "source": [
        "# Kelas Induk\n",
        "class Kendaraan:\n",
        "  def __init__(self, merk) :\n",
        "    self.merk = merk\n",
        "  def mulai_mesin(self):\n",
        "    print(f\"Mesin Kendaraan {self.merk} dinyalakan.\")\n",
        "\n",
        "# Kelas Anak (mewarisi dari Kendaraan)\n",
        "class Mobil(Kendaraan):\n",
        "  def __init__(self, merk, warna):\n",
        "    #Memanggil __init__ kalas induk (akan di bahas di praktikum 2)\n",
        "    #Untuk sekarang, kita set merk secara manual\n",
        "    self.merk = merk # Mewarisi 'merk' tapi di-set ulang di sini\n",
        "    self.warna = warna # Atribut kusus mobil\n",
        "  def info_mobil(self):\n",
        "    print(f\"Ini adalah mobil {self.merk} berwarna {self.warna}.\")\n",
        "\n",
        "# ----Kode utama -----\n",
        "if __name__ == \"__main__\":\n",
        "  mobil_tesla = Mobil(\"Tesla Model S\", \"Merah\")\n",
        "\n",
        "  #Memanggil metode dari kelas anak\n",
        "  mobil_tesla.info_mobil()\n",
        "\n",
        "  #Memanggil metode yang diwarisi dari kelas induk\n",
        "  mobil_tesla.mulai_mesin()\n",
        "\n",
        "  #Mengakses atribut yang diwarisi (dan di-set di anak)\n",
        "  print(f\"Merk Mobil Tesla: {mobil_tesla.merk}\")"
      ],
      "metadata": {
        "id": "EVd49QCFdOMw",
        "outputId": "fe05c374-955b-4c9e-fa20-a08138020a1e",
        "colab": {
          "base_uri": "https://localhost:8080/"
        }
      },
      "execution_count": 1,
      "outputs": [
        {
          "output_type": "stream",
          "name": "stdout",
          "text": [
            "Ini adalah mobil Tesla Model S berwarna Merah.\n",
            "Mesin Kendaraan Tesla Model S dinyalakan.\n",
            "Merk Mobil Tesla: Tesla Model S\n"
          ]
        }
      ]
    },
    {
      "cell_type": "markdown",
      "source": [
        "Praktikum 02 : Menggunakan super() dalam konstruktor"
      ],
      "metadata": {
        "id": "iOm3YDSKgNmI"
      }
    },
    {
      "cell_type": "code",
      "source": [
        "# kelas induk\n",
        "class Person:\n",
        "  def __init__(self, nama, usia):\n",
        "    print(f\"(Memanggil __init__ person untuk '{nama}')\")\n",
        "    self.nama = nama\n",
        "    self.usia = usia\n",
        "\n",
        "  def perkenalkan_diri(self):\n",
        "    print(f\"Halo, nama saya {self.nama}, usia saya {self.usia} tahun.\")\n",
        "\n",
        "#Kelas anak (mewarisi dari person)\n",
        "class Student(Person):\n",
        "  def __init__(self, nama, usia, student_id, jurusan):\n",
        "    print(f\"(Memanggil __init__ Student untuk '{nama}')\")\n",
        "    # Memanggil __init__ dari kelas person untuk inisialisasi nama dan usia\n",
        "    super().__init__(nama, usia)\n",
        "    # Menambahkan atribut khusus student\n",
        "    self.student_id = student_id\n",
        "    self.jurusan = jurusan\n",
        "    print(f\"(Inisialisasi atribut Student selesai untuk '{nama}')\")\n",
        "\n",
        "  def info_akademik(self):\n",
        "    print(f\"ID Mahasiswa: {self.student_id}\")\n",
        "    print(f\"Jurusan: {self.jurusan}\")\n",
        "\n",
        "  # Override perkenalkan diri untuk menambahkan info student\n",
        "  def perkenalkan_diri(self):\n",
        "    super().perkenalkan_diri() # Panggil versi person\n",
        "    print(f\"Saya adalah mahasiswa dengan ID {self.student_id}, Jurusan {self.jurusan}. \")\n",
        "\n",
        "  # ---- Kode Utama ----\n",
        "if __name__ == \"__main__\":\n",
        "  # Membuat objek Person\n",
        "  dosen = Person(\"Pak Anton\", 45)\n",
        "  print(\"-\"*20)\n",
        "  dosen.perkenalkan_diri()\n",
        "  print(\"\\n\" + \"=\" * 30 + \"\\n\")\n",
        "\n",
        "  #Membuat objek student\n",
        "  mahasiswa = Student(\"JAMALL\", 20, \"MHS001\", \"Teknik Komputer\")\n",
        "  print(\"-\"*20)\n",
        "  mahasiswa.perkenalkan_diri() # Panggil versi override di student\n",
        "  print(\"-\"*20)\n",
        "  mahasiswa.info_akademik() # Panggil metode khusus Student\n",
        "\n",
        "  # Cek atribut yang diwarisi\n",
        "  print(f\"\\nUsia mahasiswa {mahasiswa.nama} : {mahasiswa.usia}\") #Usia diwarisi dari Person\n",
        "\n"
      ],
      "metadata": {
        "id": "2JlLBUj8gDPJ",
        "outputId": "8074f6dd-6915-43bd-af9b-837aba2601ce",
        "colab": {
          "base_uri": "https://localhost:8080/"
        }
      },
      "execution_count": 2,
      "outputs": [
        {
          "output_type": "stream",
          "name": "stdout",
          "text": [
            "(Memanggil __init__ person untuk 'Pak Anton')\n",
            "--------------------\n",
            "Halo, nama saya Pak Anton, usia saya 45 tahun.\n",
            "\n",
            "==============================\n",
            "\n",
            "(Memanggil __init__ Student untuk 'JAMALL')\n",
            "(Memanggil __init__ person untuk 'JAMALL')\n",
            "(Inisialisasi atribut Student selesai untuk 'JAMALL')\n",
            "--------------------\n",
            "Halo, nama saya JAMALL, usia saya 20 tahun.\n",
            "Saya adalah mahasiswa dengan ID MHS001, Jurusan Teknik Komputer. \n",
            "--------------------\n",
            "ID Mahasiswa: MHS001\n",
            "Jurusan: Teknik Komputer\n",
            "\n",
            "Usia mahasiswa JAMALL : 20\n"
          ]
        }
      ]
    },
    {
      "cell_type": "markdown",
      "source": [
        "Praktikum 03:Method overriding dan super()"
      ],
      "metadata": {
        "id": "GHyR9WiZrmEa"
      }
    },
    {
      "cell_type": "code",
      "source": [
        "# Kelas induk\n",
        "class Hewan:\n",
        "  def __init__(self, nama):\n",
        "    self.nama = nama\n",
        "\n",
        "  def bersuara(self):\n",
        "    print(f\"{self.nama} mengeluarkan suara generik.\")\n",
        "\n",
        "  def tampilkan_info(self):\n",
        "    print(f\"Ini adalah hewan bernama {self.nama}.\")\n",
        "\n",
        "# Kelas Anak\n",
        "class Kucing(Hewan):\n",
        "  def __init__(self, nama, ras):\n",
        "    super().__init__(nama) #Panggil init induk\n",
        "    self.ras = ras\n",
        "\n",
        "  #Method overriding untuk bersuara\n",
        "  def bersuara(self):\n",
        "    print(f\"{self.nama} (kucing) mengeong: Meow! Rawrr!!!\")\n",
        "\n",
        "  #Method Overriding untuk tampilkan_info, Memanggil versi induk\n",
        "  def tampilkan_info(self):\n",
        "    super().tampilkan_info() # Panggil implementasi dari hewan\n",
        "    print(f\"Ini adalah kucing ras {self.ras}.\") # Tambahkan info\n",
        "\n",
        "#---- Kode Utama ----\n",
        "if __name__ == \"__main__\":\n",
        "  hewan_umum = Hewan(\"Makhluk\")\n",
        "  kucing_persia = Kucing(\"Puspus\", \"Persia\")\n",
        "\n",
        "  print(\"Info Hewan Umum:\")\n",
        "  hewan_umum.tampilkan_info()\n",
        "  hewan_umum.bersuara()\n",
        "  print(\"-\"*20)\n",
        "\n",
        "  print(\"Info Kucing Persia:\")\n",
        "  kucing_persia.tampilkan_info() # Akan Memanggil versi kucing\n",
        "  kucing_persia.bersuara() #Akan memanggil versi kucing"
      ],
      "metadata": {
        "id": "bTiYmkVXmj11",
        "outputId": "71232be7-2d6f-4cef-84a8-cac04c035ec8",
        "colab": {
          "base_uri": "https://localhost:8080/"
        }
      },
      "execution_count": 3,
      "outputs": [
        {
          "output_type": "stream",
          "name": "stdout",
          "text": [
            "Info Hewan Umum:\n",
            "Ini adalah hewan bernama Makhluk.\n",
            "Makhluk mengeluarkan suara generik.\n",
            "--------------------\n",
            "Info Kucing Persia:\n",
            "Ini adalah hewan bernama Puspus.\n",
            "Ini adalah kucing ras Persia.\n",
            "Puspus (kucing) mengeong: Meow! Rawrr!!!\n"
          ]
        }
      ]
    },
    {
      "cell_type": "markdown",
      "source": [
        "Praktikum 04: Multi-Level inheritance (Pewarisan bertingkat)"
      ],
      "metadata": {
        "id": "Q1gDYPiav_fO"
      }
    },
    {
      "cell_type": "code",
      "source": [
        "# Kelas Induk Level 1\n",
        "class Organisme:\n",
        "  def __init__(self, nama):\n",
        "    self.nama = nama\n",
        "    print(f\"Organisme '{self.nama}' diciptakan.\")\n",
        "\n",
        "  def bernapas(self):\n",
        "    print(f\"{self.nama} sedang bernapas.\")\n",
        "\n",
        "# Kelas Anak Level 1 (mewarisi dari organisme)\n",
        "class Hewan(Organisme):\n",
        "  def __init__ (self, nama, jenis_makanan, jumlah_kaki):\n",
        "    super().__init__(nama) # Panggil init Organisme\n",
        "    self.jenis_makanan = jenis_makanan\n",
        "    self.jumlah_kaki = jumlah_kaki\n",
        "    print(f\"Hewan '{self.nama} adalah {self.jenis_makanan}.\")\n",
        "\n",
        "  def bergerak(self):\n",
        "    print(f\"{self.nama} sedang bergerak.\")\n",
        "\n",
        "# Kelas Anak Level 2 (Mewarisi dari hewan)\n",
        "class Mamalia(Hewan):\n",
        "  def __init__(self, nama, jenis_makanan, jumlah_kaki):\n",
        "    super().__init__(nama, jenis_makanan, jumlah_kaki) # Panggil init hewan\n",
        "    self.jumlah_kaki = jumlah_kaki\n",
        "    print(f\"Mamalia '{self.nama} memiliki {self.jumlah_kaki} kaki.\")\n",
        "\n",
        "  def menyusui(self):\n",
        "    print(f\"{self.nama} sedang menyusui.\")\n",
        "\n",
        "# ---- Kode Utama ----\n",
        "if __name__ == \"__main__\":\n",
        "  kucing = Mamalia(\"kucing Persia\", \"Karnivora\", 4)\n",
        "  print(\"-\"*20)\n",
        "\n",
        "  #Memanggil metode dari kelas mamalia\n",
        "  kucing.menyusui()\n",
        "\n",
        "  #Memanggil metode yang diwarisi dari kelas hewan\n",
        "  kucing.bergerak()\n",
        "  print(f\"jenis makanan: {kucing.jenis_makanan}\")\n",
        "\n",
        "  #memanggil metode yang diwarisi dari kelas organisme\n",
        "  kucing.bernapas()\n",
        "  print(f\"Nama organisme: {kucing.nama}\")"
      ],
      "metadata": {
        "id": "OlDfLiMavqLZ",
        "outputId": "17ae22cb-361f-4caf-e3ba-7bdae3b1cd7f",
        "colab": {
          "base_uri": "https://localhost:8080/"
        }
      },
      "execution_count": 4,
      "outputs": [
        {
          "output_type": "stream",
          "name": "stdout",
          "text": [
            "Organisme 'kucing Persia' diciptakan.\n",
            "Hewan 'kucing Persia adalah Karnivora.\n",
            "Mamalia 'kucing Persia memiliki 4 kaki.\n",
            "--------------------\n",
            "kucing Persia sedang menyusui.\n",
            "kucing Persia sedang bergerak.\n",
            "jenis makanan: Karnivora\n",
            "kucing Persia sedang bernapas.\n",
            "Nama organisme: kucing Persia\n"
          ]
        }
      ]
    },
    {
      "cell_type": "markdown",
      "source": [
        "Praktikum 05 : Hierarchical Inheritance"
      ],
      "metadata": {
        "id": "hi0GCuDr6iOJ"
      }
    },
    {
      "cell_type": "code",
      "source": [
        "!apt-get install -y locales\n",
        "!locale-gen id_ID.UTF-8\n",
        "!update-locale"
      ],
      "metadata": {
        "id": "Z5lXGAyR1Eh5",
        "outputId": "7065e8a0-2c33-4898-bc0e-1f98bf4a0aa9",
        "colab": {
          "base_uri": "https://localhost:8080/"
        }
      },
      "execution_count": 5,
      "outputs": [
        {
          "output_type": "stream",
          "name": "stdout",
          "text": [
            "Reading package lists... Done\n",
            "Building dependency tree... Done\n",
            "Reading state information... Done\n",
            "locales is already the newest version (2.35-0ubuntu3.9).\n",
            "0 upgraded, 0 newly installed, 0 to remove and 34 not upgraded.\n",
            "Generating locales (this might take a while)...\n",
            "  id_ID.UTF-8... done\n",
            "Generation complete.\n"
          ]
        }
      ]
    },
    {
      "cell_type": "code",
      "source": [
        "import locale\n",
        "\n",
        "try:\n",
        "  locale.setlocale(locale.LC_ALL, 'id_ID.UTF-8') #Mencoba menyetel locate ke id_ID.UTF-8\n",
        "except locale.Error:\n",
        "  # Jika locate alternatif juga gagal, gunakan locate default dan tampilkan perinngatan\n",
        "  print(\"Locale'id_ID.UTF-8' dan 'id_ID' tidak tersedia. Menggunakan locate default.\")\n",
        "\n",
        "# Fungsi halper untuk format mata uang\n",
        "def format_rupiah(angka):\n",
        "  return locale.currency(angka, grouping=True, symbol='Rp ')\n",
        "\n",
        "# Kelas induk\n",
        "class Pegawai:\n",
        "  def __init__(self, nama, id_pegawai, gaji_pokok):\n",
        "    self.nama = nama\n",
        "    self.id_pegawai = id_pegawai\n",
        "    self.gaji_pokok = gaji_pokok\n",
        "\n",
        "  def hitung_gaji(self):\n",
        "    # Gaji dasar, bisa di-override\n",
        "    return self.gaji_pokok\n",
        "\n",
        "  def tampilkan_info(self):\n",
        "    print(f\"ID: {self.id_pegawai}, Nama: {self.nama}\")\n",
        "    print(f\"Gaji pokok: {format_rupiah(self.gaji_pokok)}\")\n",
        "\n",
        "# Kelas Anak 1\n",
        "class Manager(Pegawai):\n",
        "  def __init__(self, nama, id_pegawai, gaji_pokok, tunjangan_jabatan):\n",
        "    super().__init__(nama, id_pegawai, gaji_pokok)\n",
        "    self.tunjangan_jabatan = tunjangan_jabatan\n",
        "\n",
        "  # Override hitung gaji\n",
        "  def hitung_gaji(self):\n",
        "    gaji_total = super().hitung_gaji() + self.tunjangan_jabatan\n",
        "    return gaji_total\n",
        "\n",
        "  #Override tampilkan_info (memanggil versi induk)\n",
        "  def tampilkan_info(self):\n",
        "    print(\"--- Info Manager ---\")\n",
        "    super().tampilkan_info() #Panggil info dasar dari pegawai\n",
        "    print(f\"Tunjangan Jabatan : {format_rupiah(self.tunjangan_jabatan)}\")\n",
        "    print(f\"Total Gaji : {format_rupiah(self.hitung_gaji())}\")\n",
        "\n",
        "# Kelas Anak 2\n",
        "class StafTeknis(Pegawai):\n",
        "  def __init__(self, nama, id_pegawai, gaji_pokok, keahlian, bonus_keahlian):\n",
        "    super().__init__(nama, id_pegawai, gaji_pokok)\n",
        "    self.keahlian = keahlian\n",
        "    self.bonus_keahlian = bonus_keahlian\n",
        "\n",
        "  #Override hitung_gaji\n",
        "  def hitung_gaji(self):\n",
        "    gaji_total = super().hitung_gaji() + self.bonus_keahlian\n",
        "    return gaji_total\n",
        "\n",
        "  #Override tampilkan info (memanggil dari induk)\n",
        "  def tampilkan_info(self):\n",
        "    print(\"--- Info Staf Teknis ---\")\n",
        "    super().tampilkan_info() # Panggil info dasar dari pegawai\n",
        "    print(f\"Keahlian: {self.keahlian}\")\n",
        "    print(f\"Bonus Keahlian: {format_rupiah(self.bonus_keahlian)}\")\n",
        "    print(f\"Total Gaji: {format_rupiah(self.hitung_gaji())}\")\n",
        "\n",
        "# --- Kode Utama ---\n",
        "if __name__ == \"__main__\":\n",
        "  managerl = Manager(\"Budi Santoso\", \"M001\", 1000000, 5000000)\n",
        "  staf1 = StafTeknis(\"Citra Lestari\", \"S001\", 7000000, \"Python Programming\", 1500000)\n",
        "  pegawai_baru = Pegawai(\"Rian\", \"P005\", 5000000) # Pegawai  biasa\n",
        "\n",
        "  print(\"Menampilkan Informasi Pegawai :\")\n",
        "  managerl.tampilkan_info()\n",
        "  print(\"-\"*30)\n",
        "  staf1.tampilkan_info()\n",
        "  print(\"-\"*30)\n",
        "\n",
        "  print(\"--- Info Pegawai Baru ---\")\n",
        "  pegawai_baru.tampilkan_info()\n",
        "  print(f\"Total Gaji : {format_rupiah(pegawai_baru.hitung_gaji())}\") # Memanggil versi pegawai\n",
        "  print(\"-\"*30)\n"
      ],
      "metadata": {
        "id": "FIrUqrg0fjg7",
        "outputId": "a5dbc206-d1ff-4478-efad-2053b1a39feb",
        "colab": {
          "base_uri": "https://localhost:8080/"
        }
      },
      "execution_count": 6,
      "outputs": [
        {
          "output_type": "stream",
          "name": "stdout",
          "text": [
            "Menampilkan Informasi Pegawai :\n",
            "--- Info Manager ---\n",
            "ID: M001, Nama: Budi Santoso\n",
            "Gaji pokok: Rp1.000.000,00\n",
            "Tunjangan Jabatan : Rp5.000.000,00\n",
            "Total Gaji : Rp6.000.000,00\n",
            "------------------------------\n",
            "--- Info Staf Teknis ---\n",
            "ID: S001, Nama: Citra Lestari\n",
            "Gaji pokok: Rp7.000.000,00\n",
            "Keahlian: Python Programming\n",
            "Bonus Keahlian: Rp1.500.000,00\n",
            "Total Gaji: Rp8.500.000,00\n",
            "------------------------------\n",
            "--- Info Pegawai Baru ---\n",
            "ID: P005, Nama: Rian\n",
            "Gaji pokok: Rp5.000.000,00\n",
            "Total Gaji : Rp5.000.000,00\n",
            "------------------------------\n"
          ]
        }
      ]
    },
    {
      "cell_type": "markdown",
      "source": [
        "Praktikum 06: Memeriksa Tipe Instance dengan instance"
      ],
      "metadata": {
        "id": "idGbDceiqgFP"
      }
    },
    {
      "cell_type": "code",
      "source": [
        "class BentukGeometri :\n",
        "  def __init__(self, nama_bentuk):\n",
        "    self.nama = nama_bentuk\n",
        "\n",
        "  def tampilkan_nama(self):\n",
        "    print(f\"Ini adalah bentuk : {self.nama}\")\n",
        "\n",
        "  def hitung_luas(self):\n",
        "    print(f\"Luas {self.nama} tidak dapat di hitung (generik).\")\n",
        "\n",
        "class PersegiPanjang(BentukGeometri):\n",
        "  def __init__(self, panjang, lebar):\n",
        "    super().__init__(\"Persegi Panjang\")\n",
        "    self.panjang = panjang\n",
        "    self.lebar = lebar\n",
        "  def hitung_luas(self):\n",
        "    luas = self.panjang * self.lebar\n",
        "    print(f\"LUas {self.nama}: {luas}\")\n",
        "\n",
        "class Segitiga(BentukGeometri):\n",
        "  def __init__(self, alas, tinggi):\n",
        "    super().__init__(\"Segitiga\")\n",
        "    self.alas = alas\n",
        "    self.tinggi = tinggi\n",
        "  def hitung_luas(self):\n",
        "    luas = 0,5 * self.alas * self.tinggi\n",
        "    print(f\"Luas {self.nama} : {luas}\")\n",
        "\n",
        "def proses_bentuk(bentuk):\n",
        "  print(f\"\\nMemproses objek : {type(bentuk)}\")\n",
        "\n",
        "  if isinstance(bentuk, BentukGeometri):\n",
        "    bentuk.tampilkan_nama()\n",
        "    print(\"Objek ini adalah instance dari BenttukGeometri (atau turunannya).\")\n",
        "    if isinstance(bentuk, PersegiPanjang):\n",
        "      print(\"-> Objek ini juga instance dari PersegiPanjang.\")\n",
        "    elif isinstance(bentuk, Segitiga):\n",
        "      print(\"-> Objek ini juga instance dari Segitiga.\")\n",
        "  else:\n",
        "    print(\"Objek ini BUKAN instance dari BentukGeometri.\")\n",
        "  if isinstance(bentuk, str):\n",
        "    print(\"Objek ini adalah string\")\n",
        "\n",
        "\n",
        "# --- Kode Utama ---\n",
        "if __name__ == \"__main__\":\n",
        "  pp = PersegiPanjang  (4, 3)\n",
        "  seg = Segitiga (5, 2)\n",
        "  bg = BentukGeometri(\"Lingkaran\") # Contoh lain\n",
        "  teks = \"ini string\"\n",
        "\n",
        "  daftar_objek = [pp, seg, bg, teks]\n",
        "\n",
        "  for objek in daftar_objek :\n",
        "    proses_bentuk(objek)"
      ],
      "metadata": {
        "id": "IvAbDhNoqrvG",
        "outputId": "8e59ed7e-fbb3-449a-a074-e7a5870ce9ee",
        "colab": {
          "base_uri": "https://localhost:8080/"
        }
      },
      "execution_count": 11,
      "outputs": [
        {
          "output_type": "stream",
          "name": "stdout",
          "text": [
            "\n",
            "Memproses objek : <class '__main__.PersegiPanjang'>\n",
            "Ini adalah bentuk : Persegi Panjang\n",
            "Objek ini adalah instance dari BenttukGeometri (atau turunannya).\n",
            "-> Objek ini juga instance dari PersegiPanjang.\n",
            "\n",
            "Memproses objek : <class '__main__.Segitiga'>\n",
            "Ini adalah bentuk : Segitiga\n",
            "Objek ini adalah instance dari BenttukGeometri (atau turunannya).\n",
            "-> Objek ini juga instance dari Segitiga.\n",
            "\n",
            "Memproses objek : <class '__main__.BentukGeometri'>\n",
            "Ini adalah bentuk : Lingkaran\n",
            "Objek ini adalah instance dari BenttukGeometri (atau turunannya).\n",
            "\n",
            "Memproses objek : <class 'str'>\n",
            "Objek ini BUKAN instance dari BentukGeometri.\n",
            "Objek ini adalah string\n"
          ]
        }
      ]
    },
    {
      "cell_type": "code",
      "source": [],
      "metadata": {
        "id": "OHgaFDmyrJxH"
      },
      "execution_count": null,
      "outputs": []
    }
  ]
}