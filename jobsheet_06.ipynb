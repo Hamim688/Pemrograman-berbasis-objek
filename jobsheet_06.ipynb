{
  "nbformat": 4,
  "nbformat_minor": 0,
  "metadata": {
    "colab": {
      "provenance": [],
      "authorship_tag": "ABX9TyPvtl/Pbptg8+cdvqi+83xu",
      "include_colab_link": true
    },
    "kernelspec": {
      "name": "python3",
      "display_name": "Python 3"
    },
    "language_info": {
      "name": "python"
    }
  },
  "cells": [
    {
      "cell_type": "markdown",
      "metadata": {
        "id": "view-in-github",
        "colab_type": "text"
      },
      "source": [
        "<a href=\"https://colab.research.google.com/github/Hamim688/Pemrograman-berbasis-objek/blob/main/jobsheet_06.ipynb\" target=\"_parent\"><img src=\"https://colab.research.google.com/assets/colab-badge.svg\" alt=\"Open In Colab\"/></a>"
      ]
    },
    {
      "cell_type": "markdown",
      "source": [
        "Jobsheet 06: ABSTRACT BASE CLASS(ABC) DAN INTERFACE"
      ],
      "metadata": {
        "id": "GJG_pqAz6tMR"
      }
    },
    {
      "cell_type": "markdown",
      "source": [
        "PRAKRIKUM 01: Mendefinisikan kelas abstrak sederhana"
      ],
      "metadata": {
        "id": "VswrV71q68Ki"
      }
    },
    {
      "cell_type": "code",
      "execution_count": 1,
      "metadata": {
        "id": "7PUnmfxWypQu",
        "outputId": "139a4f55-6646-4d43-8021-0e972aebc4c8",
        "colab": {
          "base_uri": "https://localhost:8080/"
        }
      },
      "outputs": [
        {
          "output_type": "stream",
          "name": "stdout",
          "text": [
            "Definisi kelas abstrak 'KendaraanAbstrak' telah selesai\n",
            "\n",
            "Contoh definisi kelas anak 'Mobil' selesai\n",
            "Inisialisasi KendaraanAbstrak dengan merk: Toyota\n",
            "Mesin mobil Toyota dinyalakan\n",
            "Merk kendaraan ini adalah Toyota\n",
            "Mesin mobil Toyota dimatikan\n"
          ]
        }
      ],
      "source": [
        "# impor komponen yang diperlukan dari model abc\n",
        "from abc import ABC, abstractmethod\n",
        "\n",
        "# 1. definisi abstrak\n",
        "# kelas ini mewarisi dari ABC untuk menandakan bahwa ia adalah\n",
        "# Abstract Base Class\n",
        "class KendaraanAbstrak(ABC):\n",
        "\n",
        "  def __init__ (self, merk):\n",
        "      self.merk = merk\n",
        "      print(f\"Inisialisasi KendaraanAbstrak dengan merk: {self.merk}\")\n",
        "\n",
        "  #metode konkret (tidak abstrak)\n",
        "  #metode ini sudah memiliki implementasi dan bisa diwarisi langsung\n",
        "  def info_merk(self):\n",
        "    print(f\"Merk kendaraan ini adalah {self.merk}\")\n",
        "\n",
        "  # 2. Definisi metode abstrak\n",
        "  #    Dekorator @abstractmethod menandakan metode ini wajib\n",
        "  #    Di implemantasikan (di-override) oleh subclass konkret.\n",
        "  @abstractmethod\n",
        "  def start_mesin(self):\n",
        "    # kode di dalam metode ini adalah implementasinya\n",
        "    print(f\"Mesin mobil {self.merk} dinyalakan\") # Mencetak status 'dinyalakan'\n",
        "\n",
        "  #kelas ini juga akan menjadi abstrak\n",
        "  def stop_mesin(self):\n",
        "    # kode di dalam metode ini adalah implementasinya\n",
        "    print(f\"Mesin mobil {self.merk} dimatikan\") # Mencetak status 'dimatikan'\n",
        "\n",
        "# kode utama (Hanya definisi, belum ada instansiasi kelas abstrak)\n",
        "if __name__ == \"__main__\":\n",
        "  print(\"Definisi kelas abstrak 'KendaraanAbstrak' telah selesai\")\n",
        "\n",
        "  #contoh definisi kelas anak (konkret)\n",
        "  #kelas ini mewarisi dari kendaraanAbstrak\n",
        "  class Mobil(KendaraanAbstrak):\n",
        "    # Implementasi metode abstrak start_mesin\n",
        "    def start_mesin(self):\n",
        "      print(f\"Mesin mobil {self.merk} dinyalakan\")\n",
        "\n",
        "    #implementai metode abstrak stop_mesin\n",
        "    #jika salah satu metode abstrak tidak di implementasi,\n",
        "    #kelas mobil ini juga akan menjadi abstrak\n",
        "    def stop_mesin(self):\n",
        "      print(f\"Mesin mobil {self.merk} dimatikan\")\n",
        "\n",
        "  print(\"\\nContoh definisi kelas anak 'Mobil' selesai\")\n",
        "\n",
        "  #membuat objek dari kelas anak (konkret) diperbolehkan\n",
        "  mobil_contoh = Mobil(\"Toyota\")\n",
        "\n",
        "  #memanggil metode yang di implementasi di kelas anak\n",
        "  mobil_contoh.start_mesin()\n",
        "\n",
        "  #memanggil metode konkret yang diwarisi dari kela abstrak\n",
        "  mobil_contoh.info_merk()\n",
        "\n",
        "  #memanggil metode yang di implementasi di kelas anak\n",
        "  mobil_contoh.stop_mesin()\n",
        "\n",
        "\n"
      ]
    },
    {
      "cell_type": "markdown",
      "source": [
        "PRAKTIKUM 02: Mencoba Instansiasi kelas anak"
      ],
      "metadata": {
        "id": "U0hN6pMO7OLJ"
      }
    },
    {
      "cell_type": "code",
      "source": [
        "from abc import ABC, abstractmethod\n",
        "\n",
        "#definisi kelas abstrak\n",
        "class MediaAbstrak(ABC):\n",
        "  def __init__(self, judul):\n",
        "    self.judul = judul\n",
        "    print(f\"Inisialisasi MeidaAbstrak dengan judul: {self.judul}\")\n",
        "\n",
        "  @abstractmethod\n",
        "  def play(self):\n",
        "    \"\"\"Metode abstrak untuk memulai pemutaran.\"\"\"\n",
        "    pass\n",
        "\n",
        "  @abstractmethod\n",
        "  def stop(self):\n",
        "    \"\"\"Metode abstrak untuk menghentikan pemutaran.\"\"\"\n",
        "    pass\n",
        "\n",
        "# --- Kode Utama ---\n",
        "if __name__ == \"__main__\":\n",
        "  print(\"Mencoba membuat objek dari kelas abstrak MediaAbstrak...\")\n",
        "\n",
        "  # Blok try-except untuk menangkap eror yang diharapkan\n",
        "  try:\n",
        "    # Baris ini akan menyebabkan TypeError karena MediaAbstrak\n",
        "    # Memiliki metode abstrak (play dan stop) yang belum di implementasi\n",
        "    media = MediaAbstrak(\"KontenAbstrak\")\n",
        "\n",
        "    #Kode di bawah ini tidak akan pernah dijalankan jika error terjadi\n",
        "    print(\"Objek berhasil dibuat (SEHARUSNYA TIDAK TERJADI)\")\n",
        "    media.play()\n",
        "\n",
        "  except TypeError as e:\n",
        "    # Menangkap dan menampilkan error TypeError\n",
        "    print(f\"\\nGagal membuat objek!\")\n",
        "    print(f\"Error yang muncul (sesuai harapan): {e}\")\n",
        "    print(\"\\nIni membuktikan bahwa kelas abstrak tidak bisa diinstansiasi\")\n",
        "    print(\"Jika masih memiliki metode abstrak yang belum diimlementasikan\")"
      ],
      "metadata": {
        "id": "u-TiWNxi7N2A",
        "outputId": "1a7f932c-ed76-46f2-fa6a-c341f5cfe940",
        "colab": {
          "base_uri": "https://localhost:8080/"
        }
      },
      "execution_count": 2,
      "outputs": [
        {
          "output_type": "stream",
          "name": "stdout",
          "text": [
            "Mencoba membuat objek dari kelas abstrak MediaAbstrak...\n",
            "\n",
            "Gagal membuat objek!\n",
            "Error yang muncul (sesuai harapan): Can't instantiate abstract class MediaAbstrak with abstract methods play, stop\n",
            "\n",
            "Ini membuktikan bahwa kelas abstrak tidak bisa diinstansiasi\n",
            "Jika masih memiliki metode abstrak yang belum diimlementasikan\n"
          ]
        }
      ]
    },
    {
      "cell_type": "markdown",
      "source": [
        "PRAKTIKUM 03 : Membuat subclass konkret - alat pembayaran"
      ],
      "metadata": {
        "id": "LlH8dIAG_NfV"
      }
    },
    {
      "cell_type": "code",
      "source": [
        "!apt-get install -y locales\n",
        "!locale-gen \"id_ID.UTF-8\"\n",
        "!update-locale"
      ],
      "metadata": {
        "id": "j6PJyBfmZgKx",
        "outputId": "a136a314-beb8-46e5-c7c3-ee71c6adc3df",
        "colab": {
          "base_uri": "https://localhost:8080/"
        }
      },
      "execution_count": 3,
      "outputs": [
        {
          "output_type": "stream",
          "name": "stdout",
          "text": [
            "Reading package lists... Done\n",
            "Building dependency tree... Done\n",
            "Reading state information... Done\n",
            "locales is already the newest version (2.35-0ubuntu3.9).\n",
            "0 upgraded, 0 newly installed, 0 to remove and 34 not upgraded.\n",
            "Generating locales (this might take a while)...\n",
            "  id_ID.UTF-8... done\n",
            "Generation complete.\n"
          ]
        }
      ]
    },
    {
      "cell_type": "code",
      "source": [
        "from abc import ABC, abstractmethod\n",
        "import locale\n",
        "import random # Untuk simulasi\n",
        "\n",
        "# setting locale indonesia\n",
        "try:\n",
        "  locale.setlocale(locale.LC_ALL, 'id_ID.UTF-8')\n",
        "except locale.Error:\n",
        "  print(\"Locale id_ID.UTF-8 tidak tersedia, gunakan locale default.\")\n",
        "\n",
        "def format_rupiah(angka):\n",
        "  return locale.currency(angka, grouping=True, symbol='Rp ')\n",
        "\n",
        "# Kelas abstrak\n",
        "class AlatPembayaranAbstrak(ABC):\n",
        "  def __init__(self, nama_metode):\n",
        "    self.nama_metode = nama_metode\n",
        "    print(f\"Inisialisasi alat pembayaran: {self.nama_metode}\")\n",
        "\n",
        "  def info(self):\n",
        "    print(f\"Metode Pembayaran: {self.nama_metode}\")\n",
        "\n",
        "  @abstractmethod\n",
        "  def proses_pembayaran(self, jumlah):\n",
        "    \"\"\"\n",
        "    Metode abstrak untuk memproses pembayaran sejumlah 'jumlah'.\n",
        "    Harus diimplementasi oleh subclas.\n",
        "    Harus Mengembalikan True jika berhasil, False jika gagal.\n",
        "    \"\"\"\n",
        "    pass\n",
        "\n",
        "# --- Implementasi subclass konkret ---\n",
        "\n",
        "# 1. Subclass konkret pertama: KartuKredit\n",
        "class KartuKredit(AlatPembayaranAbstrak):\n",
        "  def __init__(self, nomor_kartu, nama_pemilik):\n",
        "    super().__init__(\"Kartu Kredit\")\n",
        "    self.nomor_kartu = nomor_kartu[-4:] # Simpan 4 digit terakhir\n",
        "    self.nama_pemilik = nama_pemilik\n",
        "    print(f\"-> Kartu Kredit ************{self.nomor_kartu}({self.nama_pemilik}) siap.\")\n",
        "\n",
        "  # Implementasi metode abstrak proses_pembayaran\n",
        "  def proses_pembayaran(self, jumlah):\n",
        "    print(f\"Memproses pembayaran {format_rupiah(jumlah)} via kartu Kredit ************{self.nomor_kartu}...\")\n",
        "\n",
        "    # Simulasi keberhasilan/kegagalan\n",
        "    berhasil = random.choice([True, False])\n",
        "    if berhasil :\n",
        "      print(\"Pembayaran Kartu Kredit Berhasil.\")\n",
        "      return True\n",
        "\n",
        "    else :\n",
        "      print(\"Pembayaran Kartu Kredit Gagal (Limit tidak cukup/Error)\")\n",
        "      return False\n",
        "\n",
        "# 2. Subclass Konkret kedua : Dompet digital\n",
        "class DompetDigital(AlatPembayaranAbstrak):\n",
        "  def __init__(self, nomor_telepon, nama_provider):\n",
        "    super().__init__(f\"Dompet Digital ({nama_provider})\")\n",
        "    self.nomor_telepon = nomor_telepon\n",
        "    self._saldo = random.randint(50000, 500000) # Saldo awal acak\n",
        "    print(f\"-> Dompet Digital {self.nomor_telepon} siap (Saldo : {format_rupiah(self._saldo)}).\")\n",
        "\n",
        "  # Implementasi metode abstrak proses_pembayaran\n",
        "  def proses_pembayaran(self, jumlah) :\n",
        "    print(f\"Memproses pembayaran {format_rupiah(jumlah)} via Dompet Digital {self.nomor_telepon}...\")\n",
        "\n",
        "    # Simulasi keberhasilan/kegagalan\n",
        "    if jumlah <= self._saldo :\n",
        "      self._saldo -= jumlah\n",
        "      print(f\"Pembayaran Dompet Digital Berhasil.\")\n",
        "      print(f\"Sisa Saldo: {format_rupiah(self._saldo)}\")\n",
        "      return True\n",
        "\n",
        "    else :\n",
        "      print(\"Pembayaran Dompet Digital Gagal (Saldo tidak mencukupi).\")\n",
        "      print(f\"Saldo saat ini : {format_rupiah(self._saldo)}.\")\n",
        "      return False\n",
        "\n",
        "# --- Kode Utama ---\n",
        "if __name__ == \"__main__\":\n",
        "  print(\"\\nMembuat Objek Alat Pembayaran...\")\n",
        "  kartu_bca = KartuKredit(\"1234-5678-9012-3456\", \"Budi Cahyono\")\n",
        "  gopay = DompetDigital(\"081234567890\", \"Go-Pay\")\n",
        "\n",
        "  print(\"\\nMelakukan Pembayaran:\")\n",
        "\n",
        "  print(\"\\nMencoba bayar dengan Kartu Kredit:\")\n",
        "  kartu_bca.info()\n",
        "  status_kk = kartu_bca.proses_pembayaran(150000)\n",
        "  print(f\"Status Transaksi KK: {'Sukses' if status_kk else 'Gagal'}\")\n",
        "\n",
        "  print(\"\\nMencoba bayar dengan Gopay (Jumlah kecil):\")\n",
        "  gopay.info()\n",
        "  status_gopay1 = gopay.proses_pembayaran(75000)\n",
        "  print(f\"Status Transaksi GoPay 1: {'Sukses' if status_gopay1 else 'Gagal'}\")\n",
        "\n",
        "  print(\"\\nMencoba bayar dengan Gopay (Jumlah besar):\")\n",
        "  gopay.info()\n",
        "  status_gopay2 = gopay.proses_pembayaran(1000000) # Kemungkinan gagal karena saldo\n",
        "  print(f\"Status Transaksi GoPay 2: {'Sukses' if status_gopay2 else 'Gagal'}\")\n",
        "\n"
      ],
      "metadata": {
        "id": "DGnUH9tV_W_I",
        "outputId": "170fd7b6-c61f-48ff-9102-9214c385a9a9",
        "colab": {
          "base_uri": "https://localhost:8080/"
        }
      },
      "execution_count": 7,
      "outputs": [
        {
          "output_type": "stream",
          "name": "stdout",
          "text": [
            "\n",
            "Membuat Objek Alat Pembayaran...\n",
            "Inisialisasi alat pembayaran: Kartu Kredit\n",
            "-> Kartu Kredit ************3456(Budi Cahyono) siap.\n",
            "Inisialisasi alat pembayaran: Dompet Digital (Go-Pay)\n",
            "-> Dompet Digital 081234567890 siap (Saldo : Rp251.124,00).\n",
            "\n",
            "Melakukan Pembayaran:\n",
            "\n",
            "Mencoba bayar dengan Kartu Kredit:\n",
            "Metode Pembayaran: Kartu Kredit\n",
            "Memproses pembayaran Rp150.000,00 via kartu Kredit ************3456...\n",
            "Pembayaran Kartu Kredit Gagal (Limit tidak cukup/Error)\n",
            "Status Transaksi KK: Gagal\n",
            "\n",
            "Mencoba bayar dengan Gopay (Jumlah kecil):\n",
            "Metode Pembayaran: Dompet Digital (Go-Pay)\n",
            "Memproses pembayaran Rp75.000,00 via Dompet Digital 081234567890...\n",
            "Pembayaran Dompet Digital Berhasil.\n",
            "Sisa Saldo: Rp176.124,00\n",
            "Status Transaksi GoPay 1: Sukses\n",
            "\n",
            "Mencoba bayar dengan Gopay (Jumlah besar):\n",
            "Metode Pembayaran: Dompet Digital (Go-Pay)\n",
            "Memproses pembayaran Rp1.000.000,00 via Dompet Digital 081234567890...\n",
            "Pembayaran Dompet Digital Gagal (Saldo tidak mencukupi).\n",
            "Saldo saat ini : Rp176.124,00.\n",
            "Status Transaksi GoPay 2: Gagal\n"
          ]
        }
      ]
    },
    {
      "cell_type": "markdown",
      "source": [
        "PRAKTIKUM 04: Menggunakan kelas abstrak unutk polimorfisme - dokumen"
      ],
      "metadata": {
        "id": "PxM64qV0b9IS"
      }
    },
    {
      "cell_type": "code",
      "source": [
        "from abc import ABC, abstractmethod\n",
        "import time\n",
        "\n",
        "# --- Kelas Abstrak ---\n",
        "class DokumenAbstrak(ABC):\n",
        "  def __init__(self, nama_file):\n",
        "    self.nama_file = nama_file\n",
        "    print(f\"Inisialisasi Dokumen: {self.nama_file}\")\n",
        "\n",
        "  def info_file(self):\n",
        "    print(f\"Nama File: {self.nama_file}\")\n",
        "\n",
        "  @abstractmethod\n",
        "  def cetak(self):\n",
        "    \"\"\"Metode abstrak untuk mencetak dokumen\"\"\"\n",
        "    pass\n",
        "\n",
        "  @abstractmethod\n",
        "  def cetak(self):\n",
        "    \"\"\"Metode abstrak untuk menyimpan dokumen\"\"\"\n",
        "    pass\n",
        "\n",
        "# --- Subclass Konkret 1 ---\n",
        "class DokumenTeks(DokumenAbstrak):\n",
        "  def __init__(self, nama_file, isi_teks):\n",
        "    super().__init__(\"nama_file\")\n",
        "    self.isi_teks = isi_teks\n",
        "    print(\"-> Tipe: Dokumen Teks\")\n",
        "\n",
        "  def cetak(self):\n",
        "    print(f\"Mencetak Dokumen Teks: {self.nama_file}\")\n",
        "    print(\"=\"*15)\n",
        "    print(self.isi_teks)\n",
        "    print(\"=\"*15)\n",
        "\n",
        "  def simpan(self):\n",
        "    print(f\"Menyimpan Dokumen Teks: '{self.nama_file}' ke disk...\")\n",
        "    # Logika penyimpanan file teks...\n",
        "    time.sleep(0.2) #Simulasi\n",
        "    print(\"-> Berhasil disimpan.\")\n",
        "\n",
        "# --- Subclass konkret 2 ----\n",
        "class Spreadsheet(DokumenAbstrak):\n",
        "  def __init__(self, nama_file,  jumlah_baris, jumlah_kolom):\n",
        "    super().__init__(\"nama_file\")\n",
        "    self.jumlah_baris = jumlah_baris\n",
        "    self.jumlah_kolom = jumlah_kolom\n",
        "    print(\"-> Tipe: Spreadsheet\")\n",
        "\n",
        "  def cetak(self):\n",
        "    print(f\"Mencetak Spereadsheet '{self.nama_file}' ({self.jumlah_baris} baris x {self.jumlah_kolom} kolom)...\")\n",
        "\n",
        "    # Logika pertinjau cetak spreadsheet...\n",
        "    print(\"(Menampilkan Pertinjau...)\")\n",
        "\n",
        "  def simpan(self):\n",
        "    print(f\"Menyimpan Spreadsheet '{self.nama_file}' ke format .xlsx...\")\n",
        "\n",
        "    #Logika penyimpanan file spreadsheet...\n",
        "    time.sleep(0.3) #Simulasi\n",
        "    print(\"-> Berhasil disimpan.\")\n",
        "\n",
        "\n",
        "# --- Fungsi Polimorfik ---\n",
        "def proses_dokumen(daftar_dokumen):\n",
        "  print(\"\\n======== MEMPROSES SEMUA DOKUMEN ========\")\n",
        "  for doc in daftar_dokumen:\n",
        "    print(f\"\\n--- Memproses {type(doc).__name__}: {doc.nama_file} ---\")\n",
        "\n",
        "    try:\n",
        "      # Memanggil metode secara polimorfik\n",
        "      doc.cetak()\n",
        "      doc.simpan()\n",
        "\n",
        "    except Exception as e :\n",
        "      print(f\"Error saat memproses {doc.nama_file}: {e}\")\n",
        "  print(\"\\n======== SELESAI MEMPROSES DOKUMEN ========\")\n",
        "\n",
        "# --- Kode Utama ---\n",
        "if __name__ == \"__main__\":\n",
        "  print(\"Membuat Dokumen...\")\n",
        "  dok1 = DokumenTeks(\"Laporan.txt\", \"Ini adalah isi laporan singkat.\")\n",
        "  dok2 = Spreadsheet(\"data_penjualan.xlsx\", 200, 15)\n",
        "  dok3 = DokumenTeks(\"catatan_rapat.txt\", \"Poin penting:\\n- Bahas Budget\\n- Tentukan timeline\")\n",
        "\n",
        "  koleksi_dokumen = [dok1, dok2, dok3]\n",
        "\n",
        "  # Memanggil fungsi polimorfik\n",
        "  proses_dokumen(koleksi_dokumen)\n",
        "\n",
        "  #Contoh memanggil motode spesifik (jika perlu)\n",
        "  # print(f\"\\nIsi teks dok1: \\n{dok1.isi_teks}\")\n"
      ],
      "metadata": {
        "id": "sZJLw5fvTWdv",
        "outputId": "d3c3901d-3572-4939-9377-9270ad4da714",
        "colab": {
          "base_uri": "https://localhost:8080/"
        }
      },
      "execution_count": 13,
      "outputs": [
        {
          "output_type": "stream",
          "name": "stdout",
          "text": [
            "Membuat Dokumen...\n",
            "Inisialisasi Dokumen: nama_file\n",
            "-> Tipe: Dokumen Teks\n",
            "Inisialisasi Dokumen: nama_file\n",
            "-> Tipe: Spreadsheet\n",
            "Inisialisasi Dokumen: nama_file\n",
            "-> Tipe: Dokumen Teks\n",
            "\n",
            "======== MEMPROSES SEMUA DOKUMEN ========\n",
            "\n",
            "--- Memproses DokumenTeks: nama_file ---\n",
            "Mencetak Dokumen Teks: nama_file\n",
            "===============\n",
            "Ini adalah isi laporan singkat.\n",
            "===============\n",
            "Menyimpan Dokumen Teks: 'nama_file' ke disk...\n",
            "-> Berhasil disimpan.\n",
            "\n",
            "--- Memproses Spreadsheet: nama_file ---\n",
            "Mencetak Spereadsheet 'nama_file' (200 baris x 15 kolom)...\n",
            "(Menampilkan Pertinjau...)\n",
            "Menyimpan Spreadsheet 'nama_file' ke format .xlsx...\n",
            "-> Berhasil disimpan.\n",
            "\n",
            "--- Memproses DokumenTeks: nama_file ---\n",
            "Mencetak Dokumen Teks: nama_file\n",
            "===============\n",
            "Poin penting:\n",
            "- Bahas Budget\n",
            "- Tentukan timeline\n",
            "===============\n",
            "Menyimpan Dokumen Teks: 'nama_file' ke disk...\n",
            "-> Berhasil disimpan.\n",
            "\n",
            "======== SELESAI MEMPROSES DOKUMEN ========\n"
          ]
        }
      ]
    }
  ]
}