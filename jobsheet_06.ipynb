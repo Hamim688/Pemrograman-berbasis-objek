{
  "nbformat": 4,
  "nbformat_minor": 0,
  "metadata": {
    "colab": {
      "provenance": [],
      "authorship_tag": "ABX9TyNLaCPVhPnQodBM1M8QfVon",
      "include_colab_link": true
    },
    "kernelspec": {
      "name": "python3",
      "display_name": "Python 3"
    },
    "language_info": {
      "name": "python"
    }
  },
  "cells": [
    {
      "cell_type": "markdown",
      "metadata": {
        "id": "view-in-github",
        "colab_type": "text"
      },
      "source": [
        "<a href=\"https://colab.research.google.com/github/Hamim688/Pemrograman-berbasis-objek/blob/main/jobsheet_06.ipynb\" target=\"_parent\"><img src=\"https://colab.research.google.com/assets/colab-badge.svg\" alt=\"Open In Colab\"/></a>"
      ]
    },
    {
      "cell_type": "markdown",
      "source": [
        "Jobsheet 06: ABSTRACT BASE CLASS(ABC) DAN INTERFACE"
      ],
      "metadata": {
        "id": "GJG_pqAz6tMR"
      }
    },
    {
      "cell_type": "markdown",
      "source": [
        "PRAKRIKUM 01: Mendefinisikan kelas abstrak sederhana"
      ],
      "metadata": {
        "id": "VswrV71q68Ki"
      }
    },
    {
      "cell_type": "code",
      "execution_count": 4,
      "metadata": {
        "id": "7PUnmfxWypQu",
        "outputId": "4c036c5a-737c-40c1-c63b-636f6445420b",
        "colab": {
          "base_uri": "https://localhost:8080/"
        }
      },
      "outputs": [
        {
          "output_type": "stream",
          "name": "stdout",
          "text": [
            "Definisi kelas abstrak 'KendaraanAbstrak' telah selesai\n",
            "\n",
            "Contoh definisi kelas anak 'Mobil' selesai\n",
            "Inisialisasi KendaraanAbstrak dengan merk: Toyota\n",
            "Mesin mobil Toyota dinyalakan\n",
            "Merk kendaraan ini adalah Toyota\n",
            "Mesin mobil Toyota dimatikan\n"
          ]
        }
      ],
      "source": [
        "# impor komponen yang diperlukan dari model abc\n",
        "from abc import ABC, abstractmethod\n",
        "\n",
        "# 1. definisi abstrak\n",
        "# kelas ini mewarisi dari ABC untuk menandakan bahwa ia adalah\n",
        "# Abstract Base Class\n",
        "class KendaraanAbstrak(ABC):\n",
        "\n",
        "  def __init__ (self, merk):\n",
        "      self.merk = merk\n",
        "      print(f\"Inisialisasi KendaraanAbstrak dengan merk: {self.merk}\")\n",
        "\n",
        "  #metode konkret (tidak abstrak)\n",
        "  #metode ini sudah memiliki implementasi dan bisa diwarisi langsung\n",
        "  def info_merk(self):\n",
        "    print(f\"Merk kendaraan ini adalah {self.merk}\")\n",
        "\n",
        "  # 2. Definisi metode abstrak\n",
        "  #    Dekorator @abstractmethod menandakan metode ini wajib\n",
        "  #    Di implemantasikan (di-override) oleh subclass konkret.\n",
        "  @abstractmethod\n",
        "  def start_mesin(self):\n",
        "    # kode di dalam metode ini adalah implementasinya\n",
        "    print(f\"Mesin mobil {self.merk} dinyalakan\") # Mencetak status 'dinyalakan'\n",
        "\n",
        "  #kelas ini juga akan menjadi abstrak\n",
        "  def stop_mesin(self):\n",
        "    # kode di dalam metode ini adalah implementasinya\n",
        "    print(f\"Mesin mobil {self.merk} dimatikan\") # Mencetak status 'dimatikan'\n",
        "\n",
        "# kode utama (Hanya definisi, belum ada instansiasi kelas abstrak)\n",
        "if __name__ == \"__main__\":\n",
        "  print(\"Definisi kelas abstrak 'KendaraanAbstrak' telah selesai\")\n",
        "\n",
        "  #contoh definisi kelas anak (konkret)\n",
        "  #kelas ini mewarisi dari kendaraanAbstrak\n",
        "  class Mobil(KendaraanAbstrak):\n",
        "    # Implementasi metode abstrak start_mesin\n",
        "    def start_mesin(self):\n",
        "      print(f\"Mesin mobil {self.merk} dinyalakan\")\n",
        "\n",
        "    #implementai metode abstrak stop_mesin\n",
        "    #jika salah satu metode abstrak tidak di implementasi,\n",
        "    #kelas mobil ini juga akan menjadi abstrak\n",
        "    def stop_mesin(self):\n",
        "      print(f\"Mesin mobil {self.merk} dimatikan\")\n",
        "\n",
        "  print(\"\\nContoh definisi kelas anak 'Mobil' selesai\")\n",
        "\n",
        "  #membuat objek dari kelas anak (konkret) diperbolehkan\n",
        "  mobil_contoh = Mobil(\"Toyota\")\n",
        "\n",
        "  #memanggil metode yang di implementasi di kelas anak\n",
        "  mobil_contoh.start_mesin()\n",
        "\n",
        "  #memanggil metode konkret yang diwarisi dari kela abstrak\n",
        "  mobil_contoh.info_merk()\n",
        "\n",
        "  #memanggil metode yang di implementasi di kelas anak\n",
        "  mobil_contoh.stop_mesin()\n",
        "\n",
        "\n",
        ""
      ]
    },
    {
      "cell_type": "markdown",
      "source": [
        "PRAKTIKUM 02: Mencoba Instansiasi kelas anak"
      ],
      "metadata": {
        "id": "U0hN6pMO7OLJ"
      }
    },
    {
      "cell_type": "code",
      "source": [
        "from abc import ABC, abstractmethod\n",
        "\n",
        "#definisi kelas abstrak\n",
        "class MediaAbstrak(ABC):\n",
        "  def __init__(self, judul):\n",
        "    self.judul = judul\n",
        "    print(f\"Inisialisasi MeidaAbstrak dengan judul: {self.judul}\")\n",
        "\n",
        "  @abstractmethod\n",
        "  def play(self):\n",
        "    \"\"\"Metode abstrak untuk memulai pemutaran.\"\"\"\n",
        "    pass\n",
        "\n",
        "  @abstractmethod\n",
        "  def stop(self):\n",
        "    \"\"\"Metode abstrak untuk menghentikan pemutaran.\"\"\"\n",
        "    pass\n",
        "\n",
        "# --- Kode Utama ---\n",
        "if __name__ == \"__main__\":\n",
        "  print(\"Mencoba membuat objek dari kelas abstrak MediaAbstrak...\")\n",
        "\n",
        "  # Blok try-except untuk menangkap eror yang diharapkan\n",
        "  try:\n",
        "    # Baris ini akan menyebabkan TypeError karena MediaAbstrak\n",
        "    # Memiliki metode abstrak (play dan stop) yang belum di implementasi\n",
        "    media = MediaAbstrak(\"KontenAbstrak\")\n",
        "\n",
        "    #Kode di bawah ini tidak akan pernah dijalankan jika error terjadi\n",
        "    print(\"Objek berhasil dibuat (SEHARUSNYA TIDAK TERJADI)\")\n",
        "    media.play()\n",
        "\n",
        "  except TypeError as e:\n",
        "    # Menangkap dan menampilkan error TypeError\n",
        "    print(f\"\\nGagal membuat objek!\")\n",
        "    print(f\"Error yang muncul (sesuai harapan): {e}\")\n",
        "    print(\"\\nIni membuktikan bahwa kelas abstrak tidak bisa diinstansiasi\")\n",
        "    print(\"Jika masih memiliki metode abstrak yang belum diimlementasikan\")"
      ],
      "metadata": {
        "id": "u-TiWNxi7N2A",
        "outputId": "17ed6313-1a80-48ea-abee-8eab1b0a7526",
        "colab": {
          "base_uri": "https://localhost:8080/"
        }
      },
      "execution_count": 5,
      "outputs": [
        {
          "output_type": "stream",
          "name": "stdout",
          "text": [
            "Mencoba membuat objek dari kelas abstrak MediaAbstrak...\n",
            "\n",
            "Gagal membuat objek!\n",
            "Error yang muncul (sesuai harapan): Can't instantiate abstract class MediaAbstrak with abstract methods play, stop\n",
            "\n",
            "Ini membuktikan bahwa kelas abstrak tidak bisa diinstansiasi\n",
            "Jika masih memiliki metode abstrak yang belum diimlementasikan\n"
          ]
        }
      ]
    },
    {
      "cell_type": "markdown",
      "source": [
        "PRAKTIKUM 03 : Membuat subclass konkret - alat pembayaran"
      ],
      "metadata": {
        "id": "LlH8dIAG_NfV"
      }
    },
    {
      "cell_type": "code",
      "source": [
        "from abc import ABC, abstractmethod\n",
        "import locale\n",
        "import random # Untuk simulasi\n",
        "\n",
        "# setting locale indonesia\n",
        "try:\n",
        "  locale.setlocale(locale.LC_ALL, 'id_ID.UTF-8')\n",
        "except locale.Error:\n",
        "  print(\"Locale id_ID.UTF-8 tidak tersedia, gunakan locale default.\")\n",
        "\n",
        "def format_rupiah(angka):\n",
        "  return locale.currency(angka, grouping=True, symbol='Rp ')\n",
        "\n",
        "# Kelas abstrak\n",
        "class AlatPembayaranAbstrak(ABC):\n",
        "  def __init__(self, nama_metode):\n",
        "    self.nama_metode = nama_metode\n",
        "    print(f\"Inisialisasi alat pembayaran: {self.nama_metode}\")\n",
        "\n",
        "  def info(self):\n",
        "    print(f\"Metode Pembayaran: {self.nama_metode}\")\n",
        "\n",
        "  @abstractmethod\n",
        "  def proses_pembayaran(self, jumlah):\n",
        "    \"\"\"\n",
        "    Metode abstrak untuk memproses pembayaran sejumlah 'jumlah'.\n",
        "    Harus diimplementasi oleh subclas.\n",
        "    Harus Mengembalikan True jika berhasil, False jika gagal.\n",
        "    \"\"\"\n",
        "    pass\n",
        "\n",
        "# --- Implementasi subclass konkret ---\n",
        "\n",
        "# 1. Subclass konkret pertama: KartuKredit\n",
        "class KartuKredit(AlatPembayaranAbstrak):\n",
        "  def __init__(self, nomor_kartu, nama_pemilik):\n",
        "    super().__init__(\"Kartu Kredit\")\n",
        "    self.nomor_kartu = nomor_kartu(-4:) # Simpan 4 digit terakhir\n",
        "    self.nama_pemilik = nama_pemilik\n",
        "    print(f\"-> Kartu Kredit ************{self.nomor_kartu}({self.nama_pemilik}) siap.\")\n",
        "\n",
        "  # Implementasi metode abstrak proses_pembayaran\n",
        "  def proses_pembayaran(self, jumlah):\n",
        "    print(f\"Memproses pembayaran {format_rupiah(jumlah)} via kartu Kredit ************{self.nomor_kartu}...\")\n",
        ""
      ],
      "metadata": {
        "id": "DGnUH9tV_W_I"
      },
      "execution_count": null,
      "outputs": []
    }
  ]
}