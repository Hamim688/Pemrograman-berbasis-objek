{
 "cells": [
  {
   "cell_type": "code",
   "execution_count": 2,
   "id": "de664d11",
   "metadata": {},
   "outputs": [
    {
     "name": "stdout",
     "output_type": "stream",
     "text": [
      "Halo biasa\n",
      "Hallo Jamal\n"
     ]
    }
   ],
   "source": [
    "def halo(nama):\n",
    "    print(f\"Hallo {nama}\")\n",
    "\n",
    "if __name__ == \"__main__\":\n",
    "    print(\"Halo biasa\")\n",
    "    halo(\"Jamal\")"
   ]
  },
  {
   "cell_type": "code",
   "execution_count": null,
   "id": "a10dcba4",
   "metadata": {},
   "outputs": [],
   "source": []
  }
 ],
 "metadata": {
  "kernelspec": {
   "display_name": "Python 3",
   "language": "python",
   "name": "python3"
  },
  "language_info": {
   "codemirror_mode": {
    "name": "ipython",
    "version": 3
   },
   "file_extension": ".py",
   "mimetype": "text/x-python",
   "name": "python",
   "nbconvert_exporter": "python",
   "pygments_lexer": "ipython3",
   "version": "3.13.1"
  }
 },
 "nbformat": 4,
 "nbformat_minor": 5
}
