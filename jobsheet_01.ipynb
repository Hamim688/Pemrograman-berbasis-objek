{
  "nbformat": 4,
  "nbformat_minor": 0,
  "metadata": {
    "colab": {
      "provenance": [],
      "authorship_tag": "ABX9TyN0+fszRQJ3EbierV0gPgQj",
      "include_colab_link": true
    },
    "kernelspec": {
      "name": "python3",
      "display_name": "Python 3"
    },
    "language_info": {
      "name": "python"
    }
  },
  "cells": [
    {
      "cell_type": "markdown",
      "metadata": {
        "id": "view-in-github",
        "colab_type": "text"
      },
      "source": [
        "<a href=\"https://colab.research.google.com/github/Hamim688/Pemrograman-berbasis-objek/blob/main/jobsheet_01.ipynb\" target=\"_parent\"><img src=\"https://colab.research.google.com/assets/colab-badge.svg\" alt=\"Open In Colab\"/></a>"
      ]
    },
    {
      "cell_type": "code",
      "execution_count": null,
      "metadata": {
        "id": "RRUVjFoyI-_F"
      },
      "outputs": [],
      "source": []
    },
    {
      "cell_type": "markdown",
      "source": [
        "# Jobsheet 01:DASAR BAHASA PEMROGRAMAN PYTHON\n"
      ],
      "metadata": {
        "id": "kzOOM-7sN0pZ"
      }
    },
    {
      "cell_type": "markdown",
      "source": [
        "Praktikum 01. Tipe data dasar"
      ],
      "metadata": {
        "id": "_ArcJCcmOqgc"
      }
    },
    {
      "cell_type": "code",
      "source": [
        "# 1. Number (int, float, complex)\n",
        "# Integer (int)\n",
        "angka_int = 10\n",
        "print(\"angka_int =\", angka_int, \"->\", type(angka_int))\n",
        "\n",
        "# Float\n",
        "angka_float = 3.14\n",
        "print(\"angka_float =\", angka_float, \"->\", type(angka_float))\n",
        "\n",
        "# Complex\n",
        "angka_complex = 2 + 3j\n",
        "print(\"angka_complex =\", angka_complex, \"->\", type(angka_complex))\n"
      ],
      "metadata": {
        "id": "4E1Ks0v4OIHy",
        "outputId": "39f214b9-4088-472b-89b3-e9ef0dc2d38d",
        "colab": {
          "base_uri": "https://localhost:8080/"
        }
      },
      "execution_count": 1,
      "outputs": [
        {
          "output_type": "stream",
          "name": "stdout",
          "text": [
            "angka_int = 10 -> <class 'int'>\n",
            "angka_float = 3.14 -> <class 'float'>\n",
            "angka_complex = (2+3j) -> <class 'complex'>\n"
          ]
        }
      ]
    }
  ]
}