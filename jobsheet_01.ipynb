{
  "nbformat": 4,
  "nbformat_minor": 0,
  "metadata": {
    "colab": {
      "provenance": [],
      "authorship_tag": "ABX9TyNf4mDEEhAjYH0j6Ja3UuFU",
      "include_colab_link": true
    },
    "kernelspec": {
      "name": "python3",
      "display_name": "Python 3"
    },
    "language_info": {
      "name": "python"
    }
  },
  "cells": [
    {
      "cell_type": "markdown",
      "metadata": {
        "id": "view-in-github",
        "colab_type": "text"
      },
      "source": [
        "<a href=\"https://colab.research.google.com/github/Hamim688/Pemrograman-berbasis-objek/blob/main/jobsheet_01.ipynb\" target=\"_parent\"><img src=\"https://colab.research.google.com/assets/colab-badge.svg\" alt=\"Open In Colab\"/></a>"
      ]
    },
    {
      "cell_type": "markdown",
      "source": [
        "# Jobsheet 01:DASAR BAHASA PEMROGRAMAN PYTHON\n"
      ],
      "metadata": {
        "id": "kzOOM-7sN0pZ"
      }
    },
    {
      "cell_type": "markdown",
      "source": [
        "Praktikum 01. Tipe data dasar"
      ],
      "metadata": {
        "id": "_ArcJCcmOqgc"
      }
    },
    {
      "cell_type": "code",
      "source": [
        "# 1. Number (int, float, complex)\n",
        "# Integer (int)\n",
        "angka_int = 10\n",
        "print(\"angka_int =\", angka_int, \"->\", type(angka_int))\n",
        "\n",
        "# Float\n",
        "angka_float = 3.14\n",
        "print(\"angka_float =\", angka_float, \"->\", type(angka_float))\n",
        "\n",
        "# Complex\n",
        "angka_complex = 2 + 3j\n",
        "print(\"angka_complex =\", angka_complex, \"->\", type(angka_complex))\n",
        "\n",
        "print(f\"\"\"NOTE :\n",
        "Int/integer = tipe data yang di gunakan bilangan bulat\n",
        "float = tipe data yang di gunakan untuk angka desimal\n",
        "complex = tipe data yang di gunakan untuk operasi bilangan real dan imajiner\n",
        "type(VARIABEL) = digunakan untuk mengecek tipe data apa yang di pakai suatu variabel\"\"\")\n"
      ],
      "metadata": {
        "colab": {
          "base_uri": "https://localhost:8080/"
        },
        "id": "4E1Ks0v4OIHy",
        "outputId": "9d2d8fc0-21ad-49c0-9d44-b198e92d59ab"
      },
      "execution_count": 4,
      "outputs": [
        {
          "output_type": "stream",
          "name": "stdout",
          "text": [
            "angka_int = 10 -> <class 'int'>\n",
            "angka_float = 3.14 -> <class 'float'>\n",
            "angka_complex = (2+3j) -> <class 'complex'>\n",
            "NOTE :\n",
            "Int/integer = tipe data yang di gunakan bilangan bulat\n",
            "float = tipe data yang di gunakan untuk angka desimal\n",
            "complex = tipe data yang di gunakan untuk operasi bilangan real dan imajiner\n",
            "type(VARIABEL) = digunakan untuk mengecek tipe data apa yang di pakai suatu variabel\n"
          ]
        }
      ]
    },
    {
      "cell_type": "code",
      "source": [
        "# 2. Boolean\n",
        "is_active = True\n",
        "print(\"is_active =\", is_active, \"->\", type(is_active))\n",
        "print(f\"\"\"NOTE :\n",
        "bool/boolean = tipe data yang di gunakan untuk operasi logika(true/false)\n",
        "type(VARIABEL) = digunakan untuk mengecek tipe data apa yang di pakai suatu variabel\"\"\")"
      ],
      "metadata": {
        "id": "_-72zNxYQihz",
        "outputId": "af56044d-0229-4244-b9b7-3c0532cf9023",
        "colab": {
          "base_uri": "https://localhost:8080/"
        }
      },
      "execution_count": 5,
      "outputs": [
        {
          "output_type": "stream",
          "name": "stdout",
          "text": [
            "is_active = True -> <class 'bool'>\n",
            "NOTE :\n",
            "bool/boolean = tipe data yang di gunakan untuk operasi logika(true/false)\n",
            "type(VARIABEL) = digunakan untuk mengecek tipe data apa yang di pakai suatu variabel\n"
          ]
        }
      ]
    },
    {
      "cell_type": "code",
      "source": [
        "# 3. String\n",
        "teks = \"Hello, Python!\"\n",
        "print(\"teks =\", teks, \"->\", type(teks))\n",
        "print(f\"\"\"NOTE :\n",
        "str/string = tipe data yang di untuk menuliskakn karakter\n",
        "type(VARIABEL) = digunakan untuk mengecek tipe data apa yang di pakai suatu variabel\"\"\")"
      ],
      "metadata": {
        "id": "HxXfsaSJT4UG",
        "outputId": "5dfac085-23d7-4250-c54b-fd592586b6f0",
        "colab": {
          "base_uri": "https://localhost:8080/"
        }
      },
      "execution_count": 7,
      "outputs": [
        {
          "output_type": "stream",
          "name": "stdout",
          "text": [
            "teks = Hello, Python! -> <class 'str'>\n",
            "NOTE :\n",
            "str/string = tipe data yang di untuk menuliskakn karakter\n",
            "type(VARIABEL) = digunakan untuk mengecek tipe data apa yang di pakai suatu variabel\n"
          ]
        }
      ]
    },
    {
      "cell_type": "code",
      "source": [
        "# 4. List\n",
        "# List adalah tipe data terurut dan dapat diubah (mutable)\n",
        "daftar_angka = [1, 2, 3, 4, 5]\n",
        "print(\"daftar_angka =\", daftar_angka, \"->\", type(daftar_angka))\n",
        "print(f\"\"\"NOTE :\n",
        "daftar_angka adalah sebuah list yang berisi lima elemen: [1, 2, 3, 4, 5].\n",
        "List menggunakan tanda kurung siku [] untuk menyimpan elemen.\n",
        "Elemen dalam list bisa berupa angka, string, atau tipe data lainnya.\n",
        "type(VARIABEL) = digunakan untuk mengecek tipe data apa yang di pakai suatu variabel\"\"\")\n",
        "## cara alternatif membuat list\n",
        "data_range = range(0,10,2) # range(start,stop,step)\n",
        "print(data_range)\n",
        "data_list = list(data_range)\n",
        "print(data_list)"
      ],
      "metadata": {
        "id": "nTTwblzhUfkV",
        "outputId": "d13df3ac-0fb0-4f49-e20c-98e23ea05c69",
        "colab": {
          "base_uri": "https://localhost:8080/"
        }
      },
      "execution_count": 8,
      "outputs": [
        {
          "output_type": "stream",
          "name": "stdout",
          "text": [
            "daftar_angka = [1, 2, 3, 4, 5] -> <class 'list'>\n",
            "NOTE :\n",
            "daftar_angka adalah sebuah list yang berisi lima elemen: [1, 2, 3, 4, 5].\n",
            "List menggunakan tanda kurung siku [] untuk menyimpan elemen.\n",
            "Elemen dalam list bisa berupa angka, string, atau tipe data lainnya.\n",
            "type(VARIABEL) = digunakan untuk mengecek tipe data apa yang di pakai suatu variabel\n",
            "range(0, 10, 2)\n",
            "[0, 2, 4, 6, 8]\n"
          ]
        }
      ]
    },
    {
      "cell_type": "code",
      "source": [],
      "metadata": {
        "id": "cHwaoIc5WgOx"
      },
      "execution_count": null,
      "outputs": []
    }
  ]
}