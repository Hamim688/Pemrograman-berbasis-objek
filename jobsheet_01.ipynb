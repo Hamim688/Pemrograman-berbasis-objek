{
  "nbformat": 4,
  "nbformat_minor": 0,
  "metadata": {
    "colab": {
      "provenance": [],
      "authorship_tag": "ABX9TyMjGJvshz20Wn9R0Km1/u07",
      "include_colab_link": true
    },
    "kernelspec": {
      "name": "python3",
      "display_name": "Python 3"
    },
    "language_info": {
      "name": "python"
    }
  },
  "cells": [
    {
      "cell_type": "markdown",
      "metadata": {
        "id": "view-in-github",
        "colab_type": "text"
      },
      "source": [
        "<a href=\"https://colab.research.google.com/github/Hamim688/Pemrograman-berbasis-objek/blob/main/jobsheet_01.ipynb\" target=\"_parent\"><img src=\"https://colab.research.google.com/assets/colab-badge.svg\" alt=\"Open In Colab\"/></a>"
      ]
    },
    {
      "cell_type": "markdown",
      "source": [
        "# Jobsheet 01:DASAR BAHASA PEMROGRAMAN PYTHON\n"
      ],
      "metadata": {
        "id": "kzOOM-7sN0pZ"
      }
    },
    {
      "cell_type": "markdown",
      "source": [
        "Praktikum 01. Tipe data dasar"
      ],
      "metadata": {
        "id": "_ArcJCcmOqgc"
      }
    },
    {
      "cell_type": "code",
      "source": [
        "# 1. Number (int, float, complex)\n",
        "# Integer (int)\n",
        "angka_int = 10\n",
        "print(\"angka_int =\", angka_int, \"->\", type(angka_int))\n",
        "\n",
        "# Float\n",
        "angka_float = 3.14\n",
        "print(\"angka_float =\", angka_float, \"->\", type(angka_float))\n",
        "\n",
        "# Complex\n",
        "angka_complex = 2 + 3j\n",
        "print(\"angka_complex =\", angka_complex, \"->\", type(angka_complex))\n",
        "\n",
        "print(f\"\"\"NOTE :\n",
        "Int/integer = tipe data yang di gunakan bilangan bulat\n",
        "float = tipe data yang di gunakan untuk angka desimal\n",
        "complex = tipe data yang di gunakan untuk operasi bilangan real dan imajiner\n",
        "type(VARIABEL) = digunakan untuk mengecek tipe data apa yang di pakai suatu variabel\"\"\")\n"
      ],
      "metadata": {
        "colab": {
          "base_uri": "https://localhost:8080/"
        },
        "id": "4E1Ks0v4OIHy",
        "outputId": "9d2d8fc0-21ad-49c0-9d44-b198e92d59ab"
      },
      "execution_count": 4,
      "outputs": [
        {
          "output_type": "stream",
          "name": "stdout",
          "text": [
            "angka_int = 10 -> <class 'int'>\n",
            "angka_float = 3.14 -> <class 'float'>\n",
            "angka_complex = (2+3j) -> <class 'complex'>\n",
            "NOTE :\n",
            "Int/integer = tipe data yang di gunakan bilangan bulat\n",
            "float = tipe data yang di gunakan untuk angka desimal\n",
            "complex = tipe data yang di gunakan untuk operasi bilangan real dan imajiner\n",
            "type(VARIABEL) = digunakan untuk mengecek tipe data apa yang di pakai suatu variabel\n"
          ]
        }
      ]
    },
    {
      "cell_type": "code",
      "source": [
        "# 2. Boolean\n",
        "is_active = True\n",
        "print(\"is_active =\", is_active, \"->\", type(is_active))\n",
        "print(f\"\"\"NOTE :\n",
        "bool/boolean = tipe data yang di gunakan untuk operasi logika(true/false)\n",
        "type(VARIABEL) = digunakan untuk mengecek tipe data apa yang di pakai suatu variabel\"\"\")"
      ],
      "metadata": {
        "colab": {
          "base_uri": "https://localhost:8080/"
        },
        "id": "_-72zNxYQihz",
        "outputId": "af56044d-0229-4244-b9b7-3c0532cf9023"
      },
      "execution_count": 5,
      "outputs": [
        {
          "output_type": "stream",
          "name": "stdout",
          "text": [
            "is_active = True -> <class 'bool'>\n",
            "NOTE :\n",
            "bool/boolean = tipe data yang di gunakan untuk operasi logika(true/false)\n",
            "type(VARIABEL) = digunakan untuk mengecek tipe data apa yang di pakai suatu variabel\n"
          ]
        }
      ]
    },
    {
      "cell_type": "code",
      "source": [
        "# 3. String\n",
        "teks = \"Hello, Python!\"\n",
        "print(\"teks =\", teks, \"->\", type(teks))\n",
        "print(f\"\"\"NOTE :\n",
        "str/string = tipe data yang di untuk menuliskakn karakter\n",
        "type(VARIABEL) = digunakan untuk mengecek tipe data apa yang di pakai suatu variabel\"\"\")"
      ],
      "metadata": {
        "colab": {
          "base_uri": "https://localhost:8080/"
        },
        "id": "HxXfsaSJT4UG",
        "outputId": "5dfac085-23d7-4250-c54b-fd592586b6f0"
      },
      "execution_count": 7,
      "outputs": [
        {
          "output_type": "stream",
          "name": "stdout",
          "text": [
            "teks = Hello, Python! -> <class 'str'>\n",
            "NOTE :\n",
            "str/string = tipe data yang di untuk menuliskakn karakter\n",
            "type(VARIABEL) = digunakan untuk mengecek tipe data apa yang di pakai suatu variabel\n"
          ]
        }
      ]
    },
    {
      "cell_type": "code",
      "source": [
        "# 4. List\n",
        "# List adalah tipe data terurut dan dapat diubah (mutable)\n",
        "daftar_angka = [1, 2, 3, 4, 5]\n",
        "print(\"daftar_angka =\", daftar_angka, \"->\", type(daftar_angka))\n",
        "print(f\"\"\"NOTE :\n",
        "daftar_angka adalah sebuah list yang berisi lima elemen: [1, 2, 3, 4, 5].\n",
        "List menggunakan tanda kurung siku [] untuk menyimpan elemen.\n",
        "Elemen dalam list bisa berupa angka, string, atau tipe data lainnya.\n",
        "list bisa juga di masukkan kedalam list yang yain atau yang di sebut nested list\n",
        "type(VARIABEL) = digunakan untuk mengecek tipe data apa yang di pakai suatu variabel\"\"\")\n",
        "## cara alternatif membuat list\n",
        "data_range = range(0,10,2) # range(start,stop,step)\n",
        "print(data_range)\n",
        "data_list = list(data_range)\n",
        "print(data_list)"
      ],
      "metadata": {
        "colab": {
          "base_uri": "https://localhost:8080/"
        },
        "id": "nTTwblzhUfkV",
        "outputId": "e55c6524-0321-42fc-a76e-23102161fef3"
      },
      "execution_count": 9,
      "outputs": [
        {
          "output_type": "stream",
          "name": "stdout",
          "text": [
            "daftar_angka = [1, 2, 3, 4, 5] -> <class 'list'>\n",
            "NOTE :\n",
            "daftar_angka adalah sebuah list yang berisi lima elemen: [1, 2, 3, 4, 5].\n",
            "List menggunakan tanda kurung siku [] untuk menyimpan elemen.\n",
            "Elemen dalam list bisa berupa angka, string, atau tipe data lainnya.\n",
            "list bisa juga di masukkan kedalam list yang yain atau yang di sebut nested list\n",
            "type(VARIABEL) = digunakan untuk mengecek tipe data apa yang di pakai suatu variabel\n",
            "range(0, 10, 2)\n",
            "[0, 2, 4, 6, 8]\n"
          ]
        }
      ]
    },
    {
      "cell_type": "code",
      "source": [
        "# 5. Tuple\n",
        "# Tuple adalah tipe data terurut tetapi tidak dapat diubah (immutable)\n",
        "koordinat = (10, 20)\n",
        "print(\"koordinat =\", koordinat, \"->\", type(koordinat))\n",
        "print(f\"\"\"NOTE :\n",
        "tuple ditulis menggunakan tanda '()'\n",
        "Tuple bersifat immutable, artinya nilainya tidak bisa diubah setelah dibuat.\n",
        "contoh : koordinat[0] = 11 (ini akan eror)\n",
        "type(VARIABEL) = digunakan untuk mengecek tipe data apa yang di pakai suatu variabel\"\"\")\n"
      ],
      "metadata": {
        "colab": {
          "base_uri": "https://localhost:8080/"
        },
        "id": "cHwaoIc5WgOx",
        "outputId": "c5430ddc-62ba-4d13-e4c6-9c0a34e47618"
      },
      "execution_count": 27,
      "outputs": [
        {
          "output_type": "stream",
          "name": "stdout",
          "text": [
            "koordinat = (10, 20) -> <class 'tuple'>\n",
            "NOTE :\n",
            "tuple ditulis menggunakan tanda '()'\n",
            "Tuple bersifat immutable, artinya nilainya tidak bisa diubah setelah dibuat.\n",
            "contoh : koordinat[0] = 11 (ini akan eror)\n",
            "type(VARIABEL) = digunakan untuk mengecek tipe data apa yang di pakai suatu variabel\n"
          ]
        }
      ]
    },
    {
      "cell_type": "code",
      "source": [
        "# 6. Dictionary\n",
        "# Dictionary menyimpan data dalam pasangan key-value\n",
        "data_mahasiswa = {\n",
        "    \"nama\": \"Andi\",\n",
        "    \"nim\": \"A11.2022.12345\",\n",
        "    \"jurusan\": \"Teknik Informatika\"\n",
        "}\n",
        "print(\"data_mahasiswa =\", data_mahasiswa, \"->\", type(data_mahasiswa))\n",
        "print(f\"\"\"NOTE :\n",
        "Dictionary ditulis menggunakan tanda kurung kurawa\n",
        "Dictionary berbeda dengan list karena menggunakan key bukan indexing\n",
        "contoh : print(data_mahasiswa[\"nama\"])\n",
        "type(VARIABEL) = digunakan untuk mengecek tipe data apa yang di pakai suatu variabel\"\"\")\n",
        "print(data_mahasiswa[\"nama\"])"
      ],
      "metadata": {
        "id": "gDA-iXwParCC",
        "outputId": "532d67e7-1e8e-43b4-e135-fdfc7fb7fd2d",
        "colab": {
          "base_uri": "https://localhost:8080/"
        }
      },
      "execution_count": 26,
      "outputs": [
        {
          "output_type": "stream",
          "name": "stdout",
          "text": [
            "data_mahasiswa = {'nama': 'Andi', 'nim': 'A11.2022.12345', 'jurusan': 'Teknik Informatika'} -> <class 'dict'>\n",
            "NOTE :\n",
            "Dictionary ditulis menggunakan tanda kurung kurawa\n",
            "Dictionary berbeda dengan list karena menggunakan key bukan indexing\n",
            "contoh : print(data_mahasiswa[\"nama\"])\n",
            "type(VARIABEL) = digunakan untuk mengecek tipe data apa yang di pakai suatu variabel\n",
            "Andi\n"
          ]
        }
      ]
    },
    {
      "cell_type": "code",
      "source": [
        "# 7. Set\n",
        "# Set adalah tipe data yang tidak terurut, unik (tiap elemen hanya muncul\n",
        "himpunan_angka = {1, 2, 3, 2, 1}\n",
        "print(\"himpunan_angka =\", himpunan_angka, \"->\", type(himpunan_angka))\n",
        "print(f\"\"\"NOTE :\n",
        "Set tidak memperbolehkan duplikasi, sehingga angka yang berulang (2 dan 1) akan otomatis dihapus. Hasilnya menjadi 1, 2, 3.\n",
        "Set menggunakan kurung kurawal untuk menyimpan elemen.\n",
        "type(VARIABEL) = digunakan untuk mengecek tipe data apa yang di pakai suatu variabel\"\"\")"
      ],
      "metadata": {
        "id": "dTQFDcnMm6nF",
        "outputId": "a756fe59-7c54-4df8-a929-df08e0f95eba",
        "colab": {
          "base_uri": "https://localhost:8080/"
        }
      },
      "execution_count": 30,
      "outputs": [
        {
          "output_type": "stream",
          "name": "stdout",
          "text": [
            "himpunan_angka = {1, 2, 3} -> <class 'set'>\n",
            "NOTE :\n",
            "Set tidak memperbolehkan duplikasi, sehingga angka yang berulang (2 dan 1) akan otomatis dihapus. Hasilnya menjadi 1, 2, 3.\n",
            "Set menggunakan kurung kurawal untuk menyimpan elemen.\n",
            "type(VARIABEL) = digunakan untuk mengecek tipe data apa yang di pakai suatu variabel\n"
          ]
        }
      ]
    },
    {
      "cell_type": "code",
      "source": [
        " # 8. Contoh penggunaan konversi tipe data\n",
        "nilai_str = \"100\"\n",
        "print(\"\\nnilai_str =\", nilai_str, \"->\", type(nilai_str))\n",
        "nilai_int = int(nilai_str) # konversi string ke integer\n",
        "print(\"nilai_int =\", nilai_int, \"->\", type(nilai_int))\n",
        "print(f\"\"\"NOTE :\n",
        "konversi biasanya di gunakan untuk :\n",
        "mengubah input dari user karena pada saat menuliskan input('masukkan angka' :) akan terbaca sebagai string tapi jika kita konversi menjadi integer maka akan terbaca sebagai angka sehingga dapat di gunakan untuk perhitungan matematika\n",
        "merubah list menjadi set untuk menghilangkan duplikasi\n",
        "type(VARIABEL) = digunakan untuk mengecek tipe data apa yang di pakai suatu variabel\"\"\")"
      ],
      "metadata": {
        "id": "k6T7gOWrozHl",
        "outputId": "5553f5a0-c7f5-47d9-9b4d-bfe8b52998d1",
        "colab": {
          "base_uri": "https://localhost:8080/"
        }
      },
      "execution_count": 33,
      "outputs": [
        {
          "output_type": "stream",
          "name": "stdout",
          "text": [
            "\n",
            "nilai_str = 100 -> <class 'str'>\n",
            "nilai_int = 100 -> <class 'int'>\n",
            "NOTE :\n",
            "konversi biasanya di gunakan untuk :\n",
            "mengubah input dari user karena pada saat menuliskan input('masukkan angka' :) akan terbaca sebagai string tapi jika kita konversi menjadi integer maka akan terbaca sebagai angka sehingga dapat di gunakan untuk perhitungan matematika\n",
            "merubah list menjadi set untuk menghilangkan duplikasi\n",
            "type(VARIABEL) = digunakan untuk mengecek tipe data apa yang di pakai suatu variabel\n"
          ]
        }
      ]
    },
    {
      "cell_type": "markdown",
      "source": [
        "Praktikum 02. Variabel dan Operasi dasar"
      ],
      "metadata": {
        "id": "GxpMzZEZqYxY"
      }
    },
    {
      "cell_type": "code",
      "source": [
        "# 1. Pendeklarasian Variabel\n",
        "nama = \"Budi\"\n",
        "umur = 20\n",
        "tinggi = 170.5\n",
        "is_student = True\n",
        "\n",
        "print(\"Nama =\", nama)\n",
        "print(\"Umur =\", umur)\n",
        "print(\"Tinggi =\", tinggi, \"cm\")\n",
        "print(\"Mahasiswa =\", is_student)\n",
        "print(f\"\"\"NOTE :\n",
        "Python tidak memerlukan deklarasi tipe data secara eksplisit.\n",
        "Tipe data variabel akan menyesuaikan nilai yang diberikan\n",
        "Tidak boleh menggunakan kata kunci (seperti if, for, while, dll.).\n",
        "Tidak boleh di dahului angka\n",
        "Tidak boleh menggunakan spasi\n",
        "\"\"\")\n"
      ],
      "metadata": {
        "id": "fO_5fJK_qgH3",
        "outputId": "62ff3954-15d6-4d7e-badf-e84c9b13ae39",
        "colab": {
          "base_uri": "https://localhost:8080/"
        }
      },
      "execution_count": 34,
      "outputs": [
        {
          "output_type": "stream",
          "name": "stdout",
          "text": [
            "Nama = Budi\n",
            "Umur = 20\n",
            "Tinggi = 170.5 cm\n",
            "Mahasiswa = True\n",
            "NOTE :\n",
            "Python tidak memerlukan deklarasi tipe data secara eksplisit.\n",
            "Tipe data variabel akan menyesuaikan nilai yang diberikan\n",
            "Tidak boleh menggunakan kata kunci (seperti if, for, while, dll.).\n",
            "Tidak boleh di dahului angka\n",
            "Tidak boleh menggunakan spasi\n",
            "\n"
          ]
        }
      ]
    },
    {
      "cell_type": "code",
      "source": [
        "# 2. Operasi Aritmetika\n",
        "a = 10\n",
        "b = 3\n",
        "\n",
        "penjumlahan = a + b  # Tambah\n",
        "pengurangan = a - b  # Kurang\n",
        "perkalian = a * b  # Kali\n",
        "pembagian = a / b  # Bagi (hasil float)\n",
        "pembagian_bulat = a // b  # Bagi (bulat)\n",
        "modulus = a % b  # Sisa bagi\n",
        "pangkat = a ** b  # Pemangkatan\n",
        "\n",
        "print(\"\\nOPERASI ARITMETIKA\")\n",
        "print(\"a =\", a, \", b =\", b)\n",
        "print(\"Penjumlahan =\", penjumlahan)\n",
        "print(\"Pengurangan =\", pengurangan)\n",
        "print(\"Perkalian =\", perkalian)\n",
        "print(\"Pembagian =\", pembagian)\n",
        "print(\"Pembagian Bulat =\", pembagian_bulat)\n",
        "print(\"Modulus =\", modulus)\n",
        "print(\"Pangkat =\", pangkat)\n",
        "\n",
        "print(f\"\"\"NOTE :\n",
        "Python mengikuti aturan matematika standar :\n",
        "\n",
        "1️⃣ Kurung ()\n",
        "2️⃣ Pangkat (**)\n",
        "3️⃣ Perkalian (*), Pembagian (/), Pembagian Bulat (//), Modulus (%)\n",
        "4️⃣ Penjumlahan (+), Pengurangan (-)\n",
        "\"\"\")"
      ],
      "metadata": {
        "id": "oG2ZmZSjuGOa",
        "outputId": "76f474d9-a218-40f9-ecc8-d96bf2d161e7",
        "colab": {
          "base_uri": "https://localhost:8080/"
        }
      },
      "execution_count": 40,
      "outputs": [
        {
          "output_type": "stream",
          "name": "stdout",
          "text": [
            "\n",
            "OPERASI ARITMETIKA\n",
            "a = 10 , b = 3\n",
            "Penjumlahan = 13\n",
            "Pengurangan = 7\n",
            "Perkalian = 30\n",
            "Pembagian = 3.3333333333333335\n",
            "Pembagian Bulat = 3\n",
            "Modulus = 1\n",
            "Pangkat = 1000\n",
            "NOTE :\n",
            "Python mengikuti aturan matematika standar :\n",
            "\n",
            "1️⃣ Kurung ()\n",
            "2️⃣ Pangkat (**)\n",
            "3️⃣ Perkalian (*), Pembagian (/), Pembagian Bulat (//), Modulus (%)\n",
            "4️⃣ Penjumlahan (+), Pengurangan (-)\n",
            "\n"
          ]
        }
      ]
    },
    {
      "cell_type": "code",
      "source": [
        "# 3. Operasi Perbandingan\n",
        "# Menghasilkan nilai Boolean (True/False)\n",
        "lebih_besar = a > b\n",
        "kurang_dari = a < b\n",
        "sama_dengan = a == b\n",
        "tidak_sama = a != b\n",
        "lebih_besar_sama = a >= b\n",
        "kurang_sama = a <= b\n",
        "\n",
        "print(\"\\nOPERASI PERBANDINGAN\")\n",
        "print(\"a > b =\", lebih_besar)\n",
        "print(\"a < b =\", kurang_dari)\n",
        "print(\"a == b =\", sama_dengan)\n",
        "print(\"a != b =\", tidak_sama)\n",
        "print(\"a >= b =\", lebih_besar_sama)\n",
        "print(\"a <= b =\", kurang_sama)\n",
        "\n",
        "print(f\"\"\"NOTE :\n",
        "Operasi perbandingan menghasilkan nilai True atau False.\n",
        "Biasa digunakan dalam percabangan (if) dan perulangan (while).\n",
        "Bisa digunakan untuk angka, string, dan tipe data lainnya.\n",
        "String dibandingkan berdasarkan urutan alfabet (ASCII).\n",
        "\"\"\")"
      ],
      "metadata": {
        "id": "b8ZKt1JIvkC1",
        "outputId": "dddb5cab-5dde-4d1f-ca08-03a05e8d92fa",
        "colab": {
          "base_uri": "https://localhost:8080/"
        }
      },
      "execution_count": 36,
      "outputs": [
        {
          "output_type": "stream",
          "name": "stdout",
          "text": [
            "\n",
            "OPERASI PERBANDINGAN\n",
            "a > b = True\n",
            "a < b = False\n",
            "a == b = False\n",
            "a != b = True\n",
            "a >= b = True\n",
            "a <= b = False\n",
            "NOTE :\n",
            "Operasi perbandingan menghasilkan nilai True atau False.\n",
            "Biasa digunakan dalam percabangan (if) dan perulangan (while).\n",
            "Bisa digunakan untuk angka, string, dan tipe data lainnya.\n",
            "String dibandingkan berdasarkan urutan alfabet (ASCII).\n",
            "\n"
          ]
        }
      ]
    },
    {
      "cell_type": "code",
      "source": [
        "# 4. Operasi Logika\n",
        "# and, or, not\n",
        "\n",
        "x = True\n",
        "y = False\n",
        "\n",
        "logika_and = x and y\n",
        "logika_or = x or y\n",
        "logika_not_x = not x\n",
        "\n",
        "print(\"\\nOPERASI LOGIKA\")\n",
        "print(\"x =\", x, \", y =\", y)\n",
        "print(\"x and y =\", logika_and)\n",
        "print(\"x or y =\", logika_or)\n",
        "print(\"not x =\", logika_not_x)\n",
        "\n",
        "print(f\"\"\"NOTE :\n",
        "Operator logika digunakan untuk mengevaluasi kondisi dalam bentuk Boolean.\n",
        "Gunakan and jika kedua kondisi harus True.\n",
        "Gunakan or jika salah satu kondisi cukup True.\n",
        "Gunakan not untuk membalikkan nilai Boolean.\n",
        "Operator logika dapat digunakan dalam percabangan (if) dan perulangan (while).\n",
        "\"\"\")\n"
      ],
      "metadata": {
        "id": "bVggWyOpygKz",
        "outputId": "47fb3a0d-7371-4318-cbce-9b00a07a1d40",
        "colab": {
          "base_uri": "https://localhost:8080/"
        }
      },
      "execution_count": 39,
      "outputs": [
        {
          "output_type": "stream",
          "name": "stdout",
          "text": [
            "\n",
            "OPERASI LOGIKA\n",
            "x = True , y = False\n",
            "x and y = False\n",
            "x or y = True\n",
            "not x = False\n",
            "NOTE :\n",
            "Operator logika digunakan untuk mengevaluasi kondisi dalam bentuk Boolean.\n",
            "Gunakan and jika kedua kondisi harus True.\n",
            "Gunakan or jika salah satu kondisi cukup True.\n",
            "Gunakan not untuk membalikkan nilai Boolean.\n",
            "Operator logika dapat digunakan dalam percabangan (if) dan perulangan (while).\n",
            "\n"
          ]
        }
      ]
    },
    {
      "cell_type": "code",
      "source": [
        "# 5. Contoh penggunaan di dalam percabangan\n",
        "if a > b and b > 0:\n",
        "  print(\"\\nKondisi terpenuhi: a lebih besar dari b, dan b masih positif.\")\n",
        "else:\n",
        "  print(\"\\nKondisi tidak terpenuhi atau b <= 0.\")\n",
        "\n",
        "print(f\"\"\"NOTE :\n",
        "\n",
        "\"\"\")"
      ],
      "metadata": {
        "id": "hfkufMuo6ncS"
      },
      "execution_count": null,
      "outputs": []
    }
  ]
}