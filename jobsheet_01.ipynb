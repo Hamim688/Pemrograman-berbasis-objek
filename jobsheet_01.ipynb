{
  "nbformat": 4,
  "nbformat_minor": 0,
  "metadata": {
    "colab": {
      "provenance": [],
      "authorship_tag": "ABX9TyOcdECqYm6+ICihmVJbz+tC",
      "include_colab_link": true
    },
    "kernelspec": {
      "name": "python3",
      "display_name": "Python 3"
    },
    "language_info": {
      "name": "python"
    }
  },
  "cells": [
    {
      "cell_type": "markdown",
      "metadata": {
        "id": "view-in-github",
        "colab_type": "text"
      },
      "source": [
        "<a href=\"https://colab.research.google.com/github/Hamim688/Pemrograman-berbasis-objek/blob/main/jobsheet_01.ipynb\" target=\"_parent\"><img src=\"https://colab.research.google.com/assets/colab-badge.svg\" alt=\"Open In Colab\"/></a>"
      ]
    },
    {
      "cell_type": "markdown",
      "source": [
        "# Jobsheet 01:DASAR BAHASA PEMROGRAMAN PYTHON\n"
      ],
      "metadata": {
        "id": "kzOOM-7sN0pZ"
      }
    },
    {
      "cell_type": "markdown",
      "source": [
        "Praktikum 01. Tipe data dasar"
      ],
      "metadata": {
        "id": "_ArcJCcmOqgc"
      }
    },
    {
      "cell_type": "code",
      "source": [
        "# 1. Number (int, float, complex)\n",
        "# Integer (int)\n",
        "angka_int = 10\n",
        "print(\"angka_int =\", angka_int, \"->\", type(angka_int))\n",
        "\n",
        "# Float\n",
        "angka_float = 3.14\n",
        "print(\"angka_float =\", angka_float, \"->\", type(angka_float))\n",
        "\n",
        "# Complex\n",
        "angka_complex = 2 + 3j\n",
        "print(\"angka_complex =\", angka_complex, \"->\", type(angka_complex))\n",
        "\n",
        "print(f\"\"\"NOTE :\n",
        "Int/integer = tipe data yang di gunakan bilangan bulat\n",
        "float = tipe data yang di gunakan untuk angka desimal\n",
        "complex = tipe data yang di gunakan untuk operasi bilangan real dan imajiner\n",
        "type(VARIABEL) = digunakan untuk mengecek tipe data apa yang di pakai suatu variabel\"\"\")\n"
      ],
      "metadata": {
        "colab": {
          "base_uri": "https://localhost:8080/"
        },
        "id": "4E1Ks0v4OIHy",
        "outputId": "9d2d8fc0-21ad-49c0-9d44-b198e92d59ab"
      },
      "execution_count": null,
      "outputs": [
        {
          "output_type": "stream",
          "name": "stdout",
          "text": [
            "angka_int = 10 -> <class 'int'>\n",
            "angka_float = 3.14 -> <class 'float'>\n",
            "angka_complex = (2+3j) -> <class 'complex'>\n",
            "NOTE :\n",
            "Int/integer = tipe data yang di gunakan bilangan bulat\n",
            "float = tipe data yang di gunakan untuk angka desimal\n",
            "complex = tipe data yang di gunakan untuk operasi bilangan real dan imajiner\n",
            "type(VARIABEL) = digunakan untuk mengecek tipe data apa yang di pakai suatu variabel\n"
          ]
        }
      ]
    },
    {
      "cell_type": "code",
      "source": [
        "# 2. Boolean\n",
        "is_active = True\n",
        "print(\"is_active =\", is_active, \"->\", type(is_active))\n",
        "print(f\"\"\"NOTE :\n",
        "bool/boolean = tipe data yang di gunakan untuk operasi logika(true/false)\n",
        "type(VARIABEL) = digunakan untuk mengecek tipe data apa yang di pakai suatu variabel\"\"\")"
      ],
      "metadata": {
        "colab": {
          "base_uri": "https://localhost:8080/"
        },
        "id": "_-72zNxYQihz",
        "outputId": "af56044d-0229-4244-b9b7-3c0532cf9023"
      },
      "execution_count": null,
      "outputs": [
        {
          "output_type": "stream",
          "name": "stdout",
          "text": [
            "is_active = True -> <class 'bool'>\n",
            "NOTE :\n",
            "bool/boolean = tipe data yang di gunakan untuk operasi logika(true/false)\n",
            "type(VARIABEL) = digunakan untuk mengecek tipe data apa yang di pakai suatu variabel\n"
          ]
        }
      ]
    },
    {
      "cell_type": "code",
      "source": [
        "# 3. String\n",
        "teks = \"Hello, Python!\"\n",
        "print(\"teks =\", teks, \"->\", type(teks))\n",
        "print(f\"\"\"NOTE :\n",
        "str/string = tipe data yang di untuk menuliskakn karakter\n",
        "type(VARIABEL) = digunakan untuk mengecek tipe data apa yang di pakai suatu variabel\"\"\")"
      ],
      "metadata": {
        "colab": {
          "base_uri": "https://localhost:8080/"
        },
        "id": "HxXfsaSJT4UG",
        "outputId": "5dfac085-23d7-4250-c54b-fd592586b6f0"
      },
      "execution_count": null,
      "outputs": [
        {
          "output_type": "stream",
          "name": "stdout",
          "text": [
            "teks = Hello, Python! -> <class 'str'>\n",
            "NOTE :\n",
            "str/string = tipe data yang di untuk menuliskakn karakter\n",
            "type(VARIABEL) = digunakan untuk mengecek tipe data apa yang di pakai suatu variabel\n"
          ]
        }
      ]
    },
    {
      "cell_type": "code",
      "source": [
        "# 4. List\n",
        "# List adalah tipe data terurut dan dapat diubah (mutable)\n",
        "daftar_angka = [1, 2, 3, 4, 5]\n",
        "print(\"daftar_angka =\", daftar_angka, \"->\", type(daftar_angka))\n",
        "print(f\"\"\"NOTE :\n",
        "daftar_angka adalah sebuah list yang berisi lima elemen: [1, 2, 3, 4, 5].\n",
        "List menggunakan tanda kurung siku [] untuk menyimpan elemen.\n",
        "Elemen dalam list bisa berupa angka, string, atau tipe data lainnya.\n",
        "list bisa juga di masukkan kedalam list yang yain atau yang di sebut nested list\n",
        "type(VARIABEL) = digunakan untuk mengecek tipe data apa yang di pakai suatu variabel\"\"\")\n",
        "## cara alternatif membuat list\n",
        "data_range = range(0,10,2) # range(start,stop,step)\n",
        "print(data_range)\n",
        "data_list = list(data_range)\n",
        "print(data_list)"
      ],
      "metadata": {
        "colab": {
          "base_uri": "https://localhost:8080/"
        },
        "id": "nTTwblzhUfkV",
        "outputId": "e55c6524-0321-42fc-a76e-23102161fef3"
      },
      "execution_count": null,
      "outputs": [
        {
          "output_type": "stream",
          "name": "stdout",
          "text": [
            "daftar_angka = [1, 2, 3, 4, 5] -> <class 'list'>\n",
            "NOTE :\n",
            "daftar_angka adalah sebuah list yang berisi lima elemen: [1, 2, 3, 4, 5].\n",
            "List menggunakan tanda kurung siku [] untuk menyimpan elemen.\n",
            "Elemen dalam list bisa berupa angka, string, atau tipe data lainnya.\n",
            "list bisa juga di masukkan kedalam list yang yain atau yang di sebut nested list\n",
            "type(VARIABEL) = digunakan untuk mengecek tipe data apa yang di pakai suatu variabel\n",
            "range(0, 10, 2)\n",
            "[0, 2, 4, 6, 8]\n"
          ]
        }
      ]
    },
    {
      "cell_type": "code",
      "source": [
        "# 5. Tuple\n",
        "# Tuple adalah tipe data terurut tetapi tidak dapat diubah (immutable)\n",
        "koordinat = (10, 20)\n",
        "print(\"koordinat =\", koordinat, \"->\", type(koordinat))\n",
        "print(f\"\"\"NOTE :\n",
        "tuple ditulis menggunakan tanda '()'\n",
        "Tuple bersifat immutable, artinya nilainya tidak bisa diubah setelah dibuat.\n",
        "contoh : koordinat[0] = 11 (ini akan eror)\n",
        "type(VARIABEL) = digunakan untuk mengecek tipe data apa yang di pakai suatu variabel\"\"\")\n"
      ],
      "metadata": {
        "colab": {
          "base_uri": "https://localhost:8080/"
        },
        "id": "cHwaoIc5WgOx",
        "outputId": "c5430ddc-62ba-4d13-e4c6-9c0a34e47618"
      },
      "execution_count": null,
      "outputs": [
        {
          "output_type": "stream",
          "name": "stdout",
          "text": [
            "koordinat = (10, 20) -> <class 'tuple'>\n",
            "NOTE :\n",
            "tuple ditulis menggunakan tanda '()'\n",
            "Tuple bersifat immutable, artinya nilainya tidak bisa diubah setelah dibuat.\n",
            "contoh : koordinat[0] = 11 (ini akan eror)\n",
            "type(VARIABEL) = digunakan untuk mengecek tipe data apa yang di pakai suatu variabel\n"
          ]
        }
      ]
    },
    {
      "cell_type": "code",
      "source": [
        "# 6. Dictionary\n",
        "# Dictionary menyimpan data dalam pasangan key-value\n",
        "data_mahasiswa = {\n",
        "    \"nama\": \"Andi\",\n",
        "    \"nim\": \"A11.2022.12345\",\n",
        "    \"jurusan\": \"Teknik Informatika\"\n",
        "}\n",
        "print(\"data_mahasiswa =\", data_mahasiswa, \"->\", type(data_mahasiswa))\n",
        "print(f\"\"\"NOTE :\n",
        "Dictionary ditulis menggunakan tanda kurung kurawa\n",
        "Dictionary berbeda dengan list karena menggunakan key bukan indexing\n",
        "contoh : print(data_mahasiswa[\"nama\"])\n",
        "type(VARIABEL) = digunakan untuk mengecek tipe data apa yang di pakai suatu variabel\"\"\")\n",
        "print(data_mahasiswa[\"nama\"])"
      ],
      "metadata": {
        "id": "gDA-iXwParCC",
        "outputId": "532d67e7-1e8e-43b4-e135-fdfc7fb7fd2d",
        "colab": {
          "base_uri": "https://localhost:8080/"
        }
      },
      "execution_count": null,
      "outputs": [
        {
          "output_type": "stream",
          "name": "stdout",
          "text": [
            "data_mahasiswa = {'nama': 'Andi', 'nim': 'A11.2022.12345', 'jurusan': 'Teknik Informatika'} -> <class 'dict'>\n",
            "NOTE :\n",
            "Dictionary ditulis menggunakan tanda kurung kurawa\n",
            "Dictionary berbeda dengan list karena menggunakan key bukan indexing\n",
            "contoh : print(data_mahasiswa[\"nama\"])\n",
            "type(VARIABEL) = digunakan untuk mengecek tipe data apa yang di pakai suatu variabel\n",
            "Andi\n"
          ]
        }
      ]
    },
    {
      "cell_type": "code",
      "source": [
        "# 7. Set\n",
        "# Set adalah tipe data yang tidak terurut, unik (tiap elemen hanya muncul\n",
        "himpunan_angka = {1, 2, 3, 2, 1}\n",
        "print(\"himpunan_angka =\", himpunan_angka, \"->\", type(himpunan_angka))\n",
        "print(f\"\"\"NOTE :\n",
        "Set tidak memperbolehkan duplikasi, sehingga angka yang berulang (2 dan 1) akan otomatis dihapus. Hasilnya menjadi 1, 2, 3.\n",
        "Set menggunakan kurung kurawal untuk menyimpan elemen.\n",
        "type(VARIABEL) = digunakan untuk mengecek tipe data apa yang di pakai suatu variabel\"\"\")"
      ],
      "metadata": {
        "id": "dTQFDcnMm6nF",
        "outputId": "a756fe59-7c54-4df8-a929-df08e0f95eba",
        "colab": {
          "base_uri": "https://localhost:8080/"
        }
      },
      "execution_count": null,
      "outputs": [
        {
          "output_type": "stream",
          "name": "stdout",
          "text": [
            "himpunan_angka = {1, 2, 3} -> <class 'set'>\n",
            "NOTE :\n",
            "Set tidak memperbolehkan duplikasi, sehingga angka yang berulang (2 dan 1) akan otomatis dihapus. Hasilnya menjadi 1, 2, 3.\n",
            "Set menggunakan kurung kurawal untuk menyimpan elemen.\n",
            "type(VARIABEL) = digunakan untuk mengecek tipe data apa yang di pakai suatu variabel\n"
          ]
        }
      ]
    },
    {
      "cell_type": "code",
      "source": [
        " # 8. Contoh penggunaan konversi tipe data\n",
        "nilai_str = \"100\"\n",
        "print(\"\\nnilai_str =\", nilai_str, \"->\", type(nilai_str))\n",
        "nilai_int = int(nilai_str) # konversi string ke integer\n",
        "print(\"nilai_int =\", nilai_int, \"->\", type(nilai_int))\n",
        "print(f\"\"\"NOTE :\n",
        "konversi biasanya di gunakan untuk :\n",
        "mengubah input dari user karena pada saat menuliskan input('masukkan angka' :) akan terbaca sebagai string tapi jika kita konversi menjadi integer maka akan terbaca sebagai angka sehingga dapat di gunakan untuk perhitungan matematika\n",
        "merubah list menjadi set untuk menghilangkan duplikasi\n",
        "type(VARIABEL) = digunakan untuk mengecek tipe data apa yang di pakai suatu variabel\"\"\")"
      ],
      "metadata": {
        "id": "k6T7gOWrozHl",
        "outputId": "5553f5a0-c7f5-47d9-9b4d-bfe8b52998d1",
        "colab": {
          "base_uri": "https://localhost:8080/"
        }
      },
      "execution_count": null,
      "outputs": [
        {
          "output_type": "stream",
          "name": "stdout",
          "text": [
            "\n",
            "nilai_str = 100 -> <class 'str'>\n",
            "nilai_int = 100 -> <class 'int'>\n",
            "NOTE :\n",
            "konversi biasanya di gunakan untuk :\n",
            "mengubah input dari user karena pada saat menuliskan input('masukkan angka' :) akan terbaca sebagai string tapi jika kita konversi menjadi integer maka akan terbaca sebagai angka sehingga dapat di gunakan untuk perhitungan matematika\n",
            "merubah list menjadi set untuk menghilangkan duplikasi\n",
            "type(VARIABEL) = digunakan untuk mengecek tipe data apa yang di pakai suatu variabel\n"
          ]
        }
      ]
    },
    {
      "cell_type": "markdown",
      "source": [
        "Praktikum 02. Variabel dan Operasi dasar"
      ],
      "metadata": {
        "id": "GxpMzZEZqYxY"
      }
    },
    {
      "cell_type": "code",
      "source": [
        "# 1. Pendeklarasian Variabel\n",
        "nama = \"Budi\"\n",
        "umur = 20\n",
        "tinggi = 170.5\n",
        "is_student = True\n",
        "\n",
        "print(\"Nama =\", nama)\n",
        "print(\"Umur =\", umur)\n",
        "print(\"Tinggi =\", tinggi, \"cm\")\n",
        "print(\"Mahasiswa =\", is_student)\n",
        "print(f\"\"\"NOTE :\n",
        "Python tidak memerlukan deklarasi tipe data secara eksplisit.\n",
        "Tipe data variabel akan menyesuaikan nilai yang diberikan\n",
        "Tidak boleh menggunakan kata kunci (seperti if, for, while, dll.).\n",
        "Tidak boleh di dahului angka\n",
        "Tidak boleh menggunakan spasi\n",
        "\"\"\")\n"
      ],
      "metadata": {
        "id": "fO_5fJK_qgH3",
        "outputId": "62ff3954-15d6-4d7e-badf-e84c9b13ae39",
        "colab": {
          "base_uri": "https://localhost:8080/"
        }
      },
      "execution_count": null,
      "outputs": [
        {
          "output_type": "stream",
          "name": "stdout",
          "text": [
            "Nama = Budi\n",
            "Umur = 20\n",
            "Tinggi = 170.5 cm\n",
            "Mahasiswa = True\n",
            "NOTE :\n",
            "Python tidak memerlukan deklarasi tipe data secara eksplisit.\n",
            "Tipe data variabel akan menyesuaikan nilai yang diberikan\n",
            "Tidak boleh menggunakan kata kunci (seperti if, for, while, dll.).\n",
            "Tidak boleh di dahului angka\n",
            "Tidak boleh menggunakan spasi\n",
            "\n"
          ]
        }
      ]
    },
    {
      "cell_type": "code",
      "source": [
        "# 2. Operasi Aritmetika\n",
        "a = 10\n",
        "b = 3\n",
        "\n",
        "penjumlahan = a + b  # Tambah\n",
        "pengurangan = a - b  # Kurang\n",
        "perkalian = a * b  # Kali\n",
        "pembagian = a / b  # Bagi (hasil float)\n",
        "pembagian_bulat = a // b  # Bagi (bulat)\n",
        "modulus = a % b  # Sisa bagi\n",
        "pangkat = a ** b  # Pemangkatan\n",
        "\n",
        "print(\"\\nOPERASI ARITMETIKA\")\n",
        "print(\"a =\", a, \", b =\", b)\n",
        "print(\"Penjumlahan =\", penjumlahan)\n",
        "print(\"Pengurangan =\", pengurangan)\n",
        "print(\"Perkalian =\", perkalian)\n",
        "print(\"Pembagian =\", pembagian)\n",
        "print(\"Pembagian Bulat =\", pembagian_bulat)\n",
        "print(\"Modulus =\", modulus)\n",
        "print(\"Pangkat =\", pangkat)\n",
        "\n",
        "print(f\"\"\"NOTE :\n",
        "Python mengikuti aturan matematika standar :\n",
        "\n",
        "1️⃣ Kurung ()\n",
        "2️⃣ Pangkat (**)\n",
        "3️⃣ Perkalian (*), Pembagian (/), Pembagian Bulat (//), Modulus (%)\n",
        "4️⃣ Penjumlahan (+), Pengurangan (-)\n",
        "\"\"\")"
      ],
      "metadata": {
        "id": "oG2ZmZSjuGOa",
        "outputId": "76f474d9-a218-40f9-ecc8-d96bf2d161e7",
        "colab": {
          "base_uri": "https://localhost:8080/"
        }
      },
      "execution_count": null,
      "outputs": [
        {
          "output_type": "stream",
          "name": "stdout",
          "text": [
            "\n",
            "OPERASI ARITMETIKA\n",
            "a = 10 , b = 3\n",
            "Penjumlahan = 13\n",
            "Pengurangan = 7\n",
            "Perkalian = 30\n",
            "Pembagian = 3.3333333333333335\n",
            "Pembagian Bulat = 3\n",
            "Modulus = 1\n",
            "Pangkat = 1000\n",
            "NOTE :\n",
            "Python mengikuti aturan matematika standar :\n",
            "\n",
            "1️⃣ Kurung ()\n",
            "2️⃣ Pangkat (**)\n",
            "3️⃣ Perkalian (*), Pembagian (/), Pembagian Bulat (//), Modulus (%)\n",
            "4️⃣ Penjumlahan (+), Pengurangan (-)\n",
            "\n"
          ]
        }
      ]
    },
    {
      "cell_type": "code",
      "source": [
        "# 3. Operasi Perbandingan\n",
        "# Menghasilkan nilai Boolean (True/False)\n",
        "lebih_besar = a > b\n",
        "kurang_dari = a < b\n",
        "sama_dengan = a == b\n",
        "tidak_sama = a != b\n",
        "lebih_besar_sama = a >= b\n",
        "kurang_sama = a <= b\n",
        "\n",
        "print(\"\\nOPERASI PERBANDINGAN\")\n",
        "print(\"a > b =\", lebih_besar)\n",
        "print(\"a < b =\", kurang_dari)\n",
        "print(\"a == b =\", sama_dengan)\n",
        "print(\"a != b =\", tidak_sama)\n",
        "print(\"a >= b =\", lebih_besar_sama)\n",
        "print(\"a <= b =\", kurang_sama)\n",
        "\n",
        "print(f\"\"\"NOTE :\n",
        "Operasi perbandingan menghasilkan nilai True atau False.\n",
        "Biasa digunakan dalam percabangan (if) dan perulangan (while).\n",
        "Bisa digunakan untuk angka, string, dan tipe data lainnya.\n",
        "String dibandingkan berdasarkan urutan alfabet (ASCII).\n",
        "\"\"\")"
      ],
      "metadata": {
        "id": "b8ZKt1JIvkC1",
        "outputId": "dddb5cab-5dde-4d1f-ca08-03a05e8d92fa",
        "colab": {
          "base_uri": "https://localhost:8080/"
        }
      },
      "execution_count": null,
      "outputs": [
        {
          "output_type": "stream",
          "name": "stdout",
          "text": [
            "\n",
            "OPERASI PERBANDINGAN\n",
            "a > b = True\n",
            "a < b = False\n",
            "a == b = False\n",
            "a != b = True\n",
            "a >= b = True\n",
            "a <= b = False\n",
            "NOTE :\n",
            "Operasi perbandingan menghasilkan nilai True atau False.\n",
            "Biasa digunakan dalam percabangan (if) dan perulangan (while).\n",
            "Bisa digunakan untuk angka, string, dan tipe data lainnya.\n",
            "String dibandingkan berdasarkan urutan alfabet (ASCII).\n",
            "\n"
          ]
        }
      ]
    },
    {
      "cell_type": "code",
      "source": [
        "# 4. Operasi Logika\n",
        "# and, or, not\n",
        "\n",
        "x = True\n",
        "y = False\n",
        "\n",
        "logika_and = x and y\n",
        "logika_or = x or y\n",
        "logika_not_x = not x\n",
        "\n",
        "print(\"\\nOPERASI LOGIKA\")\n",
        "print(\"x =\", x, \", y =\", y)\n",
        "print(\"x and y =\", logika_and)\n",
        "print(\"x or y =\", logika_or)\n",
        "print(\"not x =\", logika_not_x)\n",
        "\n",
        "print(f\"\"\"NOTE :\n",
        "Operator logika digunakan untuk mengevaluasi kondisi dalam bentuk Boolean.\n",
        "Gunakan and jika kedua kondisi harus True.\n",
        "Gunakan or jika salah satu kondisi cukup True.\n",
        "Gunakan not untuk membalikkan nilai Boolean.\n",
        "Operator logika dapat digunakan dalam percabangan (if) dan perulangan (while).\n",
        "\"\"\")\n"
      ],
      "metadata": {
        "id": "bVggWyOpygKz",
        "outputId": "47fb3a0d-7371-4318-cbce-9b00a07a1d40",
        "colab": {
          "base_uri": "https://localhost:8080/"
        }
      },
      "execution_count": null,
      "outputs": [
        {
          "output_type": "stream",
          "name": "stdout",
          "text": [
            "\n",
            "OPERASI LOGIKA\n",
            "x = True , y = False\n",
            "x and y = False\n",
            "x or y = True\n",
            "not x = False\n",
            "NOTE :\n",
            "Operator logika digunakan untuk mengevaluasi kondisi dalam bentuk Boolean.\n",
            "Gunakan and jika kedua kondisi harus True.\n",
            "Gunakan or jika salah satu kondisi cukup True.\n",
            "Gunakan not untuk membalikkan nilai Boolean.\n",
            "Operator logika dapat digunakan dalam percabangan (if) dan perulangan (while).\n",
            "\n"
          ]
        }
      ]
    },
    {
      "cell_type": "code",
      "source": [
        "# 5. Contoh penggunaan di dalam percabangan\n",
        "a = 10\n",
        "b = 3\n",
        "if a > b and b > 0:\n",
        "  print(\"\\nKondisi terpenuhi: a lebih besar dari b, dan b masih positif.\")\n",
        "else:\n",
        "  print(\"\\nKondisi tidak terpenuhi atau b <= 0.\")\n",
        "\n",
        "print(f\"\"\"NOTE :\n",
        "Penggunakan kurang dari dan lebih dari sering di gunakan pada percabangan untuk menentukan kondisi\n",
        "\"\"\")"
      ],
      "metadata": {
        "id": "hfkufMuo6ncS",
        "outputId": "3cf46343-4c1f-42f6-d002-9e084830b07b",
        "colab": {
          "base_uri": "https://localhost:8080/"
        }
      },
      "execution_count": 2,
      "outputs": [
        {
          "output_type": "stream",
          "name": "stdout",
          "text": [
            "\n",
            "Kondisi tidak terpenuhi atau b <= 0.\n",
            "NOTE :\n",
            "\n",
            "\n"
          ]
        }
      ]
    },
    {
      "cell_type": "markdown",
      "source": [
        "Praktikum 03. Percabangan\n"
      ],
      "metadata": {
        "id": "0gdrF8uGYu89"
      }
    },
    {
      "cell_type": "code",
      "source": [
        " # 1. IF Sederhana\n",
        "# Program hanya mengeksekusi blok jika kondisinya True\n",
        "\n",
        "nilai = 85\n",
        "print(\"Contoh IF Sederhana:\")\n",
        "if nilai > 80:\n",
        "  print(\"Selamat! Anda lulus dengan nilai tinggi.\\n\")\n",
        "\n",
        "print(f\"\"\"NOTE :\n",
        "Kondisi dalam if dapat berisi:\n",
        "or, and, not, dan kombinasi keduanya.\n",
        "(<) kurang dari (>), Lebih dari (<=) kurang dari sama dengan, (>=) lebih dari sama dengan, (==) sama dengan, (!=) tidak sama dengan\n",
        "if digunakan dengan format:\n",
        "if KONDISI 1:\n",
        "  AKSI 1\n",
        "\"\"\")"
      ],
      "metadata": {
        "id": "9FqtRN8IY1_g",
        "outputId": "774cbdbe-3bad-43ae-a583-1df6f44a2ad7",
        "colab": {
          "base_uri": "https://localhost:8080/"
        }
      },
      "execution_count": 4,
      "outputs": [
        {
          "output_type": "stream",
          "name": "stdout",
          "text": [
            "Contoh IF Sederhana:\n",
            "Selamat! Anda lulus dengan nilai tinggi.\n",
            "\n",
            "NOTE :\n",
            "Kondisi dalam if dapat berisi:\n",
            "or, and, not, dan kombinasi keduanya.\n",
            "(<) kurang dari (>) Lebih dari (<=) kurang dari sama dengan (>=) lebih dari sama dengan (==) sama dengan (!=) tidak sama dengan\n",
            "if digunakan dengan format:\n",
            "if KONDISI 1:\n",
            " AKSI 1\n",
            "\n"
          ]
        }
      ]
    },
    {
      "cell_type": "code",
      "source": [
        " # 2. IF-ELSE\n",
        "# Jika kondisi True, eksekusi blok if; jika False, eksekusi blok else\n",
        "umur = 17\n",
        "print(\"Contoh IF-ELSE:\")\n",
        "if umur >= 18:\n",
        "  print(\"Anda sudah cukup umur untuk mendapatkan SIM.\")\n",
        "else:\n",
        "  print(\"Anda belum cukup umur untuk mendapatkan SIM.\\n\")\n",
        "print(f\"\"\"NOTE :\n",
        "else digunakan untuk segala kondisi yang tidak terjadi di if\n",
        "\"\"\")"
      ],
      "metadata": {
        "id": "5K7jwnvVbNPa",
        "outputId": "78ab0a88-17f5-4ea3-8662-79572276cd9b",
        "colab": {
          "base_uri": "https://localhost:8080/"
        }
      },
      "execution_count": 1,
      "outputs": [
        {
          "output_type": "stream",
          "name": "stdout",
          "text": [
            "Contoh IF-ELSE:\n",
            "Anda belum cukup umur untuk mendapatkan SIM.\n",
            "\n",
            "NOTE :\n",
            "else digunakan untuk segala kondisi yang tidak terjadi di if\n",
            "\n"
          ]
        }
      ]
    },
    {
      "cell_type": "code",
      "source": [
        "# 3. IF-ELIF-ELSE\n",
        "# Menangani banyak kondisi secara berurutan.\n",
        "# Jika ada kondisi yang terpenuhi, blok yang bersangkutan dieksekusi,\n",
        "# lalu program melewati blok kondisi setelahnya.\n",
        "\n",
        "hari = \"Rabu\"\n",
        "print(\"Contoh IF-ELIF-ELSE:\")\n",
        "if hari == \"Senin\":\n",
        "    print(\"Hari Senin - Saatnya kembali bekerja!\")\n",
        "elif hari == \"Selasa\":\n",
        "    print(\"Hari Selasa - Jadwal rapat mingguan.\")\n",
        "elif hari == \"Rabu\":\n",
        "    print(\"Hari Rabu - Ada diskon di beberapa toko.\")\n",
        "else:\n",
        "    print(\"Hari lainnya - Atur jadwalmu dengan baik.\\n\")\n",
        "\n",
        "print(\"\"\"NOTE :\n",
        "elif digunakan untuk menangani banyak kondisi tanpa perlu if terpisah\n",
        "Program memeriksa kondisi dari atas ke bawah dan hanya menjalankan blok pertama yang benar\n",
        "Urutan elif sangat penting agar program berjalan dengan benar\n",
        "Dengan elif, kode menjadi lebih rapi dan efisien!\n",
        "\"\"\")"
      ],
      "metadata": {
        "id": "itJta_ZilpYt",
        "outputId": "c4a9479b-a58a-4b05-ffd0-f5a3a4df8d06",
        "colab": {
          "base_uri": "https://localhost:8080/"
        }
      },
      "execution_count": 3,
      "outputs": [
        {
          "output_type": "stream",
          "name": "stdout",
          "text": [
            "Contoh IF-ELIF-ELSE:\n",
            "Hari Rabu - Ada diskon di beberapa toko.\n",
            "NOTE :\n",
            "elif digunakan untuk menangani banyak kondisi tanpa perlu if terpisah\n",
            "Program memeriksa kondisi dari atas ke bawah dan hanya menjalankan blok pertama yang benar\n",
            "Urutan elif sangat penting agar program berjalan dengan benar\n",
            "Dengan elif, kode menjadi lebih rapi dan efisien!\n",
            "\n"
          ]
        }
      ]
    },
    {
      "cell_type": "code",
      "source": [
        "# 4. IF Bersarang (Nested IF)\n",
        "# Kondisi di dalam kondisi, biasa digunakan jika kita perlu\n",
        "# memeriksa sub-kondisi setelah kondisi pertama terpenuhi.\n",
        "\n",
        "suhu = 35\n",
        "print(\"Contoh IF Bersarang (Nested IF):\")\n",
        "if suhu > 30:\n",
        "    print(\"Cuaca cukup panas.\")\n",
        "    if suhu > 40:\n",
        "        print(\"Bahkan sangat terik! Disarankan banyak minum air.\")\n",
        "    else:\n",
        "        print(\"Masih relatif normal, tapi tetap jaga kesehatan.\")\n",
        "else:\n",
        "    print(\"Cuaca sepertinya cukup sejuk.\\n\")\n",
        "\n",
        "print(\"\"\"NOTE :\n",
        "Nested if adalah pernyataan if yang berada di dalam if lainnya, digunakan untuk memeriksa sub-kondisi setelah kondisi pertama terpenuhi.\n",
        "\"\"\")"
      ],
      "metadata": {
        "id": "L99nsE3nnDO3",
        "outputId": "74a85d34-0694-402c-bca7-5a3875fbddd1",
        "colab": {
          "base_uri": "https://localhost:8080/"
        }
      },
      "execution_count": 4,
      "outputs": [
        {
          "output_type": "stream",
          "name": "stdout",
          "text": [
            "Contoh IF Bersarang (Nested IF):\n",
            "Cuaca cukup panas.\n",
            "Masih relatif normal, tapi tetap jaga kesehatan.\n",
            "NOTE :\n",
            "Nested if adalah pernyataan if yang berada di dalam if lainnya, digunakan untuk memeriksa sub-kondisi setelah kondisi pertama terpenuhi.\n",
            "\n"
          ]
        }
      ]
    },
    {
      "cell_type": "code",
      "source": [
        "# 5. Menggabungkan Percabangan dengan Operasi Logika\n",
        "# Memeriksa beberapa kondisi sekaligus dengan and, or, not\n",
        "\n",
        "nilai_teori = 75\n",
        "nilai_praktik = 80\n",
        "print(\"Contoh IF dengan Operasi Logika AND/OR:\")\n",
        "\n",
        "if nilai_teori >= 70 and nilai_praktik >= 70:\n",
        "    print(\"Anda lulus karena nilai teori dan praktik memadai.\")\n",
        "elif nilai_teori < 70 and nilai_praktik < 70:\n",
        "    print(\"Anda perlu meningkatkan nilai teori dan praktik.\")\n",
        "elif nilai_teori < 70:\n",
        "    print(\"Anda perlu meningkatkan nilai teori.\")\n",
        "else:\n",
        "    print(\"Anda perlu meningkatkan nilai praktik.\\n\")\n",
        "\n",
        "print(\"\"\"NOTE :\n",
        "Gunakan and jika semua kondisi harus benar\n",
        "Gunakan or jika salah satu kondisi cukup untuk benar\n",
        "Gunakan not untuk membalikkan kondisi\n",
        "\"\"\")"
      ],
      "metadata": {
        "id": "sDVjkzlBpCNp",
        "outputId": "1d46ea5b-4a40-4e99-cc52-e776590bf57b",
        "colab": {
          "base_uri": "https://localhost:8080/"
        }
      },
      "execution_count": 5,
      "outputs": [
        {
          "output_type": "stream",
          "name": "stdout",
          "text": [
            "Contoh IF dengan Operasi Logika AND/OR:\n",
            "Anda lulus karena nilai teori dan praktik memadai.\n",
            "NOTE :\n",
            "Gunakan and jika semua kondisi harus benar\n",
            "Gunakan or jika salah satu kondisi cukup untuk benar\n",
            "Gunakan not untuk membalikkan kondisi\n",
            "\n"
          ]
        }
      ]
    },
    {
      "cell_type": "code",
      "source": [
        "# 6. Penggunaan If Ternary (atau Conditional Expression)\n",
        "# Bentuk ringkas: <hasil_if_true> if <kondisi> else <hasil_if_false>\n",
        "\n",
        "angka = -5\n",
        "print(\"Contoh If Ternary (Conditional Expression):\")\n",
        "\n",
        "status = \"Positif\" if angka > 0 else \"Negatif atau Nol\"\n",
        "print(\"Angka =\", angka, \"=>\", status)\n",
        "\n",
        "print(\"\"\"NOTE:\n",
        "Kode lebih singkat dan rapi\n",
        "Mudah digunakan untuk kondisi sederhana\n",
        "Jika kondisi terlalu kompleks Gunakan if-else biasa agar lebih mudah dibaca\n",
        "\"\"\")"
      ],
      "metadata": {
        "id": "9aGynyXfqTis",
        "outputId": "d3964ae5-05d8-4f78-c11c-ad6b03c9c19d",
        "colab": {
          "base_uri": "https://localhost:8080/"
        }
      },
      "execution_count": 6,
      "outputs": [
        {
          "output_type": "stream",
          "name": "stdout",
          "text": [
            "Contoh If Ternary (Conditional Expression):\n",
            "Angka = -5 => Negatif atau Nol\n",
            "NOTE:\n",
            "Kode lebih singkat dan rapi\n",
            "Mudah digunakan untuk kondisi sederhana\n",
            "Jika kondisi terlalu kompleks Gunakan if-else biasa agar lebih mudah dibaca\n",
            "\n"
          ]
        }
      ]
    },
    {
      "cell_type": "markdown",
      "source": [
        "Praktikum 04. Perulangan"
      ],
      "metadata": {
        "id": "nA87K8deqpkT"
      }
    },
    {
      "cell_type": "code",
      "source": [
        "# 1. FOR Loop dengan range()\n",
        "print(\"1) FOR loop dengan range()\")\n",
        "\n",
        "for i in range(5):\n",
        "    print(\"Perulangan ke-\", i)\n",
        "\n",
        "# range(5) menghasilkan nilai 0, 1, 2, 3, dan 4\n",
        "# Sehingga perulangan akan berjalan sebanyak 5 kali\n",
        "\n",
        "print(\"\"\"NOTE :\n",
        "Perulangan for digunakan untuk mengulang suatu blok kode sejumlah tertentu atau mengiterasi elemen dalam suatu koleksi (seperti list, tuple, atau string)\n",
        "Nilai pada range akan di ambil nilai awal sampai nilai akhir - 1, jadi jika ingin range sampai 5 maka range(6)\n",
        "\"\"\")\n"
      ],
      "metadata": {
        "id": "5O2mGmNnqtD6",
        "outputId": "eb3d2c5b-6fb9-4361-cc35-7d12ed68a6cf",
        "colab": {
          "base_uri": "https://localhost:8080/"
        }
      },
      "execution_count": 9,
      "outputs": [
        {
          "output_type": "stream",
          "name": "stdout",
          "text": [
            "1) FOR loop dengan range()\n",
            "Perulangan ke- 0\n",
            "Perulangan ke- 1\n",
            "Perulangan ke- 2\n",
            "Perulangan ke- 3\n",
            "Perulangan ke- 4\n",
            "NOTE :\n",
            "Perulangan for digunakan untuk mengulang suatu blok kode sejumlah tertentu atau mengiterasi elemen dalam suatu koleksi (seperti list, tuple, atau string)\n",
            "Nilai pada range akan di ambil nilai awal sampai nilai akhir - 1, jadi jika ingin range sampai 5 maka range(6)\n",
            "\n"
          ]
        }
      ]
    },
    {
      "cell_type": "code",
      "source": [
        "# 2. FOR Loop untuk mengiterasi List\n",
        "print(\"2) FOR loop mengiterasi list\")\n",
        "\n",
        "buah = [\"apel\", \"mangga\", \"jeruk\", \"pisang\"]\n",
        "for item in buah:\n",
        "    print(\"Buah:\", item)\n",
        "\n",
        "# Loop akan mengeksekusi setiap elemen dalam list \"buah\"\n",
        "print(\"\"\"NOTE:\n",
        "Perulangan for dapat digunakan untuk mengakses setiap elemen dalam list satu per satu tanpa perlu menggunakan indeks secara manual.\n",
        "\"\"\")"
      ],
      "metadata": {
        "id": "qb-xLjIcwDpP",
        "outputId": "b6ded07e-ad6d-4be1-b1be-aaa285df96a4",
        "colab": {
          "base_uri": "https://localhost:8080/"
        }
      },
      "execution_count": 11,
      "outputs": [
        {
          "output_type": "stream",
          "name": "stdout",
          "text": [
            "2) FOR loop mengiterasi list\n",
            "Buah: apel\n",
            "Buah: mangga\n",
            "Buah: jeruk\n",
            "Buah: pisang\n",
            "NOTE:\n",
            "Perulangan for dapat digunakan untuk mengakses setiap elemen dalam list satu per satu tanpa perlu menggunakan indeks secara manual.\n",
            "\n"
          ]
        }
      ]
    },
    {
      "cell_type": "code",
      "source": [
        "# 3. WHILE Loop\n",
        "print(\"3) WHILE loop sederhana\")\n",
        "\n",
        "count = 0\n",
        "while count < 5:\n",
        "    print(\"count =\", count)\n",
        "    count += 1  # increment\n",
        "\n",
        "# Perulangan while terus dijalankan selama kondisi (count < 5) bernilai True\n",
        "print(\"\"\"MOTE :\n",
        "while digunakan untuk menjalankan blok kode selama kondisi tertentu masih bernilai True.\n",
        "while dapat juka di tulis sepeti berikut\n",
        "while True :\n",
        "  print(\"Pemrograman berbasis Objek\")\n",
        "namun program tersebut akan terus berjalan tak terbatas akan mengulang terus, untuk menghentikkannya dapat menggunakan break\n",
        "\"\"\")"
      ],
      "metadata": {
        "id": "HUJ-_iUcwfJX",
        "outputId": "c7a372a7-b65c-4c88-b9a0-04db5989db91",
        "colab": {
          "base_uri": "https://localhost:8080/"
        }
      },
      "execution_count": 14,
      "outputs": [
        {
          "output_type": "stream",
          "name": "stdout",
          "text": [
            "3) WHILE loop sederhana\n",
            "count = 0\n",
            "count = 1\n",
            "count = 2\n",
            "count = 3\n",
            "count = 4\n",
            "\n",
            "while digunakan untuk menjalankan blok kode selama kondisi tertentu masih bernilai True.\n",
            "while dapat juka di tulis sepeti berikut\n",
            "while True :\n",
            "  print(\"Pemrograman berbasis Objek\")\n",
            "namun program tersebut akan terus berjalan tak terbatas akan mengulang terus, untuk menghentikkannya dapat menggunakan break\n",
            "\n"
          ]
        }
      ]
    },
    {
      "cell_type": "code",
      "source": [
        "# 4. BREAK pada Loop\n",
        "print(\"4) BREAK di dalam loop\")\n",
        "\n",
        "for i in range(10):\n",
        "    if i == 3:\n",
        "        print(\"Loop dihentikan pada i =\", i)\n",
        "        break  # Mengakhiri loop saat i = 3\n",
        "    print(\"i =\", i)\n",
        "\n",
        "# Keyword break langsung menghentikan keseluruhan perulangan\n",
        "print(\"\"\"NOTE :\n",
        "break digunakan untuk menghentikan perulangan sebelum kondisi selesai. Ketika break dieksekusi, loop akan langsung berhenti dan kode setelahnya tidak akan dijalankan dalam loop.\n",
        "break juga bisa di gunakan pada while loop seperti yang saya contohkan di atas\n",
        "\"\"\")"
      ],
      "metadata": {
        "id": "znPX0RqYx9ih",
        "outputId": "fd61fd50-a128-43f6-b47e-bef20ffa7265",
        "colab": {
          "base_uri": "https://localhost:8080/"
        }
      },
      "execution_count": 16,
      "outputs": [
        {
          "output_type": "stream",
          "name": "stdout",
          "text": [
            "4) BREAK di dalam loop\n",
            "i = 0\n",
            "i = 1\n",
            "i = 2\n",
            "Loop dihentikan pada i = 3\n",
            "\n",
            "break digunakan untuk menghentikan perulangan sebelum kondisi selesai. Ketika break dieksekusi, loop akan langsung berhenti dan kode setelahnya tidak akan dijalankan dalam loop.\n",
            "break juga bisa di gunakan pada while loop seperti yang saya contohkan di atas\n",
            "\n"
          ]
        }
      ]
    },
    {
      "cell_type": "code",
      "source": [
        "# 5. CONTINUE pada Loop\n",
        "print(\"5) CONTINUE di dalam loop\")\n",
        "\n",
        "for i in range(5):\n",
        "    if i == 2:\n",
        "        print(\"Lewati i =\", i, \"dengan continue\")\n",
        "        continue  # Melewati iterasi saat ini dan lanjut ke iterasi berikutnya\n",
        "    print(\"i =\", i)\n",
        "\n",
        "# Saat i = 2, baris print(\"i =\", i) tidak akan dieksekusi\n",
        "print(\"\"\"NOTE :\n",
        "continue digunakan untuk melewati satu iterasi dalam loop dan langsung lanjut ke iterasi berikutnya\n",
        "Gunakan continue saat perlu melewati iterasi tertentu tanpa menghentikan loop\n",
        "\"\"\")"
      ],
      "metadata": {
        "id": "9LEat6cL2BHp",
        "outputId": "5c0573e4-5000-4ec2-b979-8e07541a2b00",
        "colab": {
          "base_uri": "https://localhost:8080/"
        }
      },
      "execution_count": 17,
      "outputs": [
        {
          "output_type": "stream",
          "name": "stdout",
          "text": [
            "5) CONTINUE di dalam loop\n",
            "i = 0\n",
            "i = 1\n",
            "Lewati i = 2 dengan continue\n",
            "i = 3\n",
            "i = 4\n",
            "\n",
            "continue digunakan untuk melewati satu iterasi dalam loop dan langsung lanjut ke iterasi berikutnya\n",
            "Gunakan continue saat perlu melewati iterasi tertentu tanpa menghentikan loop\n",
            "\n"
          ]
        }
      ]
    },
    {
      "cell_type": "code",
      "source": [
        "# 6. NESTED Loop (Loop Bersarang)\n",
        "print(\"6) NESTED loop\")\n",
        "\n",
        "for i in range(3):  # Loop luar (outer loop)\n",
        "    for j in range(2):  # Loop dalam (inner loop)\n",
        "        print(f\"i={i}, j={j}\")\n",
        "\n",
        "# Pada setiap iterasi i, loop j akan berjalan dari 0 sampai 1\n",
        "print(\"\"\"NOTE :\n",
        "Nested loop (loop bersarang) adalah perulangan di dalam perulangan, di mana setiap iterasi dari loop luar akan mengeksekusi seluruh iterasi dari loop dalam.\n",
        "Nested loop digunakan untuk mengolah data bertingkat (misalnya tabel, matriks, atau pola).\n",
        "Total iterasi = (jumlah iterasi loop luar) × (jumlah iterasi loop dalam).\n",
        "\"\"\")"
      ],
      "metadata": {
        "id": "L5htKHky2aWI",
        "outputId": "eead494f-9269-425b-9d6e-603c07eeb542",
        "colab": {
          "base_uri": "https://localhost:8080/"
        }
      },
      "execution_count": 18,
      "outputs": [
        {
          "output_type": "stream",
          "name": "stdout",
          "text": [
            "6) NESTED loop\n",
            "i=0, j=0\n",
            "i=0, j=1\n",
            "i=1, j=0\n",
            "i=1, j=1\n",
            "i=2, j=0\n",
            "i=2, j=1\n",
            "NOTE :\n",
            "Nested loop (loop bersarang) adalah perulangan di dalam perulangan, di mana setiap iterasi dari loop luar akan mengeksekusi seluruh iterasi dari loop dalam.\n",
            "Nested loop digunakan untuk mengolah data bertingkat (misalnya tabel, matriks, atau pola).\n",
            "Total iterasi = (jumlah iterasi loop luar) × (jumlah iterasi loop dalam).\n",
            "\n"
          ]
        }
      ]
    },
    {
      "cell_type": "code",
      "source": [
        "# 7. ELSE pada loop for/while\n",
        "print(\"7) ELSE pada loop for/while\")\n",
        "\n",
        "# Python memiliki fitur unik: blok else pada loop\n",
        "# Blok else akan dieksekusi jika loop selesai tanpa di-break.\n",
        "\n",
        "for x in range(3):\n",
        "    print(\"x =\", x)\n",
        "else:\n",
        "    print(\"Loop for telah selesai tanpa break.\\n\")\n",
        "\n",
        "y = 0\n",
        "while y < 3:\n",
        "    print(\"y =\", y)\n",
        "    y += 1\n",
        "else:\n",
        "    print(\"Loop while telah selesai tanpa break.\\n\")\n",
        "\n",
        "print(\"\"\"NOTE :\n",
        "Bisa digunakan untuk menandai bahwa loop selesai dengan normal.\n",
        "Beda dengan else pada if, di mana else selalu berjalan jika kondisi if salah.\n",
        "\"\"\")"
      ],
      "metadata": {
        "id": "drjfVv5c3pCV",
        "outputId": "ce79fdd0-b6fb-446e-a27c-2efaf9bc7843",
        "colab": {
          "base_uri": "https://localhost:8080/"
        }
      },
      "execution_count": 19,
      "outputs": [
        {
          "output_type": "stream",
          "name": "stdout",
          "text": [
            "7) ELSE pada loop for/while\n",
            "x = 0\n",
            "x = 1\n",
            "x = 2\n",
            "Loop for telah selesai tanpa break.\n",
            "\n",
            "y = 0\n",
            "y = 1\n",
            "y = 2\n",
            "Loop while telah selesai tanpa break.\n",
            "\n",
            "NOTE :\n",
            "Bisa digunakan untuk menandai bahwa loop selesai dengan normal.\n",
            "Beda dengan else pada if, di mana else selalu berjalan jika kondisi if salah.\n",
            "\n"
          ]
        }
      ]
    },
    {
      "cell_type": "code",
      "source": [
        "# 8) PASS (placeholder)\n",
        "print(\"8) PASS (placeholder)\")\n",
        "\n",
        "for i in range(3):\n",
        "    if i == 1:\n",
        "        pass  # pass tidak melakukan apa-apa, digunakan sebagai placeholder\n",
        "    print(\"i =\", i)\n",
        "print(\"\"\"NOTE:\n",
        "PASS ini sangat berguna nanti pada saat menggunakan Fungsi\n",
        "sebagai contoh sebagai berikut\n",
        "def fungsi_belum_jadi():\n",
        "    pass  # Tidak melakukan apa-apa, menghindari error\n",
        "\n",
        "print(\"Program tetap berjalan meskipun fungsi belum diisi.\")\n",
        "PASS sangat berguna untuk menghindari eror saat kita belum selesai membuat struktur program\n",
        "\"\"\")"
      ],
      "metadata": {
        "id": "k6XTtLFn4V_B",
        "outputId": "9374e541-ce4b-485b-e775-4dcc578a375e",
        "colab": {
          "base_uri": "https://localhost:8080/"
        }
      },
      "execution_count": 20,
      "outputs": [
        {
          "output_type": "stream",
          "name": "stdout",
          "text": [
            "8) PASS (placeholder)\n",
            "i = 0\n",
            "i = 1\n",
            "i = 2\n",
            "NOTE:\n",
            "PASS ini sangat berguna nanti pada saat menggunakan Fungsi\n",
            "sebagai contoh sebagai berikut\n",
            "def fungsi_belum_jadi():\n",
            "    pass  # Tidak melakukan apa-apa, menghindari error\n",
            "\n",
            "print(\"Program tetap berjalan meskipun fungsi belum diisi.\")\n",
            "PASS sangat berguna untuk menghindari eror saat kita belum selesai membuat struktur program\n",
            "\n"
          ]
        }
      ]
    }
  ]
}