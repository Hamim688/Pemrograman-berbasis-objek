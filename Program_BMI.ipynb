{
  "nbformat": 4,
  "nbformat_minor": 0,
  "metadata": {
    "colab": {
      "provenance": [],
      "authorship_tag": "ABX9TyNq2pAHKkneJ6+bq4Gi5THQ",
      "include_colab_link": true
    },
    "kernelspec": {
      "name": "python3",
      "display_name": "Python 3"
    },
    "language_info": {
      "name": "python"
    }
  },
  "cells": [
    {
      "cell_type": "markdown",
      "metadata": {
        "id": "view-in-github",
        "colab_type": "text"
      },
      "source": [
        "<a href=\"https://colab.research.google.com/github/Hamim688/Pemrograman-berbasis-objek/blob/main/Program_BMI.ipynb\" target=\"_parent\"><img src=\"https://colab.research.google.com/assets/colab-badge.svg\" alt=\"Open In Colab\"/></a>"
      ]
    },
    {
      "cell_type": "code",
      "execution_count": 6,
      "metadata": {
        "id": "cyhupdlj8ZZX",
        "outputId": "9acc35de-f620-4acd-ac09-bcd9f092c44c",
        "colab": {
          "base_uri": "https://localhost:8080/"
        }
      },
      "outputs": [
        {
          "output_type": "stream",
          "name": "stdout",
          "text": [
            "==========PROGRAM BMI (Body Mass Index)==========\n",
            "Berapa Berat badan anda (kg): 200\n",
            "Berapa Tinggi badan anda (cm): 157\n",
            "Anda termasuk dalam kategori obesitas\n",
            "\n",
            "Hasil Perhitungan BMI:\n",
            "Hasil BMI Anda: 81.14\n"
          ]
        }
      ],
      "source": [
        "print('='*10+\"PROGRAM BMI (Body Mass Index)\"+'='*10)\n",
        "#Membuat input untuk berat badan\n",
        "BERAT_BADAN = float(input(\"Berapa Berat badan anda (kg): \"))\n",
        "#Membuat input untuk tinggi badan\n",
        "TINGGI_BADAN = float(input(\"Berapa Tinggi badan anda (cm): \"))\n",
        "#menghitung BMI\n",
        "BMI = BERAT_BADAN / ((TINGGI_BADAN/100)**2)\n",
        "#membuat kondisi untuk kategori Underweight\n",
        "if BMI <= 18.4:\n",
        "    print(\"Anda termasuk dalam kategori Underweight\")\n",
        "#membuat kondisi untuk kategori Normal\n",
        "elif BMI >= 18.5 and BMI <= 24.9:\n",
        "    print(\"Anda termasuk dalam kategori Normal\")\n",
        "#membuat kodisi untuk kategori Overweight\n",
        "elif BMI >= 25 and BMI <= 29.9:\n",
        "    print(\"Anda termasuk dalam kategori Overweight\")\n",
        "else :\n",
        "    print(\"Anda termasuk dalam kategori obesitas\")\n",
        "#menampilkan hasil BMI\n",
        "print(\"\\nHasil Perhitungan BMI:\")\n",
        "print(f\"Hasil BMI Anda: {BMI:.2f}\")"
      ]
    }
  ]
}