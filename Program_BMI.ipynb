{
  "nbformat": 4,
  "nbformat_minor": 0,
  "metadata": {
    "colab": {
      "provenance": [],
      "authorship_tag": "ABX9TyObMGpUVYH0Be3BsTrwbOs/",
      "include_colab_link": true
    },
    "kernelspec": {
      "name": "python3",
      "display_name": "Python 3"
    },
    "language_info": {
      "name": "python"
    }
  },
  "cells": [
    {
      "cell_type": "markdown",
      "metadata": {
        "id": "view-in-github",
        "colab_type": "text"
      },
      "source": [
        "<a href=\"https://colab.research.google.com/github/Hamim688/Pemrograman-berbasis-objek/blob/main/Program_BMI.ipynb\" target=\"_parent\"><img src=\"https://colab.research.google.com/assets/colab-badge.svg\" alt=\"Open In Colab\"/></a>"
      ]
    },
    {
      "cell_type": "code",
      "execution_count": 8,
      "metadata": {
        "id": "cyhupdlj8ZZX",
        "outputId": "2ad60346-968d-4437-ee18-af85d1986007",
        "colab": {
          "base_uri": "https://localhost:8080/"
        }
      },
      "outputs": [
        {
          "output_type": "stream",
          "name": "stdout",
          "text": [
            "==========PROGRAM BMI (Body Mass Index)==========\n",
            "\n",
            "Berapa Berat badan anda (kg): 54\n",
            "Berapa Tinggi badan anda (cm): 165\n",
            "Anda termasuk dalam kategori Normal\n",
            "\n",
            "Hasil Perhitungan BMI:\n",
            "Hasil BMI Anda: 19.83\n"
          ]
        }
      ],
      "source": [
        "print('='*10+\"PROGRAM BMI (Body Mass Index)\"+'='*10)\n",
        "#Membuat input untuk berat badan\n",
        "BERAT_BADAN = float(input(\"\\nBerapa Berat badan anda (kg): \"))\n",
        "#Membuat input untuk tinggi badan\n",
        "TINGGI_BADAN = float(input(\"Berapa Tinggi badan anda (cm): \"))\n",
        "#menghitung BMI\n",
        "BMI = BERAT_BADAN / ((TINGGI_BADAN/100)**2)\n",
        "#membuat kondisi untuk kategori Underweight\n",
        "if BMI <= 18.4:\n",
        "    print(\"Anda termasuk dalam kategori Underweight\")\n",
        "#membuat kondisi untuk kategori Normal\n",
        "elif BMI >= 18.5 and BMI <= 24.9:\n",
        "    print(\"Anda termasuk dalam kategori Normal\")\n",
        "#membuat kodisi untuk kategori Overweight\n",
        "elif BMI >= 25 and BMI <= 29.9:\n",
        "    print(\"Anda termasuk dalam kategori Overweight\")\n",
        "#membuat kondisi untuk kategori Obesitas\n",
        "else :\n",
        "    print(\"Anda termasuk dalam kategori obesitas\")\n",
        "#menampilkan hasil BMI\n",
        "print(\"\\nHasil Perhitungan BMI:\")\n",
        "print(f\"Hasil BMI Anda: {BMI:.2f}\")"
      ]
    }
  ]
}