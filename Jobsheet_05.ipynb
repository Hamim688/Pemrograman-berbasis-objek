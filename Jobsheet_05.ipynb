{
  "nbformat": 4,
  "nbformat_minor": 0,
  "metadata": {
    "colab": {
      "provenance": [],
      "authorship_tag": "ABX9TyPngZ6OcBjvecJ9JAYYdVsE",
      "include_colab_link": true
    },
    "kernelspec": {
      "name": "python3",
      "display_name": "Python 3"
    },
    "language_info": {
      "name": "python"
    }
  },
  "cells": [
    {
      "cell_type": "markdown",
      "metadata": {
        "id": "view-in-github",
        "colab_type": "text"
      },
      "source": [
        "<a href=\"https://colab.research.google.com/github/Hamim688/Pemrograman-berbasis-objek/blob/main/Jobsheet_05.ipynb\" target=\"_parent\"><img src=\"https://colab.research.google.com/assets/colab-badge.svg\" alt=\"Open In Colab\"/></a>"
      ]
    },
    {
      "cell_type": "markdown",
      "source": [
        "Jobsheet 05 : Polimorfisme dan memahami overloading/overriding"
      ],
      "metadata": {
        "id": "fUY7a9CfZkUm"
      }
    },
    {
      "cell_type": "markdown",
      "source": [
        "Praktikum 1: Polimorfisme dengan inheritance dan overriding"
      ],
      "metadata": {
        "id": "YYdw6TBQZ4wY"
      }
    },
    {
      "cell_type": "code",
      "source": [
        "# Kelas Induk\n",
        "class Burung:\n",
        "  def __init__(self, nama):\n",
        "    self.nama = nama\n",
        "\n",
        "  def terbang(self):\n",
        "    print(f\"{self.nama} terbang dengan cara umum.\")\n",
        "\n",
        "  def bersuara(self):\n",
        "    print(f\"{self.nama} mengeluarkan suara burung\")\n",
        "\n",
        "# Anak ke 1\n",
        "class Elang(Burung):\n",
        "  def __init__(self, nama, rentang_sayap):\n",
        "    super().__init__(nama)\n",
        "    self.rentang_sayap = rentang_sayap\n",
        "\n",
        "  #Override\n",
        "  def terbang(self):\n",
        "    print(f\"{self.nama} terbang tinggi melayang di angkasa\")\n",
        "\n",
        "  #Override\n",
        "  def bersuara(self):\n",
        "    print(f\"{self.nama} berteriak nyaring!\")\n",
        "\n",
        "# Anak ke 2\n",
        "class Pipit(Burung):\n",
        "  def __init__(self, nama, warna_bulu):\n",
        "    super().__init__(nama)\n",
        "    self.warna_bulu = warna_bulu\n",
        "\n",
        "  #Override\n",
        "  def terbang(self):\n",
        "    print(f\"{self.nama} terbang cepat di antara pepohonan\")\n",
        "\n",
        "  #Override\n",
        "  def bersuara(self):\n",
        "    print(f\"{self.nama} berkicau merdu: Cit Cit!\")\n",
        "\n",
        "# Fungsi yang memanfaatkan polimorfisme\n",
        "def demonstrasi_aksi_burung(daftar_burung):\n",
        "  print(\"\\nAksi Burung:\")\n",
        "  for burung in daftar_burung:\n",
        "    print(f\"-- Aksi untuk {burung.nama} --\")\n",
        "    # Pangglan metode yang sama, tapi perilaku berbeda tergantung objek\n",
        "    burung.terbang()\n",
        "    burung.bersuara()\n",
        "    print(\"-\"*15)\n",
        "\n",
        "# --- Kode Utama ---\n",
        "if __name__ == \"__main__\":\n",
        "  elang_jawa = Elang(\"Elang Jawa\", 1.5)\n",
        "  pipit_gereja = Pipit(\"Pipit Gereja\", \"Coklat\")\n",
        "  burung_aneh = Burung(\"Burung Misterius\") # Objek dari kelas induk\n",
        "\n",
        "  koleksi_burung = [elang_jawa, pipit_gereja, burung_aneh]\n",
        "\n",
        "  demonstrasi_aksi_burung(koleksi_burung)\n"
      ],
      "metadata": {
        "colab": {
          "base_uri": "https://localhost:8080/"
        },
        "id": "xdGe0FVDaEAa",
        "outputId": "aa1ccb3c-d7c5-4d5a-81d1-8296d6028919"
      },
      "execution_count": null,
      "outputs": [
        {
          "output_type": "stream",
          "name": "stdout",
          "text": [
            "\n",
            "Aksi Burung:\n",
            "-- Aksi untuk Elang Jawa --\n",
            "Elang Jawa terbang tinggi melayang di angkasa\n",
            "Elang Jawa berteriak nyaring!\n",
            "---------------\n",
            "-- Aksi untuk Pipit Gereja --\n",
            "Pipit Gereja terbang cepat di antara pepohonan\n",
            "Pipit Gereja berkicau merdu: Cit Cit!\n",
            "---------------\n",
            "-- Aksi untuk Burung Misterius --\n",
            "Burung Misterius terbang dengan cara umum.\n",
            "Burung Misterius mengeluarkan suara burung\n",
            "---------------\n"
          ]
        }
      ]
    },
    {
      "cell_type": "markdown",
      "source": [
        "Praktikum 2 : Polimorfisme dengan duck typing"
      ],
      "metadata": {
        "id": "_WMHkZaJfTPL"
      }
    },
    {
      "cell_type": "code",
      "source": [
        "class Kucing:\n",
        "  def bersuara(self):\n",
        "    print(\"Kucing: Meow!\")\n",
        "\n",
        "class Anjing:\n",
        "  def bersuara(self):\n",
        "    print(\"Anjing : Guk GUk!\")\n",
        "\n",
        "class Bebek:\n",
        "  def bersuara(self):\n",
        "    print(\"Bebek : Kwek Kwek!\")\n",
        "\n",
        "class Mobil: #ini kelas tidak punya metode beruara()\n",
        "  def jalankan(self):\n",
        "    print(\"Mobil : Brumm!\")\n",
        "\n",
        "# Fungsi ini tidak peduli tipe objeknya,\n",
        "# asal punya motode .bersuara()\n",
        "def buat_suara(objek_yang_bisa_bersuara):\n",
        "  try:\n",
        "    # Memanggil metode 'bersuara' jika ada\n",
        "    objek_yang_bisa_bersuara.bersuara()\n",
        "  except AttributeError:\n",
        "    # Menangani jika objek tidak punya metode 'bersuara'\n",
        "    print(f\"Objek {type(objek_yang_bisa_bersuara).__name__} tidak bisa bersuara.\")\n",
        "\n",
        "# --- Kode Utama ---\n",
        "if __name__ == \"__main__\":\n",
        "  kucing1 = Kucing()\n",
        "  anjing1 = Anjing()\n",
        "  bebek1 = Bebek()\n",
        "  mobil1 = Mobil()\n",
        "\n",
        "  daftar_hewan = [kucing1, anjing1, bebek1, mobil1]\n",
        "\n",
        "  print(\"Demonstrasi Duck Typing:\")\n",
        "  for item in daftar_hewan:\n",
        "    buat_suara(item) # Fungsi polimorfik via duck typing"
      ],
      "metadata": {
        "colab": {
          "base_uri": "https://localhost:8080/"
        },
        "id": "ZOTmFUuafc7l",
        "outputId": "499135ad-2c45-4638-ffc0-ee2e14efacef"
      },
      "execution_count": null,
      "outputs": [
        {
          "output_type": "stream",
          "name": "stdout",
          "text": [
            "Demonstrasi Duck Typing:\n",
            "Kucing: Meow!\n",
            "Anjing : Guk GUk!\n",
            "Bebek : Kwek Kwek!\n",
            "Objek Mobil tidak bisa bersuara.\n"
          ]
        }
      ]
    },
    {
      "cell_type": "markdown",
      "source": [
        "Praktikum 3 : Simulasi overloading dalam metode kelas dengan *args"
      ],
      "metadata": {
        "id": "QQoREInIi-S9"
      }
    },
    {
      "cell_type": "code",
      "source": [
        "class KalkulatorSederhana:\n",
        "  def __init__(self, nama=\"Kalkulator\"):\n",
        "    self.nama = nama\n",
        "    print(f\"{self.nama} siap digunakan.\")\n",
        "\n",
        "  def tambah(self, *args):\n",
        "    \"\"\"\n",
        "    Metode ini menjumlahkan semua argumen angka yang di berikan.\n",
        "    Menerima sejumlah argumen posisi menggukan *args.\n",
        "    \"\"\"\n",
        "    print(f\"\\nMemanggil metode tambah dengan argumen: {args}\")\n",
        "    if not args:\n",
        "      print(\"Tidak ada angka untuk di jumlahkan\")\n",
        "      return 0 # Atau bisa juga None atau raise eror\n",
        "\n",
        "    total = 0\n",
        "    valid_input = True\n",
        "    for angka in args:\n",
        "      # Melakukan pengecekan tipe sederhana\n",
        "      if isinstance(angka, (int, float)):\n",
        "        total += angka\n",
        "      else :\n",
        "        print(f\"Peringatan : Argumen '{angka}' bukan angka dan akan di abaikan\")\n",
        "        valid_input = False\n",
        "\n",
        "    if valid_input:\n",
        "      print(f\"Hasil penjumlahan: {total}\")\n",
        "    else :\n",
        "      print(f\"Hasil penjumlahan (dengan beberapa input di abaikan): {total}\")\n",
        "    return total\n",
        "\n",
        "# --- Kode Utama ---\n",
        "if __name__ == \"__main__\":\n",
        "  calc = KalkulatorSederhana(\"Calc-01\")\n",
        "\n",
        "  #Memanggil metode 'tambah' dengan jumlah argumen berbeda\n",
        "  print(\"\\n--- Percobaan Penjumlahan ---\")\n",
        "  calc.tambah(5, 10)\n",
        "  calc.tambah(2, 3, 5, 10)\n",
        "  calc.tambah(100)\n",
        "  calc.tambah() #tanpa argumen\n",
        "  calc.tambah(1, 2, \"tiga\", 4, 5.5) #Dengan input non angka\n"
      ],
      "metadata": {
        "colab": {
          "base_uri": "https://localhost:8080/"
        },
        "id": "6unwIvVbi93j",
        "outputId": "82f4f08c-ad14-4799-85be-c2a5a17d4bfd"
      },
      "execution_count": null,
      "outputs": [
        {
          "output_type": "stream",
          "name": "stdout",
          "text": [
            "Calc-01 siap digunakan.\n",
            "\n",
            "--- Percobaan Penjumlahan ---\n",
            "\n",
            "Memanggil metode tambah dengan argumen: (5, 10)\n",
            "Hasil penjumlahan: 15\n",
            "\n",
            "Memanggil metode tambah dengan argumen: (2, 3, 5, 10)\n",
            "Hasil penjumlahan: 20\n",
            "\n",
            "Memanggil metode tambah dengan argumen: (100,)\n",
            "Hasil penjumlahan: 100\n",
            "\n",
            "Memanggil metode tambah dengan argumen: ()\n",
            "Tidak ada angka untuk di jumlahkan\n",
            "\n",
            "Memanggil metode tambah dengan argumen: (1, 2, 'tiga', 4, 5.5)\n",
            "Peringatan : Argumen 'tiga' bukan angka dan akan di abaikan\n",
            "Hasil penjumlahan (dengan beberapa input di abaikan): 12.5\n"
          ]
        }
      ]
    },
    {
      "cell_type": "markdown",
      "source": [
        "Praktikum 4 : Simulasi Overloading dalam Metode kelas dengan *args dan **kwargs"
      ],
      "metadata": {
        "id": "Dde3rDkypOKr"
      }
    },
    {
      "cell_type": "code",
      "source": [
        "class DataProcesor:\n",
        "  def __init__(self, processor_id):\n",
        "    self.processor_id = processor_id\n",
        "    print(f\"Data Prosesor {self.processor_id} siap.\")\n",
        "\n",
        "  def process(self, *args, **kwargs):\n",
        "    \"\"\"\n",
        "    Metode ini memproses data dengan argumen posisi (*args)\n",
        "    dan kata kunci (**kwargs) yang jumlahnya variabel.\n",
        "    \"\"\"\n",
        "    print(f\"\\n--- {self.processor_id} Memproses Data ---\")\n",
        "\n",
        "    # Memproses argumen posisi (*args -> tuple)\n",
        "    if args:\n",
        "      print(\"Argumen posisi diterima:\")\n",
        "      for i, arg in enumerate(args):\n",
        "        print(f\" args[{i}]: {arg} (tipe: {type(arg).__name__})\")\n",
        "      else:\n",
        "        print(\"Tidak ada argumen posisi.\")\n",
        "\n",
        "      # Memproses argumen kata kunci (**kwargs -> dict)\n",
        "      if kwargs:\n",
        "        print(\"Argumen kata kunci diterima:\")\n",
        "        for kunci, nilai in kwargs.items():\n",
        "          print(f\" {kunci}: {nilai} (tipe: {type(nilai).__name__})\")\n",
        "      else :\n",
        "        print(\"Tidak ada argumen kata kunci.\")\n",
        "        print(\"-----------------------------\")\n",
        "\n",
        "# --- Kode Utama ---\n",
        "if __name__ == \"__main__\":\n",
        "  # membuat instance dari kelas\n",
        "  processor1 = DataProcesor(\"DP-001\")\n",
        "\n",
        "  # memanggil metode 'process' dengan berbagai cara\n",
        "  print(\"\\nPanggilan 1: Tanpa argumen tambahan\")\n",
        "  processor1.process()\n",
        "\n",
        "  print(\"\\nPanggilan 2: Hanya argumen posisi\")\n",
        "  processor1.process(100, \"Status OK\", 99.9, False)\n",
        "\n",
        "  print(\"\\nPanggilan 3: Hanya argumen posisi kata kunci\")\n",
        "  processor1.process(user=\"admin\", level=5, mode=\"verbose\")\n",
        "\n",
        "  print(\"\\nPanggilan 4: Kombinasi argumen posisi dan kata kunci\")\n",
        "  processor1.process(\"Task-A\", \"Task-B\", status=\"Running\", priority=\"High\", thread_id=54321)\n",
        "\n",
        "  #Panggilan dengan list dan dictionary sebagai argumen posisi\n",
        "  print(\"\\nPanggilan 5: Argumen posisi kompleks\")\n",
        "  list_ids = [\"A1\", \"B2\", \"C3\"]\n",
        "  dict_params = {\"timeout\": 30, \"retry\": 3}\n",
        "  processor1.process(list_ids, dict_params, owner=\"system\", enabled=True)\n"
      ],
      "metadata": {
        "colab": {
          "base_uri": "https://localhost:8080/"
        },
        "id": "cZvIdLAQpmdR",
        "outputId": "532bcea0-569d-496d-d0a9-b416cfdaa35f"
      },
      "execution_count": null,
      "outputs": [
        {
          "output_type": "stream",
          "name": "stdout",
          "text": [
            "Data Prosesor DP-001 siap.\n",
            "\n",
            "Panggilan 1: Tanpa argumen tambahan\n",
            "\n",
            "--- DP-001 Memproses Data ---\n",
            "\n",
            "Panggilan 2: Hanya argumen posisi\n",
            "\n",
            "--- DP-001 Memproses Data ---\n",
            "Argumen posisi diterima:\n",
            " args[0]: 100 (tipe: int)\n",
            " args[1]: Status OK (tipe: str)\n",
            " args[2]: 99.9 (tipe: float)\n",
            " args[3]: False (tipe: bool)\n",
            "Tidak ada argumen posisi.\n",
            "Tidak ada argumen kata kunci.\n",
            "-----------------------------\n",
            "\n",
            "Panggilan 3: Hanya argumen posisi kata kunci\n",
            "\n",
            "--- DP-001 Memproses Data ---\n",
            "\n",
            "Panggilan 4: Kombinasi argumen posisi dan kata kunci\n",
            "\n",
            "--- DP-001 Memproses Data ---\n",
            "Argumen posisi diterima:\n",
            " args[0]: Task-A (tipe: str)\n",
            " args[1]: Task-B (tipe: str)\n",
            "Tidak ada argumen posisi.\n",
            "Argumen kata kunci diterima:\n",
            " status: Running (tipe: str)\n",
            " priority: High (tipe: str)\n",
            " thread_id: 54321 (tipe: int)\n",
            "\n",
            "Panggilan 5: Argumen posisi kompleks\n",
            "\n",
            "--- DP-001 Memproses Data ---\n",
            "Argumen posisi diterima:\n",
            " args[0]: ['A1', 'B2', 'C3'] (tipe: list)\n",
            " args[1]: {'timeout': 30, 'retry': 3} (tipe: dict)\n",
            "Tidak ada argumen posisi.\n",
            "Argumen kata kunci diterima:\n",
            " owner: system (tipe: str)\n",
            " enabled: True (tipe: bool)\n"
          ]
        }
      ]
    },
    {
      "cell_type": "markdown",
      "source": [
        "Praktikum 5 : Kombinasi polimorfisme (Inheritance & Duck Typing)"
      ],
      "metadata": {
        "id": "1r7XMyqvwkev"
      }
    },
    {
      "cell_type": "code",
      "source": [
        "import math\n",
        "\n",
        "# --- Definisi Kelas Dari Hierarki Inheritance ---\n",
        "class Bentuk:\n",
        "  # Metode ini bisa di anggap sebagai 'template' atau interface dasar\n",
        "  def nama_bentuk(self):\n",
        "    return \"Bentuk Generik\"\n",
        "\n",
        "  # Metode ini wajib di-Override oleh subclass\n",
        "  def hitung_luas(self):\n",
        "    raise NotImplementedError(\"Subclass harus mengimplementasikan metode ini.\")\n",
        "\n",
        "class Lingkaran(Bentuk):\n",
        "  def __init__(self, radius):\n",
        "    self.radius = radius\n",
        "\n",
        "  # Override\n",
        "  def nama_bentuk(self):\n",
        "    return \"Lingkaran\"\n",
        "\n",
        "  # Override\n",
        "  def hitung_luas(self):\n",
        "    return math.pi * (self.radius ** 2)\n",
        "\n",
        "class Persegi(Bentuk):\n",
        "  def __init__(self, sisi):\n",
        "    self.sisi = sisi\n",
        "\n",
        "  # Override\n",
        "  def nama_bentuk(self):\n",
        "    return \"Persegi\"\n",
        "\n",
        "  # Override\n",
        "  def hitung_luas(self):\n",
        "    return self.sisi * self.sisi\n",
        "\n",
        "# --- Definisi kelas lain (Tidak terkait inheritance dengan bentuk) ---\n",
        "class TaplakMeja:\n",
        "  def __init__(self, panjang, lebar):\n",
        "    self.panjang = panjang\n",
        "    self.lebar = lebar\n",
        "\n",
        "  # Metode dengan nama sama -> 'hitung_luas'\n",
        "  #ini memungkinkan TaplakMeja bekerja dengan fungsi polimorfik di bawah\n",
        "\n",
        "  def hitung_luas(self):\n",
        "    return self.panjang * self.lebar\n",
        "\n",
        "  # Metode yang berbeda, tidak ada di kelas bentuk\n",
        "  def deskripsi(self):\n",
        "    return f\"Taplak Meja {self.panjang}x{self.lebar}\"\n",
        "\n",
        "# --- fungsi polimorfik ---\n",
        "def tampilkan_info_luas(objek_dengan_luas):\n",
        "  print(\"-\"*20)\n",
        "  try:\n",
        "    # Mencoba memanggil hitung_luas() - inti polimorfisme\n",
        "    luas = objek_dengan_luas.hitung_luas()\n",
        "\n",
        "    # Mencoba mendapatkan nama jika ada (Duck typing tambahan)\n",
        "    try:\n",
        "      nama = objek_dengan_luas.nama_bentuk()\n",
        "    except AttributeError:\n",
        "      # Jika tidak ada nama_bentuk(), gunakan nama kelasnya\n",
        "      nama = type(objek_dengan_luas).__name__\n",
        "\n",
        "    print(f\"Objek : {nama}\")\n",
        "    print(f\"Luas {luas:.2f}\")\n",
        "\n",
        "  except AttributeError:\n",
        "    # Menangani jika objek sama sekali tidak punya .hitung_luas()\n",
        "    print(f\"Objek {type(objek_dengan_luas).__name__} tidak dapat di hitung luasnya (Metode tidak di temukan).\")\n",
        "  except NotImplementedError:\n",
        "    # Menangani jika metode ada tapibelum di implementasi (dari kelas Bentuk)\n",
        "    print(f\"Metode 'hitung_luas' belum diimplementasi untuk  {type(objek_dengan_luas).__name__}.\")\n",
        "\n",
        "# --- Kode Utama ---\n",
        "if __name__ == \"__main__\":\n",
        "  lingkaran1 = Lingkaran(7)\n",
        "  persegi1 = Persegi(5)\n",
        "  taplak1 = TaplakMeja(1.5, 0.8)\n",
        "  bentuk_dasar = Bentuk() # Objek kelas induk (akan raise NotImplementedError)\n",
        "  string_biasa = \"Ini string\" #Objek yang tidak relevan\n",
        "  daftar_item = [lingkaran1, persegi1, taplak1, bentuk_dasar, string_biasa]\n",
        "\n",
        "  print(\"Menampilkan info luas (Polimorfisme Campuran):\")\n",
        "  for item in daftar_item:\n",
        "    tampilkan_info_luas(item)\n"
      ],
      "metadata": {
        "colab": {
          "base_uri": "https://localhost:8080/"
        },
        "id": "WnlqubIbwx1v",
        "outputId": "be88844f-c92f-4444-bb16-c5ced010c2fb"
      },
      "execution_count": null,
      "outputs": [
        {
          "output_type": "stream",
          "name": "stdout",
          "text": [
            "Menampilkan info luas (Polimorfisme Campuran):\n",
            "--------------------\n",
            "Objek : Lingkaran\n",
            "Luas 153.94\n",
            "--------------------\n",
            "Objek : Persegi\n",
            "Luas 25.00\n",
            "--------------------\n",
            "Objek : TaplakMeja\n",
            "Luas 1.20\n",
            "--------------------\n",
            "Metode 'hitung_luas' belum diimplementasi untuk  Bentuk.\n",
            "--------------------\n",
            "Objek str tidak dapat di hitung luasnya (Metode tidak di temukan).\n"
          ]
        }
      ]
    },
    {
      "cell_type": "markdown",
      "source": [
        "Praktikum 06: Kontrol Perilaku Polimorfik dengan isinstance()"
      ],
      "metadata": {
        "id": "8h5zuqiAsxKZ"
      }
    },
    {
      "cell_type": "code",
      "source": [
        "# --- Definisi kelas burung, elang, pipit ---\n",
        "class Burung:\n",
        "  def __init__(self, nama):\n",
        "    self.nama = nama\n",
        "  def terbang(self):\n",
        "    print(f\"{self.nama} terbang dengan cara umum.\")\n",
        "  def bersuara(self):\n",
        "    print(f\"{self.nama} mengeluarkan suara burung.\")\n",
        "\n",
        "class Elang(Burung):\n",
        "  def __init__(self, nama, rentang_sayap):\n",
        "    super().__init__(nama)\n",
        "    self.rentang_sayap = rentang_sayap\n",
        "  #Override\n",
        "  def terbang(self):\n",
        "    print(f\"{self.nama} terbang tinggi melayang di angkasa.\")\n",
        "  #Override\n",
        "  def bersuara(self):\n",
        "    print(f\"{self.nama} berteriak nyaring!\")\n",
        "  # Metode khusus Elang\n",
        "  def berburu(self):\n",
        "    print(f\"{self.nama} sedang mencari mangsa dari ketinggian.\")\n",
        "\n",
        "class Pipit(Burung):\n",
        "  def __init__(self, nama, warna_bulu):\n",
        "    super().__init__(nama)\n",
        "    self.warna_bulu = warna_bulu\n",
        "\n",
        "  # Override\n",
        "  def terbang(self):\n",
        "    print(f\"{self.nama} terbang cepat di antara pepohonan.\")\n",
        "  # Override\n",
        "  def bersuara(self):\n",
        "    print(f\"{self.nama} berkicau merdu: Cit Cit!\")\n",
        "  # Metode khusus Pipit\n",
        "  def membangun_sarang(self):\n",
        "    print(f\"{self.nama} sedang mengumpulkan ranting untuk sarang.\")\n",
        "\n",
        "# --- Fungsi yang memanfaatkan polimorfisme DAN isinstance() ---\n",
        "def interaksi_dengan_burung(burung):\n",
        "  print(f\"\\n--- Berinteraksi dengan {type(burung).__name__} : {getattr(burung, 'nama', 'Objek tidak dikenal')} ---\")\n",
        "  # Cek dulu apakah objek adalah instance dari burung atau turunannya\n",
        "  if isinstance(burung, Burung) :\n",
        "    # perilaku polimorfik dasar (memanggil metode override)\n",
        "    burung.terbang()\n",
        "    burung.bersuara()\n",
        "\n",
        "    #Menambahkan perilaku spesifik berdasarkan tipe turunanya\n",
        "    if isinstance(burung, Elang):\n",
        "      print(\"--> Ini adalah Elang!\")\n",
        "      burung.berburu() # Panggil metode khusus elang\n",
        "\n",
        "    elif isinstance(burung, Pipit):\n",
        "      print(\"--> Ini adalah Pipit!\")\n",
        "      burung.membangun_sarang() # Panggil metode khusus pipit\n",
        "\n",
        "    else:\n",
        "      # Hanya Burung Generik, bukan turunan spesifik yang di kenali\n",
        "      print(\"--> Ini adalah burung jenis umum (bukan Elang/Pipit).\")\n",
        "\n",
        "  else :\n",
        "    # Jika objek BUKAN instance Burung sama sekali\n",
        "    print(\"--> Objek ini bukan termasuk jenis burung\")\n",
        "    print(\"-\"*53)\n",
        "\n",
        "# --- Kode Utama ---\n",
        "if __name__ == \"__main__\":\n",
        "  elang_sumatra = Elang(\"Elang Sumatra\", 1.8)\n",
        "  pipit_rumah = Pipit(\"Pipit Rumah\", \"abu-abu\")\n",
        "  merak = Burung(\"Merak\") # Contoh burung lain (induk)\n",
        "  kucing_tetangga = \"Meong!\" # Objek non-burung\n",
        "\n",
        "  koleksi_makhluk = [elang_sumatra, pipit_rumah, merak, kucing_tetangga]\n",
        "\n",
        "  for makhluk in koleksi_makhluk:\n",
        "    interaksi_dengan_burung(makhluk)"
      ],
      "metadata": {
        "id": "YgXMVmVMsx5A",
        "outputId": "08d60ff2-c36f-4cc0-e7ad-f6aff37c788c",
        "colab": {
          "base_uri": "https://localhost:8080/"
        }
      },
      "execution_count": 2,
      "outputs": [
        {
          "output_type": "stream",
          "name": "stdout",
          "text": [
            "\n",
            "--- Berinteraksi dengan Elang : Elang Sumatra ---\n",
            "Elang Sumatra terbang tinggi melayang di angkasa.\n",
            "Elang Sumatra berteriak nyaring!\n",
            "--> Ini adalah Elang!\n",
            "Elang Sumatra sedang mencari mangsa dari ketinggian.\n",
            "\n",
            "--- Berinteraksi dengan Pipit : Pipit Rumah ---\n",
            "Pipit Rumah terbang cepat di antara pepohonan.\n",
            "Pipit Rumah berkicau merdu: Cit Cit!\n",
            "--> Ini adalah Pipit!\n",
            "Pipit Rumah sedang mengumpulkan ranting untuk sarang.\n",
            "\n",
            "--- Berinteraksi dengan Burung : Merak ---\n",
            "Merak terbang dengan cara umum.\n",
            "Merak mengeluarkan suara burung.\n",
            "--> Ini adalah burung jenis umum (bukan Elang/Pipit).\n",
            "\n",
            "--- Berinteraksi dengan str : Objek tidak dikenal ---\n",
            "--> Objek ini bukan termasuk jenis burung\n",
            "-----------------------------------------------------\n"
          ]
        }
      ]
    },
    {
      "cell_type": "code",
      "source": [
        "# Kelas Induk\n",
        "class Komputer :\n",
        "  def __init__(self, merk, processor, ram_gb):\n",
        "    self.merk = merk\n",
        "    self.processor = processor\n",
        "    self.ram_gb = ram_gb\n",
        "\n",
        "  # menampilkan info\n",
        "  def info_spesifikasi(self):\n",
        "    print(f\"Merk : {self.merk}\")\n",
        "    print(f\"Processor : {self.processor}\")\n",
        "    print(f\"RAM : {self.ram_gb} GB\")\n",
        "\n",
        "  # menjalankan aplikasi\n",
        "  def jalankan_aplikasi(self, nama_aplikasi):\n",
        "    self.nama_aplikasi = nama_aplikasi\n",
        "    print(f\"{self.merk} sedang menjalankan aplikasi {self.nama_aplikasi}\")\n",
        "\n",
        "  # Opsi A (default argument)\n",
        "  def upgrade_ram(self, tambahan_gb, tipe_ram = \"DDR4\"):\n",
        "    self.ram_gb += tambahan_gb\n",
        "    print(f\"RAM {self.merk} diupgrade sebesar {tambahan_gb} GB (Tipe: {tipe_ram}). Total RAM sekarang: {self.ram_gb} GB.\")\n",
        "\n",
        "# Anak ke 1\n",
        "class Laptop(Komputer):\n",
        "  def __init__(self, merk, processor, ram_gb, ukuran_layar_inch, berat_kg):\n",
        "    super().__init__(merk, processor, ram_gb)\n",
        "    self.ukuran_layar_inch = ukuran_layar_inch\n",
        "    self.berat_kg = berat_kg\n",
        "\n",
        "  #override\n",
        "  def info_spesifikasi(self):\n",
        "    super().info_spesifikasi()\n",
        "    print(f\"Ukuran Layar : {self.ukuran_layar_inch} inch\")\n",
        "    print(f\"Berat : {self.berat_kg} kg\")\n",
        "\n",
        "# Anak ke 2\n",
        "class Dekstop(Komputer):\n",
        "  def __init__(self, merk, processor, ram_gb, jenis_casing, monitor_external):\n",
        "    super().__init__(merk, processor, ram_gb)\n",
        "    self.jenis_casing = jenis_casing\n",
        "    self.monitor_external = monitor_external\n",
        "\n",
        "  #override\n",
        "  def info_spesifikasi(self):\n",
        "    super().info_spesifikasi()\n",
        "    print(f\"Jenis Casing : {self.jenis_casing}\")\n",
        "    print(f\"Monitor External: {'Ya' if self.monitor_external else 'Tidak'}\")\n",
        "\n",
        "# Demonstrasi Polimorfisme\n",
        "def cek_semua_spesifikasi(daftar_komputer):\n",
        "  for komputer in daftar_komputer :\n",
        "    print(f\"\\n--- Informasi Spesifikasi Komputer {komputer.merk} ---\")\n",
        "    komputer.info_spesifikasi()\n",
        "    print(\"-\"*50)\n",
        "\n",
        "#--- Kode Utama ---\n",
        "if __name__ == \"__main__\":\n",
        "  laptop_1 = Laptop(\"Lenovo LOQ\", \"AMD Ryzen 7\", 12, 15.6, 2.1)\n",
        "  dekstop_1 = Dekstop(\"Asus ROG\", \"Intel i9\", 64, \"Full Tower\", True)\n",
        "\n",
        "  #membuat list\n",
        "  daftar_laptop = [laptop1, dekstop1]\n",
        "\n",
        "  #memanggil fungsi polimorfik\n",
        "  cek_semua_spesifikasi(daftar_laptop)\n",
        "\n",
        "  print(\"\\n=== Demonstrasi Overloading (upgrade_ram) ===\")\n",
        "  laptop_1.upgrade_ram(4)\n",
        "  desktop_1.upgrade_ram(8, \"DDR5\")"
      ],
      "metadata": {
        "id": "R13iwJdSf8N2",
        "outputId": "0047f4fd-0067-4106-9e3b-754a2ce51262",
        "colab": {
          "base_uri": "https://localhost:8080/",
          "height": 505
        }
      },
      "execution_count": 6,
      "outputs": [
        {
          "output_type": "stream",
          "name": "stdout",
          "text": [
            "\n",
            "--- Informasi Spesifikasi Komputer Lenovo LOQ ---\n",
            "Merk : Lenovo LOQ\n",
            "Processor : AMD Ryzen 7\n",
            "RAM : 12 GB\n",
            "Ukuran Layar : 15.6 inch\n",
            "Berat : 2.1 kg\n",
            "--------------------------------------------------\n",
            "\n",
            "--- Informasi Spesifikasi Komputer Asus ROG ---\n",
            "Merk : Asus ROG\n",
            "Processor : Intel i9\n",
            "RAM : 64 GB\n",
            "Jenis Casing : Full Tower\n",
            "Monitor External : True\n",
            "--------------------------------------------------\n",
            "\n",
            "=== Demonstrasi Overloading (upgrade_ram) ===\n"
          ]
        },
        {
          "output_type": "error",
          "ename": "NameError",
          "evalue": "name 'laptop_1' is not defined",
          "traceback": [
            "\u001b[0;31m---------------------------------------------------------------------------\u001b[0m",
            "\u001b[0;31mNameError\u001b[0m                                 Traceback (most recent call last)",
            "\u001b[0;32m<ipython-input-6-0decd553c6d0>\u001b[0m in \u001b[0;36m<cell line: 0>\u001b[0;34m()\u001b[0m\n\u001b[1;32m     67\u001b[0m \u001b[0;34m\u001b[0m\u001b[0m\n\u001b[1;32m     68\u001b[0m   \u001b[0mprint\u001b[0m\u001b[0;34m(\u001b[0m\u001b[0;34m\"\\n=== Demonstrasi Overloading (upgrade_ram) ===\"\u001b[0m\u001b[0;34m)\u001b[0m\u001b[0;34m\u001b[0m\u001b[0;34m\u001b[0m\u001b[0m\n\u001b[0;32m---> 69\u001b[0;31m   \u001b[0mlaptop_1\u001b[0m\u001b[0;34m.\u001b[0m\u001b[0mupgrade_ram\u001b[0m\u001b[0;34m(\u001b[0m\u001b[0;36m4\u001b[0m\u001b[0;34m)\u001b[0m\u001b[0;34m\u001b[0m\u001b[0;34m\u001b[0m\u001b[0m\n\u001b[0m\u001b[1;32m     70\u001b[0m   \u001b[0mdesktop_1\u001b[0m\u001b[0;34m.\u001b[0m\u001b[0mupgrade_ram\u001b[0m\u001b[0;34m(\u001b[0m\u001b[0;36m8\u001b[0m\u001b[0;34m,\u001b[0m \u001b[0;34m\"DDR5\"\u001b[0m\u001b[0;34m)\u001b[0m\u001b[0;34m\u001b[0m\u001b[0;34m\u001b[0m\u001b[0m\n",
            "\u001b[0;31mNameError\u001b[0m: name 'laptop_1' is not defined"
          ]
        }
      ]
    },
    {
      "cell_type": "code",
      "source": [],
      "metadata": {
        "id": "Q6_Y-wUwifdZ"
      },
      "execution_count": null,
      "outputs": []
    }
  ]
}