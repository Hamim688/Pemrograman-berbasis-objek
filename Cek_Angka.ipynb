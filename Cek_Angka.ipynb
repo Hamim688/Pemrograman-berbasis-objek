{
  "nbformat": 4,
  "nbformat_minor": 0,
  "metadata": {
    "colab": {
      "provenance": [],
      "authorship_tag": "ABX9TyN2+wkT+AIS41hRPgLAJV9R",
      "include_colab_link": true
    },
    "kernelspec": {
      "name": "python3",
      "display_name": "Python 3"
    },
    "language_info": {
      "name": "python"
    }
  },
  "cells": [
    {
      "cell_type": "markdown",
      "metadata": {
        "id": "view-in-github",
        "colab_type": "text"
      },
      "source": [
        "<a href=\"https://colab.research.google.com/github/Hamim688/Pemrograman-berbasis-objek/blob/main/Cek_Angka.ipynb\" target=\"_parent\"><img src=\"https://colab.research.google.com/assets/colab-badge.svg\" alt=\"Open In Colab\"/></a>"
      ]
    },
    {
      "cell_type": "code",
      "execution_count": 10,
      "metadata": {
        "id": "hASs_D9Jcn5d",
        "outputId": "f14d99f8-9c10-4860-9955-b480bb7739b7",
        "colab": {
          "base_uri": "https://localhost:8080/"
        }
      },
      "outputs": [
        {
          "output_type": "stream",
          "name": "stdout",
          "text": [
            "\n",
            "========================================                                      \n",
            "|  Program Cek Ganjil Genap dan Prima  |\n",
            "========================================\n",
            "\n",
            "Masukkan angka yang ingin di cek: 7\n",
            "Angka 7 merupakan angka ganjil\n",
            "Angka 7 adalah bilangan prima\n",
            "\n",
            "Terima Kasih Telah menggunakan program saya\n"
          ]
        }
      ],
      "source": [
        "print(\"\"\"\n",
        "========================================\n",
        "|  Program Cek Ganjil Genap dan Prima  |\n",
        "========================================\n",
        "\"\"\")\n",
        "#membuat input dari user\n",
        "angka = int(input(\"Masukkan angka yang ingin di cek: \"))\n",
        "#cek ganjil genap\n",
        "if angka % 2 == 0:\n",
        "    print(f\"Angka {angka} merupakan angka genap\")\n",
        "else:\n",
        "    print(f\"Angka {angka} merupakan angka ganjil\")\n",
        "#cek bilangan prima\n",
        "if angka < 2:\n",
        "    print(f\"Angka {angka} bukan bilangan prima\")\n",
        "for i in range (2, angka):\n",
        "    if angka % i == 0:\n",
        "        print(f\"Angka {angka} bukan bilangan prima\")\n",
        "        break\n",
        "else:\n",
        "    print(f\"Angka {angka} adalah bilangan prima\")\n",
        "print(\"\\nTerima Kasih Telah menggunakan program saya\")"
      ]
    }
  ]
}