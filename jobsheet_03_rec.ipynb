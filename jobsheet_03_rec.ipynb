{
 "cells": [
  {
   "cell_type": "markdown",
   "id": "fffc94d8",
   "metadata": {},
   "source": [
    "### Praktikum 01: Enkapsulasi pada kelas Bank"
   ]
  },
  {
   "cell_type": "code",
   "execution_count": 2,
   "id": "fa0554ec",
   "metadata": {},
   "outputs": [
    {
     "name": "stdout",
     "output_type": "stream",
     "text": [
      "500 telah di tambahkan ke akun Alice\n",
      "Jumlah deposit harus lebih dari 0\n",
      "300 telah di tarik dari akun Alice\n",
      "Saldo tidak mencukupi\n",
      "Saldo terakhir di akun Alice : 1200\n"
     ]
    }
   ],
   "source": [
    "class BankAccount:\n",
    "    def __init__(self, owner, balance):\n",
    "        self.__owner = owner\n",
    "        self.__balance = balance\n",
    "\n",
    "    def deposit(self, amount):\n",
    "        if amount > 0 :\n",
    "            self.__balance += amount\n",
    "            print(f\"{amount} telah di tambahkan ke akun {self.__owner}\")\n",
    "        else :\n",
    "            print(f\"Jumlah deposit harus lebih dari 0\")\n",
    "\n",
    "    def withdraw(self, amount):\n",
    "        if amount <= self.__balance:\n",
    "            self.__balance -= amount\n",
    "            print(f\"{amount} telah di tarik dari akun {self.__owner}\")\n",
    "        else :\n",
    "            print(\"Saldo tidak mencukupi\")\n",
    "\n",
    "    def get_balance(self):\n",
    "        return self.__balance\n",
    "\n",
    "if __name__ == \"__main__\":\n",
    "    alice_amount = BankAccount(\"Alice\", 1000)\n",
    "\n",
    "    # Depo\n",
    "    alice_amount.deposit(500)\n",
    "    alice_amount.deposit(-100) # gagal\n",
    "\n",
    "    # Wd\n",
    "    alice_amount.withdraw(300)\n",
    "    alice_amount.withdraw(2000) # gagal\n",
    "\n",
    "    current_balance = alice_amount.get_balance()\n",
    "    print(f\"Saldo terakhir di akun {alice_amount._BankAccount__owner} : {current_balance}\")"
   ]
  },
  {
   "cell_type": "markdown",
   "id": "57b0da7b",
   "metadata": {},
   "source": [
    "### Praktikum 2 : Enkapsulasi pada kelas employee"
   ]
  },
  {
   "cell_type": "code",
   "execution_count": 3,
   "id": "d5df6b6e",
   "metadata": {},
   "outputs": [
    {
     "name": "stdout",
     "output_type": "stream",
     "text": [
      "Employee: Jamal, Gaji : 50000\n",
      "Gaji telah di naikkan sebesar 5000\n",
      "Gaji setelah kenaikan: 55000\n",
      "Gaji telah di atur ulang menjadi 60000\n",
      "Informasi terbaru: Employee: Jamal, Gaji : 60000\n"
     ]
    }
   ],
   "source": [
    "class Employee :\n",
    "    def __init__(self, nama, salary):\n",
    "        self.__nama = nama\n",
    "        self.__salary = salary\n",
    "\n",
    "    def update_salary(self, increase):\n",
    "        if increase > 0 :\n",
    "            self.__salary += increase\n",
    "            print(f\"Gaji telah di naikkan sebesar {increase}\")\n",
    "        else :\n",
    "            print(\"Nilai kenaikan harus lebih dari 0\")\n",
    "\n",
    "    def set_salary(self, new_salary):\n",
    "        if new_salary >= 0 :\n",
    "            self.__salary = new_salary\n",
    "            print(f\"Gaji telah di atur ulang menjadi {new_salary}\")\n",
    "\n",
    "    def get_salary(self):\n",
    "        return self.__salary\n",
    "    \n",
    "    def get_employee_info(self):\n",
    "        return f\"Employee: {self.__nama}, Gaji : {self.__salary}\"\n",
    "    \n",
    "if __name__ == \"__main__\":\n",
    "    employee1 = Employee(\"Jamal\", 50000)\n",
    "\n",
    "    print(employee1.get_employee_info())\n",
    "\n",
    "    employee1.update_salary(5000)\n",
    "    print(f\"Gaji setelah kenaikan: {employee1.get_salary()}\")\n",
    "\n",
    "    employee1.set_salary(60000)\n",
    "    print(f\"Informasi terbaru: {employee1.get_employee_info()}\")\n",
    "    \n"
   ]
  },
  {
   "cell_type": "markdown",
   "id": "9a192521",
   "metadata": {},
   "source": [
    "### Praktikum 3: Konstruktor dan Destruktor sederhana"
   ]
  },
  {
   "cell_type": "code",
   "execution_count": 4,
   "id": "9220056c",
   "metadata": {},
   "outputs": [
    {
     "name": "stdout",
     "output_type": "stream",
     "text": [
      "Program dimulai\n",
      "\n",
      "Konstruktor: Objek 'Demo' telah di buat\n",
      "Program sedang berjalan...\n",
      "Destruktor: Objek 'Demo' berhasil di hapus\n",
      "Objek telah di hapus\n",
      "\n",
      "Program selesai.\n"
     ]
    }
   ],
   "source": [
    "class SimpleExample:\n",
    "    def __init__(self, name):\n",
    "        self.name = name\n",
    "        print(f\"Konstruktor: Objek '{self.name}' telah di buat\")\n",
    "\n",
    "    def __del__(self):\n",
    "        print(f\"Destruktor: Objek '{self.name}' berhasil di hapus\")\n",
    "\n",
    "def main():\n",
    "    print(\"Program dimulai\\n\")\n",
    "\n",
    "    obj = SimpleExample(\"Demo\")\n",
    "    print(\"Program sedang berjalan...\")\n",
    "\n",
    "    #menghapus\n",
    "    del obj\n",
    "    print(\"Objek telah di hapus\\n\")\n",
    "\n",
    "    print(\"Program selesai.\")\n",
    "\n",
    "if __name__ == \"__main__\":\n",
    "    main()\n"
   ]
  },
  {
   "cell_type": "markdown",
   "id": "b43f3456",
   "metadata": {},
   "source": [
    "### Praktikum 4. Konstruktor dan Destruktor pada program FileLongger"
   ]
  },
  {
   "cell_type": "code",
   "execution_count": 5,
   "id": "7f44295a",
   "metadata": {},
   "outputs": [
    {
     "name": "stdout",
     "output_type": "stream",
     "text": [
      "File 'application log' berhasil di buka unutk logging.\n",
      "Pesan log: 'Aplikasi dimulai.' telah di tulis\n",
      "Pesan log: 'Melakukan operasi A...' telah di tulis\n",
      "Pesan log: 'Operasi A selesai.' telah di tulis\n",
      "Pesan log: 'Aplikasi akan segera selesai.' telah di tulis\n",
      "File 'application log' telah di tutup\n"
     ]
    }
   ],
   "source": [
    "class FileLongger:\n",
    "    def __init__(self, filename):\n",
    "        self.filename = filename\n",
    "        try :\n",
    "            self.file = open(filename, \"a\")\n",
    "            print(f\"File '{filename}' berhasil di buka unutk logging.\")\n",
    "        except Exception as e :\n",
    "            print(f\"Gagal membuka file '{filename}' : {e}\")\n",
    "\n",
    "    def write_log(self, massage):\n",
    "        self.file.write(massage + \"\\n\")\n",
    "        self.file.flush() #memastikan pesan langsung di tulis di disk\n",
    "        print(f\"Pesan log: '{massage}' telah di tulis\")\n",
    "\n",
    "    def __del__(self):\n",
    "        if hasattr(self, \"file\") and not self.file.closed:\n",
    "            self.file.close()\n",
    "            print(f\"File '{self.filename}' telah di tutup\")\n",
    "\n",
    "if __name__ == \"__main__\" :\n",
    "    longger = FileLongger(\"application log\")\n",
    "\n",
    "    longger.write_log(\"Aplikasi dimulai.\")\n",
    "    longger.write_log(\"Melakukan operasi A...\")\n",
    "    longger.write_log(\"Operasi A selesai.\")\n",
    "    longger.write_log(\"Aplikasi akan segera selesai.\")\n",
    "\n",
    "    del longger\n",
    "\n"
   ]
  },
  {
   "cell_type": "markdown",
   "id": "13446e82",
   "metadata": {},
   "source": [
    "### Praktikum 5 : Properti \"self\" pada kelas"
   ]
  },
  {
   "cell_type": "code",
   "execution_count": 8,
   "id": "eb135086",
   "metadata": {},
   "outputs": [
    {
     "name": "stdout",
     "output_type": "stream",
     "text": [
      "Kalkulator diinisialisasi dengan nilai: 10\n",
      "Setelah penambahan 5, nilai sekarang adalah : 15\n",
      "Setelah pengurangan 3, nilai sekarang adalah: 12\n",
      "Nilai saat ini adalah : 12\n",
      "\n",
      "Kalkulator diinisialisasi dengan nilai: 0\n",
      "Setelah penambahan 20, nilai sekarang adalah : 20\n",
      "Nilai saat ini adalah : 20\n"
     ]
    }
   ],
   "source": [
    "class Calculator :\n",
    "    def __init__(self, initial_value = 0):\n",
    "        self.value = initial_value\n",
    "        print(f\"Kalkulator diinisialisasi dengan nilai: {self.value}\")\n",
    "\n",
    "    def add(self, number):\n",
    "        self.value += number\n",
    "        print(f\"Setelah penambahan {number}, nilai sekarang adalah : {self.value}\")\n",
    "\n",
    "    def substract(self, number):\n",
    "        self.value -= number\n",
    "        print(f\"Setelah pengurangan {number}, nilai sekarang adalah: {self.value}\")\n",
    "\n",
    "    def riset(self):\n",
    "        self.value = 0\n",
    "        print(\"Nilai telah direset ke 0\")\n",
    "    \n",
    "    def show_value(self):\n",
    "        print(f\"Nilai saat ini adalah : {self.value}\")\n",
    "\n",
    "def main():\n",
    "    cal1 = Calculator(initial_value=10)\n",
    "\n",
    "    cal1.add(5)\n",
    "    cal1.substract(3)\n",
    "    cal1.show_value()\n",
    "\n",
    "    print()\n",
    "\n",
    "    cal2 = Calculator()\n",
    "    cal2.add(20)\n",
    "    cal2.show_value()\n",
    "\n",
    "if __name__ == \"__main__\":\n",
    "    main()"
   ]
  },
  {
   "cell_type": "markdown",
   "id": "536def73",
   "metadata": {},
   "source": [
    "### Praktikum 6 : Menggunakan setter, getter, dan dekorator @property unutk mengelola akses atribut"
   ]
  },
  {
   "cell_type": "code",
   "execution_count": 10,
   "id": "62cfaa76",
   "metadata": {},
   "outputs": [
    {
     "name": "stdout",
     "output_type": "stream",
     "text": [
      "Nama: Alice, Umur : 30\n",
      "Nama baru : Bob, Umur baru : 35\n",
      "Umur tidak boleh negatif !\n"
     ]
    }
   ],
   "source": [
    "class Person :\n",
    "    def __init__(self, name, age):\n",
    "        self.__name = name\n",
    "        self.__age = age\n",
    "\n",
    "    @property\n",
    "    def name(self):\n",
    "        return self.__name\n",
    "    \n",
    "    @name.setter\n",
    "    def name(self, value):\n",
    "        if not value :\n",
    "            print(\"Nama tidak boleh kosong\")\n",
    "        else :\n",
    "            self.__name = value\n",
    "\n",
    "    @property\n",
    "    def age(self):\n",
    "        return self.__age\n",
    "    \n",
    "    @age.setter\n",
    "    def age(self, value):\n",
    "        if value < 0:\n",
    "            print(\"Umur tidak boleh negatif !\")\n",
    "        else :\n",
    "            self.__age = value\n",
    "\n",
    "def main():\n",
    "    person = Person(\"Alice\", 30)\n",
    "    print(f\"Nama: {person.name}, Umur : {person.age}\")\n",
    "\n",
    "    #Mengubah nama\n",
    "    person.name = \"Bob\"\n",
    "    person.age = 35\n",
    "    print(f\"Nama baru : {person.name}, Umur baru : {person.age}\")\n",
    "\n",
    "    person.age = -5 \n",
    "\n",
    "if __name__ == \"__main__\":\n",
    "    main()"
   ]
  }
 ],
 "metadata": {
  "kernelspec": {
   "display_name": "base",
   "language": "python",
   "name": "python3"
  },
  "language_info": {
   "codemirror_mode": {
    "name": "ipython",
    "version": 3
   },
   "file_extension": ".py",
   "mimetype": "text/x-python",
   "name": "python",
   "nbconvert_exporter": "python",
   "pygments_lexer": "ipython3",
   "version": "3.12.3"
  }
 },
 "nbformat": 4,
 "nbformat_minor": 5
}
